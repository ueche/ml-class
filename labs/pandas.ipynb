{
  "cells": [
    {
      "cell_type": "markdown",
      "metadata": {
        "id": "Q-Rl8kzb5_52"
      },
      "source": [
        "# Intro to Pandas\n",
        "\n",
        "![](https://raw.githubusercontent.com/zacharski/datamining-guide/master/labs/pics/pandas-logo-2.png)\n",
        "\n",
        "<font size='0.85em'>(logo by [Marc Garcia](https://github.com/pandas-dev/pandas/blob/master/web/pandas/static/img/pandas.svg))</font> \n",
        "\n",
        "\n",
        "> A suggestion: This worksheet is organized in a way that, hopefully, best presents the topics and not in a way that is the most useful for reference. As you progress through this worksheet, your future you will find it useful if you create your own notes so that you can quickly find the relevant information. These notes might take the form of a separate Google Colab notebook or handwritten notes. In addition, just the activity of taking notes will help you retain the information.\n",
        "\n",
        "The Pandas Library is built on top of Numpy and is designed to make working with data fast and easy. Like Numpy, the library includes data structures and functions to manipulate that data.\n",
        "\n",
        "As we learned in the Numpy Notebook, we need to load in the library before we can use it."
      ]
    },
    {
      "cell_type": "code",
      "execution_count": 1,
      "metadata": {
        "id": "lppgxVqU5_57"
      },
      "outputs": [],
      "source": [
        "from pandas import Series, DataFrame\n",
        "import numpy as np\n",
        "import pandas as pd"
      ]
    },
    {
      "cell_type": "markdown",
      "metadata": {
        "id": "V5Th0Kjp5_5-"
      },
      "source": [
        "Let's dissect the code above.\n",
        "\n",
        "The `Series` and `DataFrame` datatypes are commonly used so we import them directly with\n",
        "\n",
        "```\n",
        "from pandas import Series, DataFrame\n",
        "```\n",
        "\n",
        "For all other datatypes and functions in the library, the `pd` prefix is commonly used so we import that with\n",
        "\n",
        "```\n",
        "import pandas as pd\n",
        "```\n",
        "\n",
        "## Series\n",
        "A series is a 1d array-like object\n",
        "\n",
        "Let's consider the heights (in cm) of the members of the Japan's Women's Basketball Team at the 2020 Olympics (they won the silver medal).      \n",
        "\n",
        "![](https://raw.githubusercontent.com/zacharski/datamining-guide/master/labs/pics/basketball2020.png)\n",
        "We can create a series in a number of ways.\n",
        "\n",
        "For example, we can create it directly from a Python list"
      ]
    },
    {
      "cell_type": "code",
      "execution_count": 2,
      "metadata": {
        "id": "sdvQNSrr5_5_"
      },
      "outputs": [],
      "source": [
        "japan = [183, 185, 167, 162, 165, 174, 173, 181, 167, 183, 185, 182] # a Python list\n",
        "athletesHeight = Series(japan) # converted to a Pandas Series"
      ]
    },
    {
      "cell_type": "markdown",
      "metadata": {
        "id": "Szaal64L5_5_"
      },
      "source": [
        "We could also have done"
      ]
    },
    {
      "cell_type": "code",
      "execution_count": 3,
      "metadata": {
        "id": "gqWTF-8H5_5_"
      },
      "outputs": [],
      "source": [
        "athletesHeight = Series([183, 185, 167, 162, 165, 174, 173, 181, 167, 183, 185, 182])"
      ]
    },
    {
      "cell_type": "markdown",
      "metadata": {
        "id": "x2gRLx7E5_6E"
      },
      "source": [
        "In either case we can see the value of the Series `athletesHeight`"
      ]
    },
    {
      "cell_type": "code",
      "execution_count": 4,
      "metadata": {
        "id": "TfYxpgAC5_6F",
        "outputId": "8a831fff-e0f8-45ed-8234-1c13d13c7669",
        "colab": {
          "base_uri": "https://localhost:8080/"
        }
      },
      "outputs": [
        {
          "output_type": "execute_result",
          "data": {
            "text/plain": [
              "0     183\n",
              "1     185\n",
              "2     167\n",
              "3     162\n",
              "4     165\n",
              "5     174\n",
              "6     173\n",
              "7     181\n",
              "8     167\n",
              "9     183\n",
              "10    185\n",
              "11    182\n",
              "dtype: int64"
            ]
          },
          "metadata": {},
          "execution_count": 4
        }
      ],
      "source": [
        " athletesHeight"
      ]
    },
    {
      "cell_type": "markdown",
      "metadata": {
        "id": "Ux4Jf9aP5_6G"
      },
      "source": [
        "You are probably familiar with arrays in programming languages and this works in a similar way. The left number is the index and the right the value. And we can find the value at a particular index by the usual:"
      ]
    },
    {
      "cell_type": "code",
      "execution_count": 5,
      "metadata": {
        "id": "OQBLBpQj5_6H",
        "outputId": "cd70c0b9-a86b-46d7-9f2b-8043bb1f14c0",
        "colab": {
          "base_uri": "https://localhost:8080/"
        }
      },
      "outputs": [
        {
          "output_type": "execute_result",
          "data": {
            "text/plain": [
              "162"
            ]
          },
          "metadata": {},
          "execution_count": 5
        }
      ],
      "source": [
        "athletesHeight[3]"
      ]
    },
    {
      "cell_type": "markdown",
      "metadata": {
        "collapsed": true,
        "id": "S9BpB2Mf5_6H"
      },
      "source": [
        "#### specifying indices\n",
        "Instead of the index 0, 1, 2, 3 ... you can specify your own index values. For example, we can label them 'Moeko Nagaoka', 'Maki Takada', 'Naho Miyoshi' ... etc. "
      ]
    },
    {
      "cell_type": "code",
      "execution_count": 6,
      "metadata": {
        "id": "-Enao90q5_6I",
        "outputId": "8a7f2dc1-a6ed-4c6c-d152-ddd05cbb2454",
        "colab": {
          "base_uri": "https://localhost:8080/"
        }
      },
      "outputs": [
        {
          "output_type": "execute_result",
          "data": {
            "text/plain": [
              "Moeko Nagaoka     183\n",
              "Maki Takada       185\n",
              "Naho Miyoshi      167\n",
              "Rui Machida       162\n",
              "Nako Motohashi    165\n",
              "Nanaka Todo       174\n",
              "Saki Hayashi      173\n",
              "Evelyn Mawuli     181\n",
              "Saori Miyazaki    167\n",
              "Yuki Miyazawa     183\n",
              "Himawari Akaho    185\n",
              "Monica Okoye      182\n",
              "dtype: int64"
            ]
          },
          "metadata": {},
          "execution_count": 6
        }
      ],
      "source": [
        "athletes2 = Series(japan, index = ['Moeko Nagaoka', 'Maki Takada', 'Naho Miyoshi', \n",
        "                                   'Rui Machida', 'Nako Motohashi', 'Nanaka Todo', \n",
        "                                   'Saki Hayashi','Evelyn Mawuli', 'Saori Miyazaki', 'Yuki Miyazawa', 'Himawari Akaho', \n",
        "                                   'Monica Okoye'])\n",
        "athletes2"
      ]
    },
    {
      "cell_type": "markdown",
      "metadata": {
        "id": "w6jOkNbJ5_6I"
      },
      "source": [
        "The names we see are not another column of the data. We can see the shape of athletes2 by:"
      ]
    },
    {
      "cell_type": "code",
      "execution_count": 7,
      "metadata": {
        "id": "s4zOW58H5_6I",
        "outputId": "f489a765-ad61-4601-86d5-d419a9893031",
        "colab": {
          "base_uri": "https://localhost:8080/"
        }
      },
      "outputs": [
        {
          "output_type": "execute_result",
          "data": {
            "text/plain": [
              "(12,)"
            ]
          },
          "metadata": {},
          "execution_count": 7
        }
      ],
      "source": [
        "athletes2.shape"
      ]
    },
    {
      "cell_type": "markdown",
      "metadata": {
        "id": "0Rbf4ALF5_6I"
      },
      "source": [
        "This shows that athletes2 is a one dimensional matrix and that dimension has a length of 12. So the names we see are not values in a column but rather the indices.\n",
        "\n",
        "\n",
        "Let's use the index to get the Height of Himawari Akaho:"
      ]
    },
    {
      "cell_type": "code",
      "execution_count": 8,
      "metadata": {
        "id": "qGSUN9nk5_6I",
        "outputId": "3cdbecf8-4ad2-4aeb-cbd8-c12b51a6ff11",
        "colab": {
          "base_uri": "https://localhost:8080/"
        }
      },
      "outputs": [
        {
          "output_type": "execute_result",
          "data": {
            "text/plain": [
              "185"
            ]
          },
          "metadata": {},
          "execution_count": 8
        }
      ],
      "source": [
        "athletes2['Himawari Akaho']"
      ]
    },
    {
      "cell_type": "markdown",
      "metadata": {
        "id": "jsnoRfoB5_6I"
      },
      "source": [
        "\n",
        "![](https://raw.githubusercontent.com/zacharski/datamining-guide/master/labs/pics/divider.png)\n",
        "## DataFrame\n",
        "DataFrames are **the most important data structure of Pandas** and are simply\n",
        "a table or spreadsheet like structure.  A DataFrame represents a table like:\n",
        "![](https://raw.githubusercontent.com/zacharski/datamining-guide/master/labs/pics/ioniq5s.png)\n",
        "\n",
        "Make | Drive | Range | Battery_kwH | PeakPower_kW | MPGe | 0-60\n",
        ":---- | :--- | ---: | ---: | ---: | ---: | ---:\n",
        "Ioniq 5 | AWD | 256 | 77.4 | 239 | 98 | 5.0\n",
        "Tesla Model 3 | AWD | 315 | 80 | 298 | 113 | 3.1\n",
        "Rivian R1T | AWD | 316 | 135 | 562 | 70 | 3.0 \n",
        "VW ID.4 | RWD | 260 | 82 | 260 | 107 |  7.7\n",
        "F150 Lightning | AWD | 230 | 110 | 318 | 68 | 4.0\n",
        "\n",
        "### Creating a DataFrame by Hand\n",
        "\n",
        "A common way to create a DataFrame is to use a Python dictionary as follows:"
      ]
    },
    {
      "cell_type": "code",
      "execution_count": 9,
      "metadata": {
        "id": "vrBTdvff5_6J"
      },
      "outputs": [],
      "source": [
        " cars = {'Make': ['Ioniq 5', 'Tesla Model 3', 'Rivian R1T', 'VW ID.4', 'F150 Lightning'],\n",
        "         'Drive': ['AWD', 'AWD', 'AWD', 'RWD', 'AWD'],\n",
        "         'Range': [256, 315, 316, 260, 230],\n",
        "         'Battery_kwH': [77.4, 80, 135, 82, 110],\n",
        "         'PeakPower_kW': [239, 298, 562, 260, 318],\n",
        "         'MPGe': [98, 113, 70, 107, 68],\n",
        "         '0-60': [5.0, 3.1, 3.0, 7.7, 4.0]}\n"
      ]
    },
    {
      "cell_type": "markdown",
      "metadata": {
        "id": "EdgC4ps_5_6J"
      },
      "source": [
        "and now we can create a DataFrame from the `cars` Python dictionary:"
      ]
    },
    {
      "cell_type": "code",
      "execution_count": 10,
      "metadata": {
        "id": "rXSEGWrE5_6J",
        "outputId": "1f332d58-025b-4fd2-9553-d402a7f93799",
        "colab": {
          "base_uri": "https://localhost:8080/",
          "height": 206
        }
      },
      "outputs": [
        {
          "output_type": "execute_result",
          "data": {
            "text/plain": [
              "             Make Drive  Range  Battery_kwH  PeakPower_kW  MPGe  0-60\n",
              "0         Ioniq 5   AWD    256         77.4           239    98   5.0\n",
              "1   Tesla Model 3   AWD    315         80.0           298   113   3.1\n",
              "2      Rivian R1T   AWD    316        135.0           562    70   3.0\n",
              "3         VW ID.4   RWD    260         82.0           260   107   7.7\n",
              "4  F150 Lightning   AWD    230        110.0           318    68   4.0"
            ],
            "text/html": [
              "\n",
              "  <div id=\"df-e68cf097-146b-40a4-8db1-50f6de15ee43\">\n",
              "    <div class=\"colab-df-container\">\n",
              "      <div>\n",
              "<style scoped>\n",
              "    .dataframe tbody tr th:only-of-type {\n",
              "        vertical-align: middle;\n",
              "    }\n",
              "\n",
              "    .dataframe tbody tr th {\n",
              "        vertical-align: top;\n",
              "    }\n",
              "\n",
              "    .dataframe thead th {\n",
              "        text-align: right;\n",
              "    }\n",
              "</style>\n",
              "<table border=\"1\" class=\"dataframe\">\n",
              "  <thead>\n",
              "    <tr style=\"text-align: right;\">\n",
              "      <th></th>\n",
              "      <th>Make</th>\n",
              "      <th>Drive</th>\n",
              "      <th>Range</th>\n",
              "      <th>Battery_kwH</th>\n",
              "      <th>PeakPower_kW</th>\n",
              "      <th>MPGe</th>\n",
              "      <th>0-60</th>\n",
              "    </tr>\n",
              "  </thead>\n",
              "  <tbody>\n",
              "    <tr>\n",
              "      <th>0</th>\n",
              "      <td>Ioniq 5</td>\n",
              "      <td>AWD</td>\n",
              "      <td>256</td>\n",
              "      <td>77.4</td>\n",
              "      <td>239</td>\n",
              "      <td>98</td>\n",
              "      <td>5.0</td>\n",
              "    </tr>\n",
              "    <tr>\n",
              "      <th>1</th>\n",
              "      <td>Tesla Model 3</td>\n",
              "      <td>AWD</td>\n",
              "      <td>315</td>\n",
              "      <td>80.0</td>\n",
              "      <td>298</td>\n",
              "      <td>113</td>\n",
              "      <td>3.1</td>\n",
              "    </tr>\n",
              "    <tr>\n",
              "      <th>2</th>\n",
              "      <td>Rivian R1T</td>\n",
              "      <td>AWD</td>\n",
              "      <td>316</td>\n",
              "      <td>135.0</td>\n",
              "      <td>562</td>\n",
              "      <td>70</td>\n",
              "      <td>3.0</td>\n",
              "    </tr>\n",
              "    <tr>\n",
              "      <th>3</th>\n",
              "      <td>VW ID.4</td>\n",
              "      <td>RWD</td>\n",
              "      <td>260</td>\n",
              "      <td>82.0</td>\n",
              "      <td>260</td>\n",
              "      <td>107</td>\n",
              "      <td>7.7</td>\n",
              "    </tr>\n",
              "    <tr>\n",
              "      <th>4</th>\n",
              "      <td>F150 Lightning</td>\n",
              "      <td>AWD</td>\n",
              "      <td>230</td>\n",
              "      <td>110.0</td>\n",
              "      <td>318</td>\n",
              "      <td>68</td>\n",
              "      <td>4.0</td>\n",
              "    </tr>\n",
              "  </tbody>\n",
              "</table>\n",
              "</div>\n",
              "      <button class=\"colab-df-convert\" onclick=\"convertToInteractive('df-e68cf097-146b-40a4-8db1-50f6de15ee43')\"\n",
              "              title=\"Convert this dataframe to an interactive table.\"\n",
              "              style=\"display:none;\">\n",
              "        \n",
              "  <svg xmlns=\"http://www.w3.org/2000/svg\" height=\"24px\"viewBox=\"0 0 24 24\"\n",
              "       width=\"24px\">\n",
              "    <path d=\"M0 0h24v24H0V0z\" fill=\"none\"/>\n",
              "    <path d=\"M18.56 5.44l.94 2.06.94-2.06 2.06-.94-2.06-.94-.94-2.06-.94 2.06-2.06.94zm-11 1L8.5 8.5l.94-2.06 2.06-.94-2.06-.94L8.5 2.5l-.94 2.06-2.06.94zm10 10l.94 2.06.94-2.06 2.06-.94-2.06-.94-.94-2.06-.94 2.06-2.06.94z\"/><path d=\"M17.41 7.96l-1.37-1.37c-.4-.4-.92-.59-1.43-.59-.52 0-1.04.2-1.43.59L10.3 9.45l-7.72 7.72c-.78.78-.78 2.05 0 2.83L4 21.41c.39.39.9.59 1.41.59.51 0 1.02-.2 1.41-.59l7.78-7.78 2.81-2.81c.8-.78.8-2.07 0-2.86zM5.41 20L4 18.59l7.72-7.72 1.47 1.35L5.41 20z\"/>\n",
              "  </svg>\n",
              "      </button>\n",
              "      \n",
              "  <style>\n",
              "    .colab-df-container {\n",
              "      display:flex;\n",
              "      flex-wrap:wrap;\n",
              "      gap: 12px;\n",
              "    }\n",
              "\n",
              "    .colab-df-convert {\n",
              "      background-color: #E8F0FE;\n",
              "      border: none;\n",
              "      border-radius: 50%;\n",
              "      cursor: pointer;\n",
              "      display: none;\n",
              "      fill: #1967D2;\n",
              "      height: 32px;\n",
              "      padding: 0 0 0 0;\n",
              "      width: 32px;\n",
              "    }\n",
              "\n",
              "    .colab-df-convert:hover {\n",
              "      background-color: #E2EBFA;\n",
              "      box-shadow: 0px 1px 2px rgba(60, 64, 67, 0.3), 0px 1px 3px 1px rgba(60, 64, 67, 0.15);\n",
              "      fill: #174EA6;\n",
              "    }\n",
              "\n",
              "    [theme=dark] .colab-df-convert {\n",
              "      background-color: #3B4455;\n",
              "      fill: #D2E3FC;\n",
              "    }\n",
              "\n",
              "    [theme=dark] .colab-df-convert:hover {\n",
              "      background-color: #434B5C;\n",
              "      box-shadow: 0px 1px 3px 1px rgba(0, 0, 0, 0.15);\n",
              "      filter: drop-shadow(0px 1px 2px rgba(0, 0, 0, 0.3));\n",
              "      fill: #FFFFFF;\n",
              "    }\n",
              "  </style>\n",
              "\n",
              "      <script>\n",
              "        const buttonEl =\n",
              "          document.querySelector('#df-e68cf097-146b-40a4-8db1-50f6de15ee43 button.colab-df-convert');\n",
              "        buttonEl.style.display =\n",
              "          google.colab.kernel.accessAllowed ? 'block' : 'none';\n",
              "\n",
              "        async function convertToInteractive(key) {\n",
              "          const element = document.querySelector('#df-e68cf097-146b-40a4-8db1-50f6de15ee43');\n",
              "          const dataTable =\n",
              "            await google.colab.kernel.invokeFunction('convertToInteractive',\n",
              "                                                     [key], {});\n",
              "          if (!dataTable) return;\n",
              "\n",
              "          const docLinkHtml = 'Like what you see? Visit the ' +\n",
              "            '<a target=\"_blank\" href=https://colab.research.google.com/notebooks/data_table.ipynb>data table notebook</a>'\n",
              "            + ' to learn more about interactive tables.';\n",
              "          element.innerHTML = '';\n",
              "          dataTable['output_type'] = 'display_data';\n",
              "          await google.colab.output.renderOutput(dataTable, element);\n",
              "          const docLink = document.createElement('div');\n",
              "          docLink.innerHTML = docLinkHtml;\n",
              "          element.appendChild(docLink);\n",
              "        }\n",
              "      </script>\n",
              "    </div>\n",
              "  </div>\n",
              "  "
            ]
          },
          "metadata": {},
          "execution_count": 10
        }
      ],
      "source": [
        "df = DataFrame(cars)\n",
        "df\n"
      ]
    },
    {
      "cell_type": "markdown",
      "metadata": {
        "id": "jEg3Sf9b5_6L"
      },
      "source": [
        "Prior to my life with Pandas, I would represent a table like the above one as:"
      ]
    },
    {
      "cell_type": "code",
      "execution_count": 11,
      "metadata": {
        "id": "S9ZOpv1s5_6N",
        "outputId": "82bf10a8-fb1f-4244-d169-44c733f86b9e",
        "colab": {
          "base_uri": "https://localhost:8080/",
          "height": 35
        }
      },
      "outputs": [
        {
          "output_type": "execute_result",
          "data": {
            "text/plain": [
              "'Ioniq 5'"
            ],
            "application/vnd.google.colaboratory.intrinsic+json": {
              "type": "string"
            }
          },
          "metadata": {},
          "execution_count": 11
        }
      ],
      "source": [
        "prePandas = [{'Make': 'Ioniq 5', 'Drive': 'AWD', 'Range': 256, 'Battery_kwH': 77.4, 'PeakPower_kW': 98, 'MPGe': 98, '0-60': 5.0},\n",
        "             {'Make': 'Tesla Model 3', 'Drive': 'AWD', 'Range': 315, 'Battery_kwH': 80.0, 'PeakPower_kW': 113,'MPGe': 113, '0-60': 3.1},\n",
        "             {'Make': 'Rivian R1T', 'Drive': 'AWD', 'Range': 316, 'Battery_kwH': 135.0, 'PeakPower_kW': 562,'MPGe': 70, '0-60': 3.0},\n",
        "             {'Make': 'VW ID.4', 'Drive': 'RWD', 'Range': 260, 'Battery_kwH': 82.0, 'PeakPower_kW': 260,'MPGe': 107, '0-60': 7.7},\n",
        "             {'Make': 'F150 Lightning', 'Drive': 'AWD', 'Range': 230, 'Battery_kwH': 110.0, 'PeakPower_kW': 318,'MPGe': 68, '0-60': 4.0}]\n",
        "\n",
        "\n",
        "prePandas[0]['Make']"
      ]
    },
    {
      "cell_type": "markdown",
      "metadata": {
        "id": "nn_l6LeM5_6N"
      },
      "source": [
        "In the prePandas scheme the data is organized first by rows. That seemed logical to me since each row represents an object and is how we organize data in an SQL database. In the Pandas representation the data is organized by columns. \n"
      ]
    },
    {
      "cell_type": "markdown",
      "metadata": {
        "id": "jF0ki9F-5_6R"
      },
      "source": [
        "\n",
        "![](https://raw.githubusercontent.com/zacharski/datamining-guide/master/labs/pics/divider.png)\n",
        "\n",
        "## Reading data from a csv file:\n",
        "\n",
        "A CSV file (comma separated values) is a common data format for data science files. As| the name suggests, the data values in a row are separated by commas. For example, the data file to represent the table:\n",
        "\n",
        "\n",
        "Make | Drive | Range | Battery_kwH | PeakPower_kW | MPGe | 0-60\n",
        ":---- | :--- | ---: | ---: | ---: | ---: | ---:\n",
        "Ioniq 5 | AWD | 256 | 77.4 | 239 | 98 | 5.0\n",
        "Tesla Model 3 | AWD | 315 | 80 | 298 | 113 | 3.1\n",
        "Rivian R1T | AWD | 316 | 135 | 562 | 70 | 3.0 \n",
        "VW ID.4 | RWD | 260 | 82 | 260 | 107 |  7.7\n",
        "F150 Lightning | AWD | 230 | 110 | 318 | 68 | 4.0\n",
        "\n",
        "\n",
        "would be\n",
        "\n",
        "```\n",
        "Make,Drive,Range,Battery_kwH,PeakPower_kW,MPGe,0-60\n",
        "Ioniq 5,AWD,256,77.4,239,98,5.0\n",
        "Tesla Model 3,AWD,315,80,298,113,3.1\n",
        "Rivian R1T,AWD,316,135,562,70,3.0 \n",
        "VW ID.4,RWD,260,82,260,107,7.7\n",
        "F150 Lightning,AWD,230,110,318,68,4.0\n",
        "\n",
        "```\n",
        "\n",
        "\n",
        "As the name suggests, we use the `pd.read_csv` function to read a csv file.  `pd.read_csv` can read a csv file from either your local machine or the web. Let's start with the web.\n",
        "\n",
        "### Reading a CSV file from the web.\n",
        "To read a file from the web, we simply provide a URL:\n"
      ]
    },
    {
      "cell_type": "code",
      "execution_count": 12,
      "metadata": {
        "id": "aI_DSjQi5_6S",
        "outputId": "adb7b1b9-0ad8-46e0-ffb0-e0d7fdc673d1",
        "colab": {
          "base_uri": "https://localhost:8080/",
          "height": 713
        }
      },
      "outputs": [
        {
          "output_type": "execute_result",
          "data": {
            "text/plain": [
              "          Brand                            Model  AccelSec  TopSpeed_KmH  \\\n",
              "0         Tesla    Model 3 Long Range Dual Motor       4.6           233   \n",
              "1    Volkswagen                        ID.3 Pure      10.0           160   \n",
              "2      Polestar                                2       4.7           210   \n",
              "3           BMW                              iX3       6.8           180   \n",
              "4         Honda                                e       9.5           145   \n",
              "..          ...                              ...       ...           ...   \n",
              "101      Nissan  Ariya e-4ORCE 87kWh Performance       5.1           200   \n",
              "102       Byton                M-Byte 95 kWh 2WD       7.5           190   \n",
              "103      Rivian                              R1T       3.0           185   \n",
              "104         GMC                        Hummer EV       3.0           171   \n",
              "105        Ford                   F150 Lightning       3.0           180   \n",
              "\n",
              "     Range_Km  Efficiency_WhKm FastCharge_KmH RapidCharge PowerTrain  \\\n",
              "0         450              161            940         Yes        AWD   \n",
              "1         270              167            250         Yes        RWD   \n",
              "2         400              181            620         Yes        AWD   \n",
              "3         360              206            560         Yes        RWD   \n",
              "4         170              168            190         Yes        RWD   \n",
              "..        ...              ...            ...         ...        ...   \n",
              "101       375              232            450         Yes        AWD   \n",
              "102       400              238            480         Yes        AWD   \n",
              "103       505              299            337         Yes        AWD   \n",
              "104       529              446           250          Yes        AWD   \n",
              "105       514              299           309          Yes        AWD   \n",
              "\n",
              "       PlugType  BodyStyle Segment  Seats PriceEuro  \n",
              "0    Type 2 CCS      Sedan       D      5     55480  \n",
              "1    Type 2 CCS  Hatchback       C      5     30000  \n",
              "2    Type 2 CCS   Liftback       D      5     56440  \n",
              "3    Type 2 CCS        SUV       D      5     68040  \n",
              "4    Type 2 CCS  Hatchback       B      4     32997  \n",
              "..          ...        ...     ...    ...       ...  \n",
              "101  Type 2 CCS  Hatchback       C      5     65000  \n",
              "102  Type 2 CCS        SUV       E      5     62000  \n",
              "103  Type 2 CCS     Pickup       N      6     75000  \n",
              "104  Type 2 CCS      Truck       E      5         -  \n",
              "105  Type 2 CCS      Truck       E      5         -  \n",
              "\n",
              "[106 rows x 14 columns]"
            ],
            "text/html": [
              "\n",
              "  <div id=\"df-b25b2275-b07f-4e5b-8ac3-3adaa6e90ad2\">\n",
              "    <div class=\"colab-df-container\">\n",
              "      <div>\n",
              "<style scoped>\n",
              "    .dataframe tbody tr th:only-of-type {\n",
              "        vertical-align: middle;\n",
              "    }\n",
              "\n",
              "    .dataframe tbody tr th {\n",
              "        vertical-align: top;\n",
              "    }\n",
              "\n",
              "    .dataframe thead th {\n",
              "        text-align: right;\n",
              "    }\n",
              "</style>\n",
              "<table border=\"1\" class=\"dataframe\">\n",
              "  <thead>\n",
              "    <tr style=\"text-align: right;\">\n",
              "      <th></th>\n",
              "      <th>Brand</th>\n",
              "      <th>Model</th>\n",
              "      <th>AccelSec</th>\n",
              "      <th>TopSpeed_KmH</th>\n",
              "      <th>Range_Km</th>\n",
              "      <th>Efficiency_WhKm</th>\n",
              "      <th>FastCharge_KmH</th>\n",
              "      <th>RapidCharge</th>\n",
              "      <th>PowerTrain</th>\n",
              "      <th>PlugType</th>\n",
              "      <th>BodyStyle</th>\n",
              "      <th>Segment</th>\n",
              "      <th>Seats</th>\n",
              "      <th>PriceEuro</th>\n",
              "    </tr>\n",
              "  </thead>\n",
              "  <tbody>\n",
              "    <tr>\n",
              "      <th>0</th>\n",
              "      <td>Tesla</td>\n",
              "      <td>Model 3 Long Range Dual Motor</td>\n",
              "      <td>4.6</td>\n",
              "      <td>233</td>\n",
              "      <td>450</td>\n",
              "      <td>161</td>\n",
              "      <td>940</td>\n",
              "      <td>Yes</td>\n",
              "      <td>AWD</td>\n",
              "      <td>Type 2 CCS</td>\n",
              "      <td>Sedan</td>\n",
              "      <td>D</td>\n",
              "      <td>5</td>\n",
              "      <td>55480</td>\n",
              "    </tr>\n",
              "    <tr>\n",
              "      <th>1</th>\n",
              "      <td>Volkswagen</td>\n",
              "      <td>ID.3 Pure</td>\n",
              "      <td>10.0</td>\n",
              "      <td>160</td>\n",
              "      <td>270</td>\n",
              "      <td>167</td>\n",
              "      <td>250</td>\n",
              "      <td>Yes</td>\n",
              "      <td>RWD</td>\n",
              "      <td>Type 2 CCS</td>\n",
              "      <td>Hatchback</td>\n",
              "      <td>C</td>\n",
              "      <td>5</td>\n",
              "      <td>30000</td>\n",
              "    </tr>\n",
              "    <tr>\n",
              "      <th>2</th>\n",
              "      <td>Polestar</td>\n",
              "      <td>2</td>\n",
              "      <td>4.7</td>\n",
              "      <td>210</td>\n",
              "      <td>400</td>\n",
              "      <td>181</td>\n",
              "      <td>620</td>\n",
              "      <td>Yes</td>\n",
              "      <td>AWD</td>\n",
              "      <td>Type 2 CCS</td>\n",
              "      <td>Liftback</td>\n",
              "      <td>D</td>\n",
              "      <td>5</td>\n",
              "      <td>56440</td>\n",
              "    </tr>\n",
              "    <tr>\n",
              "      <th>3</th>\n",
              "      <td>BMW</td>\n",
              "      <td>iX3</td>\n",
              "      <td>6.8</td>\n",
              "      <td>180</td>\n",
              "      <td>360</td>\n",
              "      <td>206</td>\n",
              "      <td>560</td>\n",
              "      <td>Yes</td>\n",
              "      <td>RWD</td>\n",
              "      <td>Type 2 CCS</td>\n",
              "      <td>SUV</td>\n",
              "      <td>D</td>\n",
              "      <td>5</td>\n",
              "      <td>68040</td>\n",
              "    </tr>\n",
              "    <tr>\n",
              "      <th>4</th>\n",
              "      <td>Honda</td>\n",
              "      <td>e</td>\n",
              "      <td>9.5</td>\n",
              "      <td>145</td>\n",
              "      <td>170</td>\n",
              "      <td>168</td>\n",
              "      <td>190</td>\n",
              "      <td>Yes</td>\n",
              "      <td>RWD</td>\n",
              "      <td>Type 2 CCS</td>\n",
              "      <td>Hatchback</td>\n",
              "      <td>B</td>\n",
              "      <td>4</td>\n",
              "      <td>32997</td>\n",
              "    </tr>\n",
              "    <tr>\n",
              "      <th>...</th>\n",
              "      <td>...</td>\n",
              "      <td>...</td>\n",
              "      <td>...</td>\n",
              "      <td>...</td>\n",
              "      <td>...</td>\n",
              "      <td>...</td>\n",
              "      <td>...</td>\n",
              "      <td>...</td>\n",
              "      <td>...</td>\n",
              "      <td>...</td>\n",
              "      <td>...</td>\n",
              "      <td>...</td>\n",
              "      <td>...</td>\n",
              "      <td>...</td>\n",
              "    </tr>\n",
              "    <tr>\n",
              "      <th>101</th>\n",
              "      <td>Nissan</td>\n",
              "      <td>Ariya e-4ORCE 87kWh Performance</td>\n",
              "      <td>5.1</td>\n",
              "      <td>200</td>\n",
              "      <td>375</td>\n",
              "      <td>232</td>\n",
              "      <td>450</td>\n",
              "      <td>Yes</td>\n",
              "      <td>AWD</td>\n",
              "      <td>Type 2 CCS</td>\n",
              "      <td>Hatchback</td>\n",
              "      <td>C</td>\n",
              "      <td>5</td>\n",
              "      <td>65000</td>\n",
              "    </tr>\n",
              "    <tr>\n",
              "      <th>102</th>\n",
              "      <td>Byton</td>\n",
              "      <td>M-Byte 95 kWh 2WD</td>\n",
              "      <td>7.5</td>\n",
              "      <td>190</td>\n",
              "      <td>400</td>\n",
              "      <td>238</td>\n",
              "      <td>480</td>\n",
              "      <td>Yes</td>\n",
              "      <td>AWD</td>\n",
              "      <td>Type 2 CCS</td>\n",
              "      <td>SUV</td>\n",
              "      <td>E</td>\n",
              "      <td>5</td>\n",
              "      <td>62000</td>\n",
              "    </tr>\n",
              "    <tr>\n",
              "      <th>103</th>\n",
              "      <td>Rivian</td>\n",
              "      <td>R1T</td>\n",
              "      <td>3.0</td>\n",
              "      <td>185</td>\n",
              "      <td>505</td>\n",
              "      <td>299</td>\n",
              "      <td>337</td>\n",
              "      <td>Yes</td>\n",
              "      <td>AWD</td>\n",
              "      <td>Type 2 CCS</td>\n",
              "      <td>Pickup</td>\n",
              "      <td>N</td>\n",
              "      <td>6</td>\n",
              "      <td>75000</td>\n",
              "    </tr>\n",
              "    <tr>\n",
              "      <th>104</th>\n",
              "      <td>GMC</td>\n",
              "      <td>Hummer EV</td>\n",
              "      <td>3.0</td>\n",
              "      <td>171</td>\n",
              "      <td>529</td>\n",
              "      <td>446</td>\n",
              "      <td>250</td>\n",
              "      <td>Yes</td>\n",
              "      <td>AWD</td>\n",
              "      <td>Type 2 CCS</td>\n",
              "      <td>Truck</td>\n",
              "      <td>E</td>\n",
              "      <td>5</td>\n",
              "      <td>-</td>\n",
              "    </tr>\n",
              "    <tr>\n",
              "      <th>105</th>\n",
              "      <td>Ford</td>\n",
              "      <td>F150 Lightning</td>\n",
              "      <td>3.0</td>\n",
              "      <td>180</td>\n",
              "      <td>514</td>\n",
              "      <td>299</td>\n",
              "      <td>309</td>\n",
              "      <td>Yes</td>\n",
              "      <td>AWD</td>\n",
              "      <td>Type 2 CCS</td>\n",
              "      <td>Truck</td>\n",
              "      <td>E</td>\n",
              "      <td>5</td>\n",
              "      <td>-</td>\n",
              "    </tr>\n",
              "  </tbody>\n",
              "</table>\n",
              "<p>106 rows × 14 columns</p>\n",
              "</div>\n",
              "      <button class=\"colab-df-convert\" onclick=\"convertToInteractive('df-b25b2275-b07f-4e5b-8ac3-3adaa6e90ad2')\"\n",
              "              title=\"Convert this dataframe to an interactive table.\"\n",
              "              style=\"display:none;\">\n",
              "        \n",
              "  <svg xmlns=\"http://www.w3.org/2000/svg\" height=\"24px\"viewBox=\"0 0 24 24\"\n",
              "       width=\"24px\">\n",
              "    <path d=\"M0 0h24v24H0V0z\" fill=\"none\"/>\n",
              "    <path d=\"M18.56 5.44l.94 2.06.94-2.06 2.06-.94-2.06-.94-.94-2.06-.94 2.06-2.06.94zm-11 1L8.5 8.5l.94-2.06 2.06-.94-2.06-.94L8.5 2.5l-.94 2.06-2.06.94zm10 10l.94 2.06.94-2.06 2.06-.94-2.06-.94-.94-2.06-.94 2.06-2.06.94z\"/><path d=\"M17.41 7.96l-1.37-1.37c-.4-.4-.92-.59-1.43-.59-.52 0-1.04.2-1.43.59L10.3 9.45l-7.72 7.72c-.78.78-.78 2.05 0 2.83L4 21.41c.39.39.9.59 1.41.59.51 0 1.02-.2 1.41-.59l7.78-7.78 2.81-2.81c.8-.78.8-2.07 0-2.86zM5.41 20L4 18.59l7.72-7.72 1.47 1.35L5.41 20z\"/>\n",
              "  </svg>\n",
              "      </button>\n",
              "      \n",
              "  <style>\n",
              "    .colab-df-container {\n",
              "      display:flex;\n",
              "      flex-wrap:wrap;\n",
              "      gap: 12px;\n",
              "    }\n",
              "\n",
              "    .colab-df-convert {\n",
              "      background-color: #E8F0FE;\n",
              "      border: none;\n",
              "      border-radius: 50%;\n",
              "      cursor: pointer;\n",
              "      display: none;\n",
              "      fill: #1967D2;\n",
              "      height: 32px;\n",
              "      padding: 0 0 0 0;\n",
              "      width: 32px;\n",
              "    }\n",
              "\n",
              "    .colab-df-convert:hover {\n",
              "      background-color: #E2EBFA;\n",
              "      box-shadow: 0px 1px 2px rgba(60, 64, 67, 0.3), 0px 1px 3px 1px rgba(60, 64, 67, 0.15);\n",
              "      fill: #174EA6;\n",
              "    }\n",
              "\n",
              "    [theme=dark] .colab-df-convert {\n",
              "      background-color: #3B4455;\n",
              "      fill: #D2E3FC;\n",
              "    }\n",
              "\n",
              "    [theme=dark] .colab-df-convert:hover {\n",
              "      background-color: #434B5C;\n",
              "      box-shadow: 0px 1px 3px 1px rgba(0, 0, 0, 0.15);\n",
              "      filter: drop-shadow(0px 1px 2px rgba(0, 0, 0, 0.3));\n",
              "      fill: #FFFFFF;\n",
              "    }\n",
              "  </style>\n",
              "\n",
              "      <script>\n",
              "        const buttonEl =\n",
              "          document.querySelector('#df-b25b2275-b07f-4e5b-8ac3-3adaa6e90ad2 button.colab-df-convert');\n",
              "        buttonEl.style.display =\n",
              "          google.colab.kernel.accessAllowed ? 'block' : 'none';\n",
              "\n",
              "        async function convertToInteractive(key) {\n",
              "          const element = document.querySelector('#df-b25b2275-b07f-4e5b-8ac3-3adaa6e90ad2');\n",
              "          const dataTable =\n",
              "            await google.colab.kernel.invokeFunction('convertToInteractive',\n",
              "                                                     [key], {});\n",
              "          if (!dataTable) return;\n",
              "\n",
              "          const docLinkHtml = 'Like what you see? Visit the ' +\n",
              "            '<a target=\"_blank\" href=https://colab.research.google.com/notebooks/data_table.ipynb>data table notebook</a>'\n",
              "            + ' to learn more about interactive tables.';\n",
              "          element.innerHTML = '';\n",
              "          dataTable['output_type'] = 'display_data';\n",
              "          await google.colab.output.renderOutput(dataTable, element);\n",
              "          const docLink = document.createElement('div');\n",
              "          docLink.innerHTML = docLinkHtml;\n",
              "          element.appendChild(docLink);\n",
              "        }\n",
              "      </script>\n",
              "    </div>\n",
              "  </div>\n",
              "  "
            ]
          },
          "metadata": {},
          "execution_count": 12
        }
      ],
      "source": [
        "evs = pd.read_csv('https://raw.githubusercontent.com/zacharski/datamining-guide/main/data/ElectricCarData_Clean.csv')\n",
        "evs"
      ]
    },
    {
      "cell_type": "markdown",
      "metadata": {
        "id": "yzGCv3ub5_6S"
      },
      "source": [
        "Sometimes the csv file has a header row as was the case in the example above. That file starts with the line\n",
        "```\n",
        "Brand,Model,AccelSec,TopSpeed_KmH,Range_Km,Efficiency_WhKm,FastCharge_KmH,RapidCharge,PowerTrain,PlugType,BodyStyle,Segment,Seats,PriceEuro\n",
        "```\n",
        "as we can see by using `curl`\n",
        "\n"
      ]
    },
    {
      "cell_type": "code",
      "execution_count": 13,
      "metadata": {
        "id": "fdv2ZbES5_6S",
        "outputId": "afb55013-a5ea-4a7f-94f0-99a796e1760c",
        "colab": {
          "base_uri": "https://localhost:8080/"
        }
      },
      "outputs": [
        {
          "output_type": "stream",
          "name": "stdout",
          "text": [
            "Brand,Model,AccelSec,TopSpeed_KmH,Range_Km,Efficiency_WhKm,FastCharge_KmH,RapidCharge,PowerTrain,PlugType,BodyStyle,Segment,Seats,PriceEuro\r\n",
            "Tesla,Model 3 Long Range Dual Motor,4.6,233,450,161,940,Yes,AWD,Type 2 CCS,Sedan,D,5,55480\r\n",
            "Volkswagen,ID.3 Pure,10,160,270,167,250,Yes,RWD,Type 2 CCS,Hatchback,C,5,30000\r\n",
            "Polestar,2,4.7,210,400,181,620,Yes,AWD,Type 2 CCS,Liftback,D,5,56440\r\n",
            "BMW,iX3,6.8,180,360,206,560,Yes,RWD,Type 2 CCS,SUV,D,5,68040\r\n",
            "Honda,e,9.5,145,170,168,190,Yes,RWD,Type 2 CCS,Hatchback,B,4,32997\r\n",
            "Lucid,Air,2.8,250,610,180,620,Yes,AWD,Type 2 CCS,Sedan,F,5,105000\r\n",
            "Volkswagen,e-Golf,9.6,150,190,168,220,Yes,FWD,Type 2 CCS,Hatchback,C,5,31900\r\n",
            "Peugeot,e-208,8.1,150,275,164,420,Yes,FWD,Type 2 CCS,Hatchback,B,5,29682\r\n",
            "Tesla,Model 3 Standard Range Plus,5.6,225,310,153,650,Yes,RWD,Type 2 CCS,Sedan,D,5,46380\r\n"
          ]
        }
      ],
      "source": [
        "!curl -s https://raw.githubusercontent.com/zacharski/datamining-guide/main/data/ElectricCarData_Clean.csv |  head"
      ]
    },
    {
      "cell_type": "markdown",
      "metadata": {
        "id": "5efST_F75_6S"
      },
      "source": [
        "**An aside**\n",
        "\n",
        "We can preface any Unix command with a bang (!) to have it execute in our Notebook.  This is amazingly handy:\n",
        "\n"
      ]
    },
    {
      "cell_type": "code",
      "execution_count": 14,
      "metadata": {
        "id": "5uwwuq_05_6S",
        "outputId": "5f87aec3-680e-49e6-b8f8-fe028597bb1c",
        "colab": {
          "base_uri": "https://localhost:8080/"
        }
      },
      "outputs": [
        {
          "output_type": "stream",
          "name": "stdout",
          "text": [
            "sample_data\n"
          ]
        }
      ],
      "source": [
        "!ls"
      ]
    },
    {
      "cell_type": "code",
      "execution_count": 15,
      "metadata": {
        "id": "yIffxBbG5_6S",
        "outputId": "9e190b73-a6f4-4131-f157-cd66c6054f31",
        "colab": {
          "base_uri": "https://localhost:8080/"
        }
      },
      "outputs": [
        {
          "output_type": "stream",
          "name": "stdout",
          "text": [
            "/content\n"
          ]
        }
      ],
      "source": [
        "!pwd"
      ]
    },
    {
      "cell_type": "markdown",
      "metadata": {
        "id": "crLbUs435_6S"
      },
      "source": [
        "### Files with No Header Row\n",
        "Sometimes the csv file does not have a header row. So for example, data might start on the very first line of the file\n",
        "\n",
        "```\n",
        "Tesla ,Model 3 Long Range Dual Motor,4.6,233,450,161,940,Yes,AWD,Type 2 CCS,Sedan,D,5,55480\n",
        "Volkswagen ,ID.3 Pure,10,160,270,167,250,Yes,RWD,Type 2 CCS,Hatchback,C,5,30000\n",
        "Polestar ,2,4.7,210,400,181,620,Yes,AWD,Type 2 CCS,Liftback,D,5,56440\n",
        "```\n",
        "\n",
        "In that case you specify the names of the columns using the `names` parameter:"
      ]
    },
    {
      "cell_type": "code",
      "execution_count": 16,
      "metadata": {
        "id": "fZdLb0Fb5_6S",
        "outputId": "f1bb5ef9-7cad-4569-d11f-7c0380298887",
        "colab": {
          "base_uri": "https://localhost:8080/",
          "height": 748
        }
      },
      "outputs": [
        {
          "output_type": "execute_result",
          "data": {
            "text/plain": [
              "           Brand                            Model  AccelSec  TopSpeed_KmH  \\\n",
              "0         Tesla     Model 3 Long Range Dual Motor       4.6           233   \n",
              "1    Volkswagen                         ID.3 Pure      10.0           160   \n",
              "2      Polestar                                 2       4.7           210   \n",
              "3           BMW                              iX3        6.8           180   \n",
              "4         Honda                                e        9.5           145   \n",
              "..           ...                              ...       ...           ...   \n",
              "98       Nissan                       Ariya 63kWh       7.5           160   \n",
              "99         Audi     e-tron S Sportback 55 quattro       4.5           210   \n",
              "100      Nissan               Ariya e-4ORCE 63kWh       5.9           200   \n",
              "101      Nissan   Ariya e-4ORCE 87kWh Performance       5.1           200   \n",
              "102       Byton                 M-Byte 95 kWh 2WD       7.5           190   \n",
              "\n",
              "     Range_Km  Efficiency_WhKm FastCharge_KmH RapidCharge PowerTrain  \\\n",
              "0         450              161            940         Yes        AWD   \n",
              "1         270              167            250         Yes        RWD   \n",
              "2         400              181            620         Yes        AWD   \n",
              "3         360              206            560         Yes        RWD   \n",
              "4         170              168            190         Yes        RWD   \n",
              "..        ...              ...            ...         ...        ...   \n",
              "98        330              191            440         Yes        FWD   \n",
              "99        335              258            540         Yes        AWD   \n",
              "100       325              194            440         Yes        AWD   \n",
              "101       375              232            450         Yes        AWD   \n",
              "102       400              238            480         Yes        AWD   \n",
              "\n",
              "       PlugType  BodyStyle Segment  Seats  PriceEuro  \n",
              "0    Type 2 CCS      Sedan       D      5      55480  \n",
              "1    Type 2 CCS  Hatchback       C      5      30000  \n",
              "2    Type 2 CCS   Liftback       D      5      56440  \n",
              "3    Type 2 CCS        SUV       D      5      68040  \n",
              "4    Type 2 CCS  Hatchback       B      4      32997  \n",
              "..          ...        ...     ...    ...        ...  \n",
              "98   Type 2 CCS  Hatchback       C      5      45000  \n",
              "99   Type 2 CCS        SUV       E      5      96050  \n",
              "100  Type 2 CCS  Hatchback       C      5      50000  \n",
              "101  Type 2 CCS  Hatchback       C      5      65000  \n",
              "102  Type 2 CCS        SUV       E      5      62000  \n",
              "\n",
              "[103 rows x 14 columns]"
            ],
            "text/html": [
              "\n",
              "  <div id=\"df-547841bc-6835-4874-a509-386ae03ab6a2\">\n",
              "    <div class=\"colab-df-container\">\n",
              "      <div>\n",
              "<style scoped>\n",
              "    .dataframe tbody tr th:only-of-type {\n",
              "        vertical-align: middle;\n",
              "    }\n",
              "\n",
              "    .dataframe tbody tr th {\n",
              "        vertical-align: top;\n",
              "    }\n",
              "\n",
              "    .dataframe thead th {\n",
              "        text-align: right;\n",
              "    }\n",
              "</style>\n",
              "<table border=\"1\" class=\"dataframe\">\n",
              "  <thead>\n",
              "    <tr style=\"text-align: right;\">\n",
              "      <th></th>\n",
              "      <th>Brand</th>\n",
              "      <th>Model</th>\n",
              "      <th>AccelSec</th>\n",
              "      <th>TopSpeed_KmH</th>\n",
              "      <th>Range_Km</th>\n",
              "      <th>Efficiency_WhKm</th>\n",
              "      <th>FastCharge_KmH</th>\n",
              "      <th>RapidCharge</th>\n",
              "      <th>PowerTrain</th>\n",
              "      <th>PlugType</th>\n",
              "      <th>BodyStyle</th>\n",
              "      <th>Segment</th>\n",
              "      <th>Seats</th>\n",
              "      <th>PriceEuro</th>\n",
              "    </tr>\n",
              "  </thead>\n",
              "  <tbody>\n",
              "    <tr>\n",
              "      <th>0</th>\n",
              "      <td>Tesla</td>\n",
              "      <td>Model 3 Long Range Dual Motor</td>\n",
              "      <td>4.6</td>\n",
              "      <td>233</td>\n",
              "      <td>450</td>\n",
              "      <td>161</td>\n",
              "      <td>940</td>\n",
              "      <td>Yes</td>\n",
              "      <td>AWD</td>\n",
              "      <td>Type 2 CCS</td>\n",
              "      <td>Sedan</td>\n",
              "      <td>D</td>\n",
              "      <td>5</td>\n",
              "      <td>55480</td>\n",
              "    </tr>\n",
              "    <tr>\n",
              "      <th>1</th>\n",
              "      <td>Volkswagen</td>\n",
              "      <td>ID.3 Pure</td>\n",
              "      <td>10.0</td>\n",
              "      <td>160</td>\n",
              "      <td>270</td>\n",
              "      <td>167</td>\n",
              "      <td>250</td>\n",
              "      <td>Yes</td>\n",
              "      <td>RWD</td>\n",
              "      <td>Type 2 CCS</td>\n",
              "      <td>Hatchback</td>\n",
              "      <td>C</td>\n",
              "      <td>5</td>\n",
              "      <td>30000</td>\n",
              "    </tr>\n",
              "    <tr>\n",
              "      <th>2</th>\n",
              "      <td>Polestar</td>\n",
              "      <td>2</td>\n",
              "      <td>4.7</td>\n",
              "      <td>210</td>\n",
              "      <td>400</td>\n",
              "      <td>181</td>\n",
              "      <td>620</td>\n",
              "      <td>Yes</td>\n",
              "      <td>AWD</td>\n",
              "      <td>Type 2 CCS</td>\n",
              "      <td>Liftback</td>\n",
              "      <td>D</td>\n",
              "      <td>5</td>\n",
              "      <td>56440</td>\n",
              "    </tr>\n",
              "    <tr>\n",
              "      <th>3</th>\n",
              "      <td>BMW</td>\n",
              "      <td>iX3</td>\n",
              "      <td>6.8</td>\n",
              "      <td>180</td>\n",
              "      <td>360</td>\n",
              "      <td>206</td>\n",
              "      <td>560</td>\n",
              "      <td>Yes</td>\n",
              "      <td>RWD</td>\n",
              "      <td>Type 2 CCS</td>\n",
              "      <td>SUV</td>\n",
              "      <td>D</td>\n",
              "      <td>5</td>\n",
              "      <td>68040</td>\n",
              "    </tr>\n",
              "    <tr>\n",
              "      <th>4</th>\n",
              "      <td>Honda</td>\n",
              "      <td>e</td>\n",
              "      <td>9.5</td>\n",
              "      <td>145</td>\n",
              "      <td>170</td>\n",
              "      <td>168</td>\n",
              "      <td>190</td>\n",
              "      <td>Yes</td>\n",
              "      <td>RWD</td>\n",
              "      <td>Type 2 CCS</td>\n",
              "      <td>Hatchback</td>\n",
              "      <td>B</td>\n",
              "      <td>4</td>\n",
              "      <td>32997</td>\n",
              "    </tr>\n",
              "    <tr>\n",
              "      <th>...</th>\n",
              "      <td>...</td>\n",
              "      <td>...</td>\n",
              "      <td>...</td>\n",
              "      <td>...</td>\n",
              "      <td>...</td>\n",
              "      <td>...</td>\n",
              "      <td>...</td>\n",
              "      <td>...</td>\n",
              "      <td>...</td>\n",
              "      <td>...</td>\n",
              "      <td>...</td>\n",
              "      <td>...</td>\n",
              "      <td>...</td>\n",
              "      <td>...</td>\n",
              "    </tr>\n",
              "    <tr>\n",
              "      <th>98</th>\n",
              "      <td>Nissan</td>\n",
              "      <td>Ariya 63kWh</td>\n",
              "      <td>7.5</td>\n",
              "      <td>160</td>\n",
              "      <td>330</td>\n",
              "      <td>191</td>\n",
              "      <td>440</td>\n",
              "      <td>Yes</td>\n",
              "      <td>FWD</td>\n",
              "      <td>Type 2 CCS</td>\n",
              "      <td>Hatchback</td>\n",
              "      <td>C</td>\n",
              "      <td>5</td>\n",
              "      <td>45000</td>\n",
              "    </tr>\n",
              "    <tr>\n",
              "      <th>99</th>\n",
              "      <td>Audi</td>\n",
              "      <td>e-tron S Sportback 55 quattro</td>\n",
              "      <td>4.5</td>\n",
              "      <td>210</td>\n",
              "      <td>335</td>\n",
              "      <td>258</td>\n",
              "      <td>540</td>\n",
              "      <td>Yes</td>\n",
              "      <td>AWD</td>\n",
              "      <td>Type 2 CCS</td>\n",
              "      <td>SUV</td>\n",
              "      <td>E</td>\n",
              "      <td>5</td>\n",
              "      <td>96050</td>\n",
              "    </tr>\n",
              "    <tr>\n",
              "      <th>100</th>\n",
              "      <td>Nissan</td>\n",
              "      <td>Ariya e-4ORCE 63kWh</td>\n",
              "      <td>5.9</td>\n",
              "      <td>200</td>\n",
              "      <td>325</td>\n",
              "      <td>194</td>\n",
              "      <td>440</td>\n",
              "      <td>Yes</td>\n",
              "      <td>AWD</td>\n",
              "      <td>Type 2 CCS</td>\n",
              "      <td>Hatchback</td>\n",
              "      <td>C</td>\n",
              "      <td>5</td>\n",
              "      <td>50000</td>\n",
              "    </tr>\n",
              "    <tr>\n",
              "      <th>101</th>\n",
              "      <td>Nissan</td>\n",
              "      <td>Ariya e-4ORCE 87kWh Performance</td>\n",
              "      <td>5.1</td>\n",
              "      <td>200</td>\n",
              "      <td>375</td>\n",
              "      <td>232</td>\n",
              "      <td>450</td>\n",
              "      <td>Yes</td>\n",
              "      <td>AWD</td>\n",
              "      <td>Type 2 CCS</td>\n",
              "      <td>Hatchback</td>\n",
              "      <td>C</td>\n",
              "      <td>5</td>\n",
              "      <td>65000</td>\n",
              "    </tr>\n",
              "    <tr>\n",
              "      <th>102</th>\n",
              "      <td>Byton</td>\n",
              "      <td>M-Byte 95 kWh 2WD</td>\n",
              "      <td>7.5</td>\n",
              "      <td>190</td>\n",
              "      <td>400</td>\n",
              "      <td>238</td>\n",
              "      <td>480</td>\n",
              "      <td>Yes</td>\n",
              "      <td>AWD</td>\n",
              "      <td>Type 2 CCS</td>\n",
              "      <td>SUV</td>\n",
              "      <td>E</td>\n",
              "      <td>5</td>\n",
              "      <td>62000</td>\n",
              "    </tr>\n",
              "  </tbody>\n",
              "</table>\n",
              "<p>103 rows × 14 columns</p>\n",
              "</div>\n",
              "      <button class=\"colab-df-convert\" onclick=\"convertToInteractive('df-547841bc-6835-4874-a509-386ae03ab6a2')\"\n",
              "              title=\"Convert this dataframe to an interactive table.\"\n",
              "              style=\"display:none;\">\n",
              "        \n",
              "  <svg xmlns=\"http://www.w3.org/2000/svg\" height=\"24px\"viewBox=\"0 0 24 24\"\n",
              "       width=\"24px\">\n",
              "    <path d=\"M0 0h24v24H0V0z\" fill=\"none\"/>\n",
              "    <path d=\"M18.56 5.44l.94 2.06.94-2.06 2.06-.94-2.06-.94-.94-2.06-.94 2.06-2.06.94zm-11 1L8.5 8.5l.94-2.06 2.06-.94-2.06-.94L8.5 2.5l-.94 2.06-2.06.94zm10 10l.94 2.06.94-2.06 2.06-.94-2.06-.94-.94-2.06-.94 2.06-2.06.94z\"/><path d=\"M17.41 7.96l-1.37-1.37c-.4-.4-.92-.59-1.43-.59-.52 0-1.04.2-1.43.59L10.3 9.45l-7.72 7.72c-.78.78-.78 2.05 0 2.83L4 21.41c.39.39.9.59 1.41.59.51 0 1.02-.2 1.41-.59l7.78-7.78 2.81-2.81c.8-.78.8-2.07 0-2.86zM5.41 20L4 18.59l7.72-7.72 1.47 1.35L5.41 20z\"/>\n",
              "  </svg>\n",
              "      </button>\n",
              "      \n",
              "  <style>\n",
              "    .colab-df-container {\n",
              "      display:flex;\n",
              "      flex-wrap:wrap;\n",
              "      gap: 12px;\n",
              "    }\n",
              "\n",
              "    .colab-df-convert {\n",
              "      background-color: #E8F0FE;\n",
              "      border: none;\n",
              "      border-radius: 50%;\n",
              "      cursor: pointer;\n",
              "      display: none;\n",
              "      fill: #1967D2;\n",
              "      height: 32px;\n",
              "      padding: 0 0 0 0;\n",
              "      width: 32px;\n",
              "    }\n",
              "\n",
              "    .colab-df-convert:hover {\n",
              "      background-color: #E2EBFA;\n",
              "      box-shadow: 0px 1px 2px rgba(60, 64, 67, 0.3), 0px 1px 3px 1px rgba(60, 64, 67, 0.15);\n",
              "      fill: #174EA6;\n",
              "    }\n",
              "\n",
              "    [theme=dark] .colab-df-convert {\n",
              "      background-color: #3B4455;\n",
              "      fill: #D2E3FC;\n",
              "    }\n",
              "\n",
              "    [theme=dark] .colab-df-convert:hover {\n",
              "      background-color: #434B5C;\n",
              "      box-shadow: 0px 1px 3px 1px rgba(0, 0, 0, 0.15);\n",
              "      filter: drop-shadow(0px 1px 2px rgba(0, 0, 0, 0.3));\n",
              "      fill: #FFFFFF;\n",
              "    }\n",
              "  </style>\n",
              "\n",
              "      <script>\n",
              "        const buttonEl =\n",
              "          document.querySelector('#df-547841bc-6835-4874-a509-386ae03ab6a2 button.colab-df-convert');\n",
              "        buttonEl.style.display =\n",
              "          google.colab.kernel.accessAllowed ? 'block' : 'none';\n",
              "\n",
              "        async function convertToInteractive(key) {\n",
              "          const element = document.querySelector('#df-547841bc-6835-4874-a509-386ae03ab6a2');\n",
              "          const dataTable =\n",
              "            await google.colab.kernel.invokeFunction('convertToInteractive',\n",
              "                                                     [key], {});\n",
              "          if (!dataTable) return;\n",
              "\n",
              "          const docLinkHtml = 'Like what you see? Visit the ' +\n",
              "            '<a target=\"_blank\" href=https://colab.research.google.com/notebooks/data_table.ipynb>data table notebook</a>'\n",
              "            + ' to learn more about interactive tables.';\n",
              "          element.innerHTML = '';\n",
              "          dataTable['output_type'] = 'display_data';\n",
              "          await google.colab.output.renderOutput(dataTable, element);\n",
              "          const docLink = document.createElement('div');\n",
              "          docLink.innerHTML = docLinkHtml;\n",
              "          element.appendChild(docLink);\n",
              "        }\n",
              "      </script>\n",
              "    </div>\n",
              "  </div>\n",
              "  "
            ]
          },
          "metadata": {},
          "execution_count": 16
        }
      ],
      "source": [
        "columnNames = ['Brand','Model','AccelSec','TopSpeed_KmH','Range_Km','Efficiency_WhKm',\n",
        "               'FastCharge_KmH','RapidCharge','PowerTrain','PlugType','BodyStyle',\n",
        "               'Segment','Seats','PriceEuro']\n",
        "\n",
        "evs2 = pd.read_csv('https://raw.githubusercontent.com/zacharski/datamining-guide/main/data/ElectricCarData_Clean_NoHeader.csv', names=columnNames)\n",
        "evs2"
      ]
    },
    {
      "cell_type": "markdown",
      "metadata": {
        "id": "rDEsbtEb5_6S"
      },
      "source": [
        "\n",
        "![](https://raw.githubusercontent.com/zacharski/datamining-guide/master/labs/pics/divider.png)\n",
        "\n",
        "### Reading a CSV file the local machine\n",
        "First, let's get that file onto our local machine:"
      ]
    },
    {
      "cell_type": "code",
      "execution_count": 18,
      "metadata": {
        "id": "fqawj6Hs5_6T",
        "outputId": "8f0fdbde-6bdd-4ec5-8f99-9302bf6ead5c",
        "colab": {
          "base_uri": "https://localhost:8080/"
        }
      },
      "outputs": [
        {
          "output_type": "stream",
          "name": "stdout",
          "text": [
            "  % Total    % Received % Xferd  Average Speed   Time    Time     Time  Current\n",
            "                                 Dload  Upload   Total   Spent    Left  Speed\n",
            "\r  0     0    0     0    0     0      0      0 --:--:-- --:--:-- --:--:--     0\r100  8268  100  8268    0     0   141k      0 --:--:-- --:--:-- --:--:--  141k\n"
          ]
        }
      ],
      "source": [
        "!curl https://raw.githubusercontent.com/zacharski/datamining-guide/main/data/ElectricCarData_Clean.csv > evs.csv"
      ]
    },
    {
      "cell_type": "markdown",
      "metadata": {
        "id": "26XgMZAN5_6T"
      },
      "source": [
        "Hmm. That didn't work. Can you fix the error and rerun that cell?\n",
        "\n",
        "---\n",
        "Now we can specify the local file using `pd=read_csv`"
      ]
    },
    {
      "cell_type": "code",
      "execution_count": 19,
      "metadata": {
        "id": "a4BfeSRF5_6T",
        "scrolled": true,
        "outputId": "166894c2-eb52-43da-92ad-a3f17f649387",
        "colab": {
          "base_uri": "https://localhost:8080/",
          "height": 713
        }
      },
      "outputs": [
        {
          "output_type": "execute_result",
          "data": {
            "text/plain": [
              "          Brand                            Model  AccelSec  TopSpeed_KmH  \\\n",
              "0         Tesla    Model 3 Long Range Dual Motor       4.6           233   \n",
              "1    Volkswagen                        ID.3 Pure      10.0           160   \n",
              "2      Polestar                                2       4.7           210   \n",
              "3           BMW                              iX3       6.8           180   \n",
              "4         Honda                                e       9.5           145   \n",
              "..          ...                              ...       ...           ...   \n",
              "101      Nissan  Ariya e-4ORCE 87kWh Performance       5.1           200   \n",
              "102       Byton                M-Byte 95 kWh 2WD       7.5           190   \n",
              "103      Rivian                              R1T       3.0           185   \n",
              "104         GMC                        Hummer EV       3.0           171   \n",
              "105        Ford                   F150 Lightning       3.0           180   \n",
              "\n",
              "     Range_Km  Efficiency_WhKm FastCharge_KmH RapidCharge PowerTrain  \\\n",
              "0         450              161            940         Yes        AWD   \n",
              "1         270              167            250         Yes        RWD   \n",
              "2         400              181            620         Yes        AWD   \n",
              "3         360              206            560         Yes        RWD   \n",
              "4         170              168            190         Yes        RWD   \n",
              "..        ...              ...            ...         ...        ...   \n",
              "101       375              232            450         Yes        AWD   \n",
              "102       400              238            480         Yes        AWD   \n",
              "103       505              299            337         Yes        AWD   \n",
              "104       529              446           250          Yes        AWD   \n",
              "105       514              299           309          Yes        AWD   \n",
              "\n",
              "       PlugType  BodyStyle Segment  Seats PriceEuro  \n",
              "0    Type 2 CCS      Sedan       D      5     55480  \n",
              "1    Type 2 CCS  Hatchback       C      5     30000  \n",
              "2    Type 2 CCS   Liftback       D      5     56440  \n",
              "3    Type 2 CCS        SUV       D      5     68040  \n",
              "4    Type 2 CCS  Hatchback       B      4     32997  \n",
              "..          ...        ...     ...    ...       ...  \n",
              "101  Type 2 CCS  Hatchback       C      5     65000  \n",
              "102  Type 2 CCS        SUV       E      5     62000  \n",
              "103  Type 2 CCS     Pickup       N      6     75000  \n",
              "104  Type 2 CCS      Truck       E      5         -  \n",
              "105  Type 2 CCS      Truck       E      5         -  \n",
              "\n",
              "[106 rows x 14 columns]"
            ],
            "text/html": [
              "\n",
              "  <div id=\"df-3b7f0ace-4063-4324-8afa-b7c3bd2e7bab\">\n",
              "    <div class=\"colab-df-container\">\n",
              "      <div>\n",
              "<style scoped>\n",
              "    .dataframe tbody tr th:only-of-type {\n",
              "        vertical-align: middle;\n",
              "    }\n",
              "\n",
              "    .dataframe tbody tr th {\n",
              "        vertical-align: top;\n",
              "    }\n",
              "\n",
              "    .dataframe thead th {\n",
              "        text-align: right;\n",
              "    }\n",
              "</style>\n",
              "<table border=\"1\" class=\"dataframe\">\n",
              "  <thead>\n",
              "    <tr style=\"text-align: right;\">\n",
              "      <th></th>\n",
              "      <th>Brand</th>\n",
              "      <th>Model</th>\n",
              "      <th>AccelSec</th>\n",
              "      <th>TopSpeed_KmH</th>\n",
              "      <th>Range_Km</th>\n",
              "      <th>Efficiency_WhKm</th>\n",
              "      <th>FastCharge_KmH</th>\n",
              "      <th>RapidCharge</th>\n",
              "      <th>PowerTrain</th>\n",
              "      <th>PlugType</th>\n",
              "      <th>BodyStyle</th>\n",
              "      <th>Segment</th>\n",
              "      <th>Seats</th>\n",
              "      <th>PriceEuro</th>\n",
              "    </tr>\n",
              "  </thead>\n",
              "  <tbody>\n",
              "    <tr>\n",
              "      <th>0</th>\n",
              "      <td>Tesla</td>\n",
              "      <td>Model 3 Long Range Dual Motor</td>\n",
              "      <td>4.6</td>\n",
              "      <td>233</td>\n",
              "      <td>450</td>\n",
              "      <td>161</td>\n",
              "      <td>940</td>\n",
              "      <td>Yes</td>\n",
              "      <td>AWD</td>\n",
              "      <td>Type 2 CCS</td>\n",
              "      <td>Sedan</td>\n",
              "      <td>D</td>\n",
              "      <td>5</td>\n",
              "      <td>55480</td>\n",
              "    </tr>\n",
              "    <tr>\n",
              "      <th>1</th>\n",
              "      <td>Volkswagen</td>\n",
              "      <td>ID.3 Pure</td>\n",
              "      <td>10.0</td>\n",
              "      <td>160</td>\n",
              "      <td>270</td>\n",
              "      <td>167</td>\n",
              "      <td>250</td>\n",
              "      <td>Yes</td>\n",
              "      <td>RWD</td>\n",
              "      <td>Type 2 CCS</td>\n",
              "      <td>Hatchback</td>\n",
              "      <td>C</td>\n",
              "      <td>5</td>\n",
              "      <td>30000</td>\n",
              "    </tr>\n",
              "    <tr>\n",
              "      <th>2</th>\n",
              "      <td>Polestar</td>\n",
              "      <td>2</td>\n",
              "      <td>4.7</td>\n",
              "      <td>210</td>\n",
              "      <td>400</td>\n",
              "      <td>181</td>\n",
              "      <td>620</td>\n",
              "      <td>Yes</td>\n",
              "      <td>AWD</td>\n",
              "      <td>Type 2 CCS</td>\n",
              "      <td>Liftback</td>\n",
              "      <td>D</td>\n",
              "      <td>5</td>\n",
              "      <td>56440</td>\n",
              "    </tr>\n",
              "    <tr>\n",
              "      <th>3</th>\n",
              "      <td>BMW</td>\n",
              "      <td>iX3</td>\n",
              "      <td>6.8</td>\n",
              "      <td>180</td>\n",
              "      <td>360</td>\n",
              "      <td>206</td>\n",
              "      <td>560</td>\n",
              "      <td>Yes</td>\n",
              "      <td>RWD</td>\n",
              "      <td>Type 2 CCS</td>\n",
              "      <td>SUV</td>\n",
              "      <td>D</td>\n",
              "      <td>5</td>\n",
              "      <td>68040</td>\n",
              "    </tr>\n",
              "    <tr>\n",
              "      <th>4</th>\n",
              "      <td>Honda</td>\n",
              "      <td>e</td>\n",
              "      <td>9.5</td>\n",
              "      <td>145</td>\n",
              "      <td>170</td>\n",
              "      <td>168</td>\n",
              "      <td>190</td>\n",
              "      <td>Yes</td>\n",
              "      <td>RWD</td>\n",
              "      <td>Type 2 CCS</td>\n",
              "      <td>Hatchback</td>\n",
              "      <td>B</td>\n",
              "      <td>4</td>\n",
              "      <td>32997</td>\n",
              "    </tr>\n",
              "    <tr>\n",
              "      <th>...</th>\n",
              "      <td>...</td>\n",
              "      <td>...</td>\n",
              "      <td>...</td>\n",
              "      <td>...</td>\n",
              "      <td>...</td>\n",
              "      <td>...</td>\n",
              "      <td>...</td>\n",
              "      <td>...</td>\n",
              "      <td>...</td>\n",
              "      <td>...</td>\n",
              "      <td>...</td>\n",
              "      <td>...</td>\n",
              "      <td>...</td>\n",
              "      <td>...</td>\n",
              "    </tr>\n",
              "    <tr>\n",
              "      <th>101</th>\n",
              "      <td>Nissan</td>\n",
              "      <td>Ariya e-4ORCE 87kWh Performance</td>\n",
              "      <td>5.1</td>\n",
              "      <td>200</td>\n",
              "      <td>375</td>\n",
              "      <td>232</td>\n",
              "      <td>450</td>\n",
              "      <td>Yes</td>\n",
              "      <td>AWD</td>\n",
              "      <td>Type 2 CCS</td>\n",
              "      <td>Hatchback</td>\n",
              "      <td>C</td>\n",
              "      <td>5</td>\n",
              "      <td>65000</td>\n",
              "    </tr>\n",
              "    <tr>\n",
              "      <th>102</th>\n",
              "      <td>Byton</td>\n",
              "      <td>M-Byte 95 kWh 2WD</td>\n",
              "      <td>7.5</td>\n",
              "      <td>190</td>\n",
              "      <td>400</td>\n",
              "      <td>238</td>\n",
              "      <td>480</td>\n",
              "      <td>Yes</td>\n",
              "      <td>AWD</td>\n",
              "      <td>Type 2 CCS</td>\n",
              "      <td>SUV</td>\n",
              "      <td>E</td>\n",
              "      <td>5</td>\n",
              "      <td>62000</td>\n",
              "    </tr>\n",
              "    <tr>\n",
              "      <th>103</th>\n",
              "      <td>Rivian</td>\n",
              "      <td>R1T</td>\n",
              "      <td>3.0</td>\n",
              "      <td>185</td>\n",
              "      <td>505</td>\n",
              "      <td>299</td>\n",
              "      <td>337</td>\n",
              "      <td>Yes</td>\n",
              "      <td>AWD</td>\n",
              "      <td>Type 2 CCS</td>\n",
              "      <td>Pickup</td>\n",
              "      <td>N</td>\n",
              "      <td>6</td>\n",
              "      <td>75000</td>\n",
              "    </tr>\n",
              "    <tr>\n",
              "      <th>104</th>\n",
              "      <td>GMC</td>\n",
              "      <td>Hummer EV</td>\n",
              "      <td>3.0</td>\n",
              "      <td>171</td>\n",
              "      <td>529</td>\n",
              "      <td>446</td>\n",
              "      <td>250</td>\n",
              "      <td>Yes</td>\n",
              "      <td>AWD</td>\n",
              "      <td>Type 2 CCS</td>\n",
              "      <td>Truck</td>\n",
              "      <td>E</td>\n",
              "      <td>5</td>\n",
              "      <td>-</td>\n",
              "    </tr>\n",
              "    <tr>\n",
              "      <th>105</th>\n",
              "      <td>Ford</td>\n",
              "      <td>F150 Lightning</td>\n",
              "      <td>3.0</td>\n",
              "      <td>180</td>\n",
              "      <td>514</td>\n",
              "      <td>299</td>\n",
              "      <td>309</td>\n",
              "      <td>Yes</td>\n",
              "      <td>AWD</td>\n",
              "      <td>Type 2 CCS</td>\n",
              "      <td>Truck</td>\n",
              "      <td>E</td>\n",
              "      <td>5</td>\n",
              "      <td>-</td>\n",
              "    </tr>\n",
              "  </tbody>\n",
              "</table>\n",
              "<p>106 rows × 14 columns</p>\n",
              "</div>\n",
              "      <button class=\"colab-df-convert\" onclick=\"convertToInteractive('df-3b7f0ace-4063-4324-8afa-b7c3bd2e7bab')\"\n",
              "              title=\"Convert this dataframe to an interactive table.\"\n",
              "              style=\"display:none;\">\n",
              "        \n",
              "  <svg xmlns=\"http://www.w3.org/2000/svg\" height=\"24px\"viewBox=\"0 0 24 24\"\n",
              "       width=\"24px\">\n",
              "    <path d=\"M0 0h24v24H0V0z\" fill=\"none\"/>\n",
              "    <path d=\"M18.56 5.44l.94 2.06.94-2.06 2.06-.94-2.06-.94-.94-2.06-.94 2.06-2.06.94zm-11 1L8.5 8.5l.94-2.06 2.06-.94-2.06-.94L8.5 2.5l-.94 2.06-2.06.94zm10 10l.94 2.06.94-2.06 2.06-.94-2.06-.94-.94-2.06-.94 2.06-2.06.94z\"/><path d=\"M17.41 7.96l-1.37-1.37c-.4-.4-.92-.59-1.43-.59-.52 0-1.04.2-1.43.59L10.3 9.45l-7.72 7.72c-.78.78-.78 2.05 0 2.83L4 21.41c.39.39.9.59 1.41.59.51 0 1.02-.2 1.41-.59l7.78-7.78 2.81-2.81c.8-.78.8-2.07 0-2.86zM5.41 20L4 18.59l7.72-7.72 1.47 1.35L5.41 20z\"/>\n",
              "  </svg>\n",
              "      </button>\n",
              "      \n",
              "  <style>\n",
              "    .colab-df-container {\n",
              "      display:flex;\n",
              "      flex-wrap:wrap;\n",
              "      gap: 12px;\n",
              "    }\n",
              "\n",
              "    .colab-df-convert {\n",
              "      background-color: #E8F0FE;\n",
              "      border: none;\n",
              "      border-radius: 50%;\n",
              "      cursor: pointer;\n",
              "      display: none;\n",
              "      fill: #1967D2;\n",
              "      height: 32px;\n",
              "      padding: 0 0 0 0;\n",
              "      width: 32px;\n",
              "    }\n",
              "\n",
              "    .colab-df-convert:hover {\n",
              "      background-color: #E2EBFA;\n",
              "      box-shadow: 0px 1px 2px rgba(60, 64, 67, 0.3), 0px 1px 3px 1px rgba(60, 64, 67, 0.15);\n",
              "      fill: #174EA6;\n",
              "    }\n",
              "\n",
              "    [theme=dark] .colab-df-convert {\n",
              "      background-color: #3B4455;\n",
              "      fill: #D2E3FC;\n",
              "    }\n",
              "\n",
              "    [theme=dark] .colab-df-convert:hover {\n",
              "      background-color: #434B5C;\n",
              "      box-shadow: 0px 1px 3px 1px rgba(0, 0, 0, 0.15);\n",
              "      filter: drop-shadow(0px 1px 2px rgba(0, 0, 0, 0.3));\n",
              "      fill: #FFFFFF;\n",
              "    }\n",
              "  </style>\n",
              "\n",
              "      <script>\n",
              "        const buttonEl =\n",
              "          document.querySelector('#df-3b7f0ace-4063-4324-8afa-b7c3bd2e7bab button.colab-df-convert');\n",
              "        buttonEl.style.display =\n",
              "          google.colab.kernel.accessAllowed ? 'block' : 'none';\n",
              "\n",
              "        async function convertToInteractive(key) {\n",
              "          const element = document.querySelector('#df-3b7f0ace-4063-4324-8afa-b7c3bd2e7bab');\n",
              "          const dataTable =\n",
              "            await google.colab.kernel.invokeFunction('convertToInteractive',\n",
              "                                                     [key], {});\n",
              "          if (!dataTable) return;\n",
              "\n",
              "          const docLinkHtml = 'Like what you see? Visit the ' +\n",
              "            '<a target=\"_blank\" href=https://colab.research.google.com/notebooks/data_table.ipynb>data table notebook</a>'\n",
              "            + ' to learn more about interactive tables.';\n",
              "          element.innerHTML = '';\n",
              "          dataTable['output_type'] = 'display_data';\n",
              "          await google.colab.output.renderOutput(dataTable, element);\n",
              "          const docLink = document.createElement('div');\n",
              "          docLink.innerHTML = docLinkHtml;\n",
              "          element.appendChild(docLink);\n",
              "        }\n",
              "      </script>\n",
              "    </div>\n",
              "  </div>\n",
              "  "
            ]
          },
          "metadata": {},
          "execution_count": 19
        }
      ],
      "source": [
        "ev3 = pd.read_csv('evs.csv')\n",
        "ev3"
      ]
    },
    {
      "cell_type": "markdown",
      "metadata": {
        "id": "X4nV_5qa5_6T"
      },
      "source": [
        "Suppose we want that file in a data directory. Let's go ahead and create the directory and move the file there."
      ]
    },
    {
      "cell_type": "code",
      "execution_count": 20,
      "metadata": {
        "id": "dSXrr4Er5_6T"
      },
      "outputs": [],
      "source": [
        "!mkdir data\n",
        "!mv evs.csv data"
      ]
    },
    {
      "cell_type": "markdown",
      "metadata": {
        "id": "o4-wisLL5_6T"
      },
      "source": [
        "Now when we load the file we need to give more of a path:"
      ]
    },
    {
      "cell_type": "code",
      "execution_count": null,
      "metadata": {
        "id": "UhuexVjS5_6T"
      },
      "outputs": [],
      "source": [
        "evs4 = pd.read_csv('data/evs.csv')\n",
        "evs4"
      ]
    },
    {
      "cell_type": "markdown",
      "metadata": {
        "id": "FQofXF9o5_6T"
      },
      "source": [
        "\n",
        "![](https://raw.githubusercontent.com/zacharski/datamining-guide/master/labs/pics/divider.png)\n",
        "\n",
        "## Missing Data\n",
        "\n",
        "\n",
        "In real machine learning tasks, we often encounter missing values.\n",
        "\n",
        "### Missing Data in Files\n",
        "For example, suppose we didn't know The Polestar 2's acceleration, the BMW iX3's top speed and the Honda's model name. In that case our CSV file would start\n",
        "\n",
        "\n",
        "```\n",
        "Brand,Model,AccelSec,TopSpeed_KmH,Range_Km\n",
        "Tesla ,Model 3 Long Range Dual Motor,4.6,233,450\n",
        "Volkswagen ,ID.3 Pure,10.0,160,270\n",
        "Polestar ,2,,210,400\n",
        "BMW ,iX3 ,6.8,,360\n",
        "Honda ,,9.5,145,\n",
        "```\n",
        "\n",
        "with the double comma on the Polestar, BMW and Honda lines representing the missing data. When we read that file.\n",
        "\n"
      ]
    },
    {
      "cell_type": "code",
      "execution_count": 22,
      "metadata": {
        "id": "h8S1xMW85_6U",
        "outputId": "13276f18-3dfc-48de-dcb2-1c55e0e25046",
        "colab": {
          "base_uri": "https://localhost:8080/",
          "height": 677
        }
      },
      "outputs": [
        {
          "output_type": "execute_result",
          "data": {
            "text/plain": [
              "          Brand                          Model  AccelSec  TopSpeed_KmH  \\\n",
              "0        Tesla   Model 3 Long Range Dual Motor       4.6         233.0   \n",
              "1   Volkswagen                       ID.3 Pure      10.0         160.0   \n",
              "2     Polestar                               2       NaN         210.0   \n",
              "3          BMW                            iX3        6.8           NaN   \n",
              "4        Honda                             NaN       9.5         145.0   \n",
              "5        Lucid                            Air        2.8         250.0   \n",
              "6   Volkswagen                         e-Golf        9.6         150.0   \n",
              "7      Peugeot                          e-208        8.1         150.0   \n",
              "8        Tesla     Model 3 Standard Range Plus       5.6         225.0   \n",
              "9         Audi                      Q4 e-tron        6.3         180.0   \n",
              "10    Mercedes                  EQC 400 4MATIC       5.1         180.0   \n",
              "11      Nissan                           Leaf        7.9         144.0   \n",
              "12     Hyundai            Kona Electric 64 kWh       7.9         167.0   \n",
              "13         BMW                             i4        4.0         200.0   \n",
              "14     Hyundai                  IONIQ Electric       9.7         165.0   \n",
              "15  Volkswagen                      ID.3 Pro S       7.9         160.0   \n",
              "16     Porsche                  Taycan Turbo S       2.8         260.0   \n",
              "17  Volkswagen                          e-Up!       11.9         130.0   \n",
              "18          MG                           ZS EV       8.2         140.0   \n",
              "19        Mini                      Cooper SE        7.3         150.0   \n",
              "\n",
              "    Range_Km  \n",
              "0      450.0  \n",
              "1      270.0  \n",
              "2      400.0  \n",
              "3      360.0  \n",
              "4        NaN  \n",
              "5      610.0  \n",
              "6      190.0  \n",
              "7      275.0  \n",
              "8      310.0  \n",
              "9      400.0  \n",
              "10     370.0  \n",
              "11     220.0  \n",
              "12     400.0  \n",
              "13     450.0  \n",
              "14     250.0  \n",
              "15     440.0  \n",
              "16     375.0  \n",
              "17     195.0  \n",
              "18     220.0  \n",
              "19     185.0  "
            ],
            "text/html": [
              "\n",
              "  <div id=\"df-3f5ed895-1716-4d14-8889-56d1626a407f\">\n",
              "    <div class=\"colab-df-container\">\n",
              "      <div>\n",
              "<style scoped>\n",
              "    .dataframe tbody tr th:only-of-type {\n",
              "        vertical-align: middle;\n",
              "    }\n",
              "\n",
              "    .dataframe tbody tr th {\n",
              "        vertical-align: top;\n",
              "    }\n",
              "\n",
              "    .dataframe thead th {\n",
              "        text-align: right;\n",
              "    }\n",
              "</style>\n",
              "<table border=\"1\" class=\"dataframe\">\n",
              "  <thead>\n",
              "    <tr style=\"text-align: right;\">\n",
              "      <th></th>\n",
              "      <th>Brand</th>\n",
              "      <th>Model</th>\n",
              "      <th>AccelSec</th>\n",
              "      <th>TopSpeed_KmH</th>\n",
              "      <th>Range_Km</th>\n",
              "    </tr>\n",
              "  </thead>\n",
              "  <tbody>\n",
              "    <tr>\n",
              "      <th>0</th>\n",
              "      <td>Tesla</td>\n",
              "      <td>Model 3 Long Range Dual Motor</td>\n",
              "      <td>4.6</td>\n",
              "      <td>233.0</td>\n",
              "      <td>450.0</td>\n",
              "    </tr>\n",
              "    <tr>\n",
              "      <th>1</th>\n",
              "      <td>Volkswagen</td>\n",
              "      <td>ID.3 Pure</td>\n",
              "      <td>10.0</td>\n",
              "      <td>160.0</td>\n",
              "      <td>270.0</td>\n",
              "    </tr>\n",
              "    <tr>\n",
              "      <th>2</th>\n",
              "      <td>Polestar</td>\n",
              "      <td>2</td>\n",
              "      <td>NaN</td>\n",
              "      <td>210.0</td>\n",
              "      <td>400.0</td>\n",
              "    </tr>\n",
              "    <tr>\n",
              "      <th>3</th>\n",
              "      <td>BMW</td>\n",
              "      <td>iX3</td>\n",
              "      <td>6.8</td>\n",
              "      <td>NaN</td>\n",
              "      <td>360.0</td>\n",
              "    </tr>\n",
              "    <tr>\n",
              "      <th>4</th>\n",
              "      <td>Honda</td>\n",
              "      <td>NaN</td>\n",
              "      <td>9.5</td>\n",
              "      <td>145.0</td>\n",
              "      <td>NaN</td>\n",
              "    </tr>\n",
              "    <tr>\n",
              "      <th>5</th>\n",
              "      <td>Lucid</td>\n",
              "      <td>Air</td>\n",
              "      <td>2.8</td>\n",
              "      <td>250.0</td>\n",
              "      <td>610.0</td>\n",
              "    </tr>\n",
              "    <tr>\n",
              "      <th>6</th>\n",
              "      <td>Volkswagen</td>\n",
              "      <td>e-Golf</td>\n",
              "      <td>9.6</td>\n",
              "      <td>150.0</td>\n",
              "      <td>190.0</td>\n",
              "    </tr>\n",
              "    <tr>\n",
              "      <th>7</th>\n",
              "      <td>Peugeot</td>\n",
              "      <td>e-208</td>\n",
              "      <td>8.1</td>\n",
              "      <td>150.0</td>\n",
              "      <td>275.0</td>\n",
              "    </tr>\n",
              "    <tr>\n",
              "      <th>8</th>\n",
              "      <td>Tesla</td>\n",
              "      <td>Model 3 Standard Range Plus</td>\n",
              "      <td>5.6</td>\n",
              "      <td>225.0</td>\n",
              "      <td>310.0</td>\n",
              "    </tr>\n",
              "    <tr>\n",
              "      <th>9</th>\n",
              "      <td>Audi</td>\n",
              "      <td>Q4 e-tron</td>\n",
              "      <td>6.3</td>\n",
              "      <td>180.0</td>\n",
              "      <td>400.0</td>\n",
              "    </tr>\n",
              "    <tr>\n",
              "      <th>10</th>\n",
              "      <td>Mercedes</td>\n",
              "      <td>EQC 400 4MATIC</td>\n",
              "      <td>5.1</td>\n",
              "      <td>180.0</td>\n",
              "      <td>370.0</td>\n",
              "    </tr>\n",
              "    <tr>\n",
              "      <th>11</th>\n",
              "      <td>Nissan</td>\n",
              "      <td>Leaf</td>\n",
              "      <td>7.9</td>\n",
              "      <td>144.0</td>\n",
              "      <td>220.0</td>\n",
              "    </tr>\n",
              "    <tr>\n",
              "      <th>12</th>\n",
              "      <td>Hyundai</td>\n",
              "      <td>Kona Electric 64 kWh</td>\n",
              "      <td>7.9</td>\n",
              "      <td>167.0</td>\n",
              "      <td>400.0</td>\n",
              "    </tr>\n",
              "    <tr>\n",
              "      <th>13</th>\n",
              "      <td>BMW</td>\n",
              "      <td>i4</td>\n",
              "      <td>4.0</td>\n",
              "      <td>200.0</td>\n",
              "      <td>450.0</td>\n",
              "    </tr>\n",
              "    <tr>\n",
              "      <th>14</th>\n",
              "      <td>Hyundai</td>\n",
              "      <td>IONIQ Electric</td>\n",
              "      <td>9.7</td>\n",
              "      <td>165.0</td>\n",
              "      <td>250.0</td>\n",
              "    </tr>\n",
              "    <tr>\n",
              "      <th>15</th>\n",
              "      <td>Volkswagen</td>\n",
              "      <td>ID.3 Pro S</td>\n",
              "      <td>7.9</td>\n",
              "      <td>160.0</td>\n",
              "      <td>440.0</td>\n",
              "    </tr>\n",
              "    <tr>\n",
              "      <th>16</th>\n",
              "      <td>Porsche</td>\n",
              "      <td>Taycan Turbo S</td>\n",
              "      <td>2.8</td>\n",
              "      <td>260.0</td>\n",
              "      <td>375.0</td>\n",
              "    </tr>\n",
              "    <tr>\n",
              "      <th>17</th>\n",
              "      <td>Volkswagen</td>\n",
              "      <td>e-Up!</td>\n",
              "      <td>11.9</td>\n",
              "      <td>130.0</td>\n",
              "      <td>195.0</td>\n",
              "    </tr>\n",
              "    <tr>\n",
              "      <th>18</th>\n",
              "      <td>MG</td>\n",
              "      <td>ZS EV</td>\n",
              "      <td>8.2</td>\n",
              "      <td>140.0</td>\n",
              "      <td>220.0</td>\n",
              "    </tr>\n",
              "    <tr>\n",
              "      <th>19</th>\n",
              "      <td>Mini</td>\n",
              "      <td>Cooper SE</td>\n",
              "      <td>7.3</td>\n",
              "      <td>150.0</td>\n",
              "      <td>185.0</td>\n",
              "    </tr>\n",
              "  </tbody>\n",
              "</table>\n",
              "</div>\n",
              "      <button class=\"colab-df-convert\" onclick=\"convertToInteractive('df-3f5ed895-1716-4d14-8889-56d1626a407f')\"\n",
              "              title=\"Convert this dataframe to an interactive table.\"\n",
              "              style=\"display:none;\">\n",
              "        \n",
              "  <svg xmlns=\"http://www.w3.org/2000/svg\" height=\"24px\"viewBox=\"0 0 24 24\"\n",
              "       width=\"24px\">\n",
              "    <path d=\"M0 0h24v24H0V0z\" fill=\"none\"/>\n",
              "    <path d=\"M18.56 5.44l.94 2.06.94-2.06 2.06-.94-2.06-.94-.94-2.06-.94 2.06-2.06.94zm-11 1L8.5 8.5l.94-2.06 2.06-.94-2.06-.94L8.5 2.5l-.94 2.06-2.06.94zm10 10l.94 2.06.94-2.06 2.06-.94-2.06-.94-.94-2.06-.94 2.06-2.06.94z\"/><path d=\"M17.41 7.96l-1.37-1.37c-.4-.4-.92-.59-1.43-.59-.52 0-1.04.2-1.43.59L10.3 9.45l-7.72 7.72c-.78.78-.78 2.05 0 2.83L4 21.41c.39.39.9.59 1.41.59.51 0 1.02-.2 1.41-.59l7.78-7.78 2.81-2.81c.8-.78.8-2.07 0-2.86zM5.41 20L4 18.59l7.72-7.72 1.47 1.35L5.41 20z\"/>\n",
              "  </svg>\n",
              "      </button>\n",
              "      \n",
              "  <style>\n",
              "    .colab-df-container {\n",
              "      display:flex;\n",
              "      flex-wrap:wrap;\n",
              "      gap: 12px;\n",
              "    }\n",
              "\n",
              "    .colab-df-convert {\n",
              "      background-color: #E8F0FE;\n",
              "      border: none;\n",
              "      border-radius: 50%;\n",
              "      cursor: pointer;\n",
              "      display: none;\n",
              "      fill: #1967D2;\n",
              "      height: 32px;\n",
              "      padding: 0 0 0 0;\n",
              "      width: 32px;\n",
              "    }\n",
              "\n",
              "    .colab-df-convert:hover {\n",
              "      background-color: #E2EBFA;\n",
              "      box-shadow: 0px 1px 2px rgba(60, 64, 67, 0.3), 0px 1px 3px 1px rgba(60, 64, 67, 0.15);\n",
              "      fill: #174EA6;\n",
              "    }\n",
              "\n",
              "    [theme=dark] .colab-df-convert {\n",
              "      background-color: #3B4455;\n",
              "      fill: #D2E3FC;\n",
              "    }\n",
              "\n",
              "    [theme=dark] .colab-df-convert:hover {\n",
              "      background-color: #434B5C;\n",
              "      box-shadow: 0px 1px 3px 1px rgba(0, 0, 0, 0.15);\n",
              "      filter: drop-shadow(0px 1px 2px rgba(0, 0, 0, 0.3));\n",
              "      fill: #FFFFFF;\n",
              "    }\n",
              "  </style>\n",
              "\n",
              "      <script>\n",
              "        const buttonEl =\n",
              "          document.querySelector('#df-3f5ed895-1716-4d14-8889-56d1626a407f button.colab-df-convert');\n",
              "        buttonEl.style.display =\n",
              "          google.colab.kernel.accessAllowed ? 'block' : 'none';\n",
              "\n",
              "        async function convertToInteractive(key) {\n",
              "          const element = document.querySelector('#df-3f5ed895-1716-4d14-8889-56d1626a407f');\n",
              "          const dataTable =\n",
              "            await google.colab.kernel.invokeFunction('convertToInteractive',\n",
              "                                                     [key], {});\n",
              "          if (!dataTable) return;\n",
              "\n",
              "          const docLinkHtml = 'Like what you see? Visit the ' +\n",
              "            '<a target=\"_blank\" href=https://colab.research.google.com/notebooks/data_table.ipynb>data table notebook</a>'\n",
              "            + ' to learn more about interactive tables.';\n",
              "          element.innerHTML = '';\n",
              "          dataTable['output_type'] = 'display_data';\n",
              "          await google.colab.output.renderOutput(dataTable, element);\n",
              "          const docLink = document.createElement('div');\n",
              "          docLink.innerHTML = docLinkHtml;\n",
              "          element.appendChild(docLink);\n",
              "        }\n",
              "      </script>\n",
              "    </div>\n",
              "  </div>\n",
              "  "
            ]
          },
          "metadata": {},
          "execution_count": 22
        }
      ],
      "source": [
        "evs5 = pd.read_csv('https://raw.githubusercontent.com/zacharski/datamining-guide/main/data/ev_cars_small.csv')\n",
        "evs5"
      ]
    },
    {
      "cell_type": "markdown",
      "metadata": {
        "id": "CbUtXaSf5_6U"
      },
      "source": [
        "We see that missing values are now the floating point values NaN meaning Not a Number. This NaN value is used even in columns that do not contain floating point values. For example, in row 4 above, Honda has NaN in the model name column. Wes McKinney, the developer of Pandas calls NaN a *sentinel* value that is easily detected and indicates a missing value.\n",
        "\n",
        "### Special Characters Representing NaN in the Data File\n",
        "\n",
        "Sometimes, special characters are used in a data file to represent missing values. For example, sometimes a dash is used ...\n",
        "\n",
        "Brand|Model|AccelSec|TopSpeed_KmH|Range_Km\n",
        ":--- | :--- | ---: | ---: | ---: |\n",
        "Tesla |Model 3 Long Range Dual Motor|4.6|233|450\n",
        "Volkswagen |ID.3 Pure|10.0|160|270\n",
        "Polestar |2|-|210|400\n",
        "BMW |iX3 |6.8|-|360\n",
        "Honda |-|9.5|145|\n",
        "\n",
        "The associated data file would look like\n",
        "\n",
        "```\n",
        "Brand,Model,AccelSec,TopSpeed_KmH,Range_Km\n",
        "Tesla ,Model 3 Long Range Dual Motor,4.6,233,450\n",
        "Volkswagen ,ID.3 Pure,10.0,160,270\n",
        "Polestar ,2,-,210,400\n",
        "BMW ,iX3 ,6.8,-,360\n",
        "Honda ,-,9.5,145,\n",
        "```\n",
        "\n",
        "If we do not convert these to `NaN`, these dashes will create havoc with future calculations:\n",
        "\n",
        "``` \n",
        "TypeError: can't multiply sequence by non-int of type 'float'\n",
        "```\n",
        "\n",
        "When we read in the csv file we need to convert the dashes to `NaN` by using the `na_values` parameter in `read_csv`. As you can see in the following example, our data file has the dashes "
      ]
    },
    {
      "cell_type": "code",
      "execution_count": 23,
      "metadata": {
        "id": "lglr_kCMofk_",
        "outputId": "a06f79cf-64f8-464e-9414-5cd10a239d16",
        "colab": {
          "base_uri": "https://localhost:8080/"
        }
      },
      "outputs": [
        {
          "output_type": "stream",
          "name": "stdout",
          "text": [
            "Brand,Model,AccelSec,TopSpeed_KmH,Range_Km\n",
            "Tesla ,Model 3 Long Range Dual Motor,4.6,233,450\n",
            "Volkswagen ,ID.3 Pure,10.0,160,270\n",
            "Polestar ,2,-,210,400\n",
            "BMW ,iX3 ,6.8,-,360\n",
            "Honda ,-,9.5,145,\n",
            "Lucid ,Air ,2.8,250,610\n",
            "Volkswagen ,e-Golf ,9.6,150,190\n",
            "Peugeot ,e-208 ,8.1,150,275\n",
            "Tesla ,Model 3 Standard Range Plus,5.6,225,310\n",
            "Audi ,Q4 e-tron ,6.3,180,400\n",
            "Mercedes ,EQC 400 4MATIC,5.1,180,370\n",
            "Nissan ,Leaf ,7.9,144,220\n",
            "Hyundai ,Kona Electric 64 kWh,7.9,167,400\n",
            "BMW ,i4 ,4.0,200,450\n",
            "Hyundai ,IONIQ Electric,9.7,165,250\n",
            "Volkswagen ,ID.3 Pro S,7.9,160,440\n",
            "Porsche ,Taycan Turbo S,2.8,260,375\n",
            "Volkswagen ,e-Up! ,11.9,130,195\n",
            "MG ,ZS EV,8.2,140,220\n",
            "Mini ,Cooper SE ,7.3,150,185\n"
          ]
        }
      ],
      "source": [
        "!curl https://raw.githubusercontent.com/zacharski/datamining-guide/main/data/ev_cars_small-dash.csv"
      ]
    },
    {
      "cell_type": "markdown",
      "metadata": {
        "id": "iXQQB9Bxq_hj"
      },
      "source": [
        "and we can convert those to `NaN` when we read the file"
      ]
    },
    {
      "cell_type": "code",
      "execution_count": 24,
      "metadata": {
        "id": "bN9w_lx4rEAZ",
        "outputId": "7365fc08-5f44-49a7-99c8-93c10c53fdd2",
        "colab": {
          "base_uri": "https://localhost:8080/",
          "height": 238
        }
      },
      "outputs": [
        {
          "output_type": "execute_result",
          "data": {
            "text/plain": [
              "         Brand                          Model  AccelSec  TopSpeed_KmH  \\\n",
              "0       Tesla   Model 3 Long Range Dual Motor       4.6         233.0   \n",
              "1  Volkswagen                       ID.3 Pure      10.0         160.0   \n",
              "2    Polestar                               2       NaN         210.0   \n",
              "3         BMW                            iX3        6.8           NaN   \n",
              "4       Honda                             NaN       9.5         145.0   \n",
              "5       Lucid                            Air        2.8         250.0   \n",
              "\n",
              "   Range_Km  \n",
              "0     450.0  \n",
              "1     270.0  \n",
              "2     400.0  \n",
              "3     360.0  \n",
              "4       NaN  \n",
              "5     610.0  "
            ],
            "text/html": [
              "\n",
              "  <div id=\"df-7bc16fce-b270-4d66-b7de-2ba9960e13ef\">\n",
              "    <div class=\"colab-df-container\">\n",
              "      <div>\n",
              "<style scoped>\n",
              "    .dataframe tbody tr th:only-of-type {\n",
              "        vertical-align: middle;\n",
              "    }\n",
              "\n",
              "    .dataframe tbody tr th {\n",
              "        vertical-align: top;\n",
              "    }\n",
              "\n",
              "    .dataframe thead th {\n",
              "        text-align: right;\n",
              "    }\n",
              "</style>\n",
              "<table border=\"1\" class=\"dataframe\">\n",
              "  <thead>\n",
              "    <tr style=\"text-align: right;\">\n",
              "      <th></th>\n",
              "      <th>Brand</th>\n",
              "      <th>Model</th>\n",
              "      <th>AccelSec</th>\n",
              "      <th>TopSpeed_KmH</th>\n",
              "      <th>Range_Km</th>\n",
              "    </tr>\n",
              "  </thead>\n",
              "  <tbody>\n",
              "    <tr>\n",
              "      <th>0</th>\n",
              "      <td>Tesla</td>\n",
              "      <td>Model 3 Long Range Dual Motor</td>\n",
              "      <td>4.6</td>\n",
              "      <td>233.0</td>\n",
              "      <td>450.0</td>\n",
              "    </tr>\n",
              "    <tr>\n",
              "      <th>1</th>\n",
              "      <td>Volkswagen</td>\n",
              "      <td>ID.3 Pure</td>\n",
              "      <td>10.0</td>\n",
              "      <td>160.0</td>\n",
              "      <td>270.0</td>\n",
              "    </tr>\n",
              "    <tr>\n",
              "      <th>2</th>\n",
              "      <td>Polestar</td>\n",
              "      <td>2</td>\n",
              "      <td>NaN</td>\n",
              "      <td>210.0</td>\n",
              "      <td>400.0</td>\n",
              "    </tr>\n",
              "    <tr>\n",
              "      <th>3</th>\n",
              "      <td>BMW</td>\n",
              "      <td>iX3</td>\n",
              "      <td>6.8</td>\n",
              "      <td>NaN</td>\n",
              "      <td>360.0</td>\n",
              "    </tr>\n",
              "    <tr>\n",
              "      <th>4</th>\n",
              "      <td>Honda</td>\n",
              "      <td>NaN</td>\n",
              "      <td>9.5</td>\n",
              "      <td>145.0</td>\n",
              "      <td>NaN</td>\n",
              "    </tr>\n",
              "    <tr>\n",
              "      <th>5</th>\n",
              "      <td>Lucid</td>\n",
              "      <td>Air</td>\n",
              "      <td>2.8</td>\n",
              "      <td>250.0</td>\n",
              "      <td>610.0</td>\n",
              "    </tr>\n",
              "  </tbody>\n",
              "</table>\n",
              "</div>\n",
              "      <button class=\"colab-df-convert\" onclick=\"convertToInteractive('df-7bc16fce-b270-4d66-b7de-2ba9960e13ef')\"\n",
              "              title=\"Convert this dataframe to an interactive table.\"\n",
              "              style=\"display:none;\">\n",
              "        \n",
              "  <svg xmlns=\"http://www.w3.org/2000/svg\" height=\"24px\"viewBox=\"0 0 24 24\"\n",
              "       width=\"24px\">\n",
              "    <path d=\"M0 0h24v24H0V0z\" fill=\"none\"/>\n",
              "    <path d=\"M18.56 5.44l.94 2.06.94-2.06 2.06-.94-2.06-.94-.94-2.06-.94 2.06-2.06.94zm-11 1L8.5 8.5l.94-2.06 2.06-.94-2.06-.94L8.5 2.5l-.94 2.06-2.06.94zm10 10l.94 2.06.94-2.06 2.06-.94-2.06-.94-.94-2.06-.94 2.06-2.06.94z\"/><path d=\"M17.41 7.96l-1.37-1.37c-.4-.4-.92-.59-1.43-.59-.52 0-1.04.2-1.43.59L10.3 9.45l-7.72 7.72c-.78.78-.78 2.05 0 2.83L4 21.41c.39.39.9.59 1.41.59.51 0 1.02-.2 1.41-.59l7.78-7.78 2.81-2.81c.8-.78.8-2.07 0-2.86zM5.41 20L4 18.59l7.72-7.72 1.47 1.35L5.41 20z\"/>\n",
              "  </svg>\n",
              "      </button>\n",
              "      \n",
              "  <style>\n",
              "    .colab-df-container {\n",
              "      display:flex;\n",
              "      flex-wrap:wrap;\n",
              "      gap: 12px;\n",
              "    }\n",
              "\n",
              "    .colab-df-convert {\n",
              "      background-color: #E8F0FE;\n",
              "      border: none;\n",
              "      border-radius: 50%;\n",
              "      cursor: pointer;\n",
              "      display: none;\n",
              "      fill: #1967D2;\n",
              "      height: 32px;\n",
              "      padding: 0 0 0 0;\n",
              "      width: 32px;\n",
              "    }\n",
              "\n",
              "    .colab-df-convert:hover {\n",
              "      background-color: #E2EBFA;\n",
              "      box-shadow: 0px 1px 2px rgba(60, 64, 67, 0.3), 0px 1px 3px 1px rgba(60, 64, 67, 0.15);\n",
              "      fill: #174EA6;\n",
              "    }\n",
              "\n",
              "    [theme=dark] .colab-df-convert {\n",
              "      background-color: #3B4455;\n",
              "      fill: #D2E3FC;\n",
              "    }\n",
              "\n",
              "    [theme=dark] .colab-df-convert:hover {\n",
              "      background-color: #434B5C;\n",
              "      box-shadow: 0px 1px 3px 1px rgba(0, 0, 0, 0.15);\n",
              "      filter: drop-shadow(0px 1px 2px rgba(0, 0, 0, 0.3));\n",
              "      fill: #FFFFFF;\n",
              "    }\n",
              "  </style>\n",
              "\n",
              "      <script>\n",
              "        const buttonEl =\n",
              "          document.querySelector('#df-7bc16fce-b270-4d66-b7de-2ba9960e13ef button.colab-df-convert');\n",
              "        buttonEl.style.display =\n",
              "          google.colab.kernel.accessAllowed ? 'block' : 'none';\n",
              "\n",
              "        async function convertToInteractive(key) {\n",
              "          const element = document.querySelector('#df-7bc16fce-b270-4d66-b7de-2ba9960e13ef');\n",
              "          const dataTable =\n",
              "            await google.colab.kernel.invokeFunction('convertToInteractive',\n",
              "                                                     [key], {});\n",
              "          if (!dataTable) return;\n",
              "\n",
              "          const docLinkHtml = 'Like what you see? Visit the ' +\n",
              "            '<a target=\"_blank\" href=https://colab.research.google.com/notebooks/data_table.ipynb>data table notebook</a>'\n",
              "            + ' to learn more about interactive tables.';\n",
              "          element.innerHTML = '';\n",
              "          dataTable['output_type'] = 'display_data';\n",
              "          await google.colab.output.renderOutput(dataTable, element);\n",
              "          const docLink = document.createElement('div');\n",
              "          docLink.innerHTML = docLinkHtml;\n",
              "          element.appendChild(docLink);\n",
              "        }\n",
              "      </script>\n",
              "    </div>\n",
              "  </div>\n",
              "  "
            ]
          },
          "metadata": {},
          "execution_count": 24
        }
      ],
      "source": [
        "evdash = pd.read_csv('https://raw.githubusercontent.com/zacharski/datamining-guide/main/data/ev_cars_small-dash.csv',\n",
        "                     na_values='-')\n",
        "evdash[:6]"
      ]
    },
    {
      "cell_type": "markdown",
      "metadata": {
        "id": "UDs0cAprogc9"
      },
      "source": [
        "### Specifying Missing Values by hand\n",
        "Suppose we didn't know the range of the Hyundai Ioniq 5 and the MPGe of the Tesla.\n",
        "\n",
        "![](https://raw.githubusercontent.com/zacharski/datamining-guide/master/labs/pics/ioniq5s.png)\n",
        "\n",
        "Make | Drive | Range | Battery_kwH | PeakPower_kW | MPGe | 0-60\n",
        ":---- | :--- | ---: | ---: | ---: | ---: | ---:\n",
        "Ioniq 5 | AWD | - | 77.4 | 239 | 98 | 5.0\n",
        "Tesla Model 3 | AWD | 315 | 80 | 298 | - | 3.1\n",
        "Rivian R1T | AWD | 316 | 135 | 562 | 70 | 3.0 \n",
        "VW ID.4 | RWD | 260 | 82 | 260 | 107 |  7.7\n",
        "F150 Lightning | AWD | 230 | 110 | 318 | 68 | 4.0\n",
        "\n",
        "In that case we can create a dataframe like:"
      ]
    },
    {
      "cell_type": "code",
      "execution_count": 25,
      "metadata": {
        "id": "FApiirdy5_6U",
        "outputId": "6ba59c91-d570-4b16-b445-656f1bcd4e83",
        "colab": {
          "base_uri": "https://localhost:8080/",
          "height": 206
        }
      },
      "outputs": [
        {
          "output_type": "execute_result",
          "data": {
            "text/plain": [
              "             Make Drive  Range  Battery_kwH  PeakPower_kW   MPGe  0-60\n",
              "0         Ioniq 5   AWD    NaN         77.4           239   98.0   5.0\n",
              "1   Tesla Model 3   AWD  315.0         80.0           298    NaN   3.1\n",
              "2      Rivian R1T   AWD  316.0        135.0           562   70.0   3.0\n",
              "3         VW ID.4   RWD  260.0         82.0           260  107.0   7.7\n",
              "4  F150 Lightning   AWD  230.0        110.0           318   68.0   4.0"
            ],
            "text/html": [
              "\n",
              "  <div id=\"df-53f5c464-2dfb-45b1-91e1-795b7508fa97\">\n",
              "    <div class=\"colab-df-container\">\n",
              "      <div>\n",
              "<style scoped>\n",
              "    .dataframe tbody tr th:only-of-type {\n",
              "        vertical-align: middle;\n",
              "    }\n",
              "\n",
              "    .dataframe tbody tr th {\n",
              "        vertical-align: top;\n",
              "    }\n",
              "\n",
              "    .dataframe thead th {\n",
              "        text-align: right;\n",
              "    }\n",
              "</style>\n",
              "<table border=\"1\" class=\"dataframe\">\n",
              "  <thead>\n",
              "    <tr style=\"text-align: right;\">\n",
              "      <th></th>\n",
              "      <th>Make</th>\n",
              "      <th>Drive</th>\n",
              "      <th>Range</th>\n",
              "      <th>Battery_kwH</th>\n",
              "      <th>PeakPower_kW</th>\n",
              "      <th>MPGe</th>\n",
              "      <th>0-60</th>\n",
              "    </tr>\n",
              "  </thead>\n",
              "  <tbody>\n",
              "    <tr>\n",
              "      <th>0</th>\n",
              "      <td>Ioniq 5</td>\n",
              "      <td>AWD</td>\n",
              "      <td>NaN</td>\n",
              "      <td>77.4</td>\n",
              "      <td>239</td>\n",
              "      <td>98.0</td>\n",
              "      <td>5.0</td>\n",
              "    </tr>\n",
              "    <tr>\n",
              "      <th>1</th>\n",
              "      <td>Tesla Model 3</td>\n",
              "      <td>AWD</td>\n",
              "      <td>315.0</td>\n",
              "      <td>80.0</td>\n",
              "      <td>298</td>\n",
              "      <td>NaN</td>\n",
              "      <td>3.1</td>\n",
              "    </tr>\n",
              "    <tr>\n",
              "      <th>2</th>\n",
              "      <td>Rivian R1T</td>\n",
              "      <td>AWD</td>\n",
              "      <td>316.0</td>\n",
              "      <td>135.0</td>\n",
              "      <td>562</td>\n",
              "      <td>70.0</td>\n",
              "      <td>3.0</td>\n",
              "    </tr>\n",
              "    <tr>\n",
              "      <th>3</th>\n",
              "      <td>VW ID.4</td>\n",
              "      <td>RWD</td>\n",
              "      <td>260.0</td>\n",
              "      <td>82.0</td>\n",
              "      <td>260</td>\n",
              "      <td>107.0</td>\n",
              "      <td>7.7</td>\n",
              "    </tr>\n",
              "    <tr>\n",
              "      <th>4</th>\n",
              "      <td>F150 Lightning</td>\n",
              "      <td>AWD</td>\n",
              "      <td>230.0</td>\n",
              "      <td>110.0</td>\n",
              "      <td>318</td>\n",
              "      <td>68.0</td>\n",
              "      <td>4.0</td>\n",
              "    </tr>\n",
              "  </tbody>\n",
              "</table>\n",
              "</div>\n",
              "      <button class=\"colab-df-convert\" onclick=\"convertToInteractive('df-53f5c464-2dfb-45b1-91e1-795b7508fa97')\"\n",
              "              title=\"Convert this dataframe to an interactive table.\"\n",
              "              style=\"display:none;\">\n",
              "        \n",
              "  <svg xmlns=\"http://www.w3.org/2000/svg\" height=\"24px\"viewBox=\"0 0 24 24\"\n",
              "       width=\"24px\">\n",
              "    <path d=\"M0 0h24v24H0V0z\" fill=\"none\"/>\n",
              "    <path d=\"M18.56 5.44l.94 2.06.94-2.06 2.06-.94-2.06-.94-.94-2.06-.94 2.06-2.06.94zm-11 1L8.5 8.5l.94-2.06 2.06-.94-2.06-.94L8.5 2.5l-.94 2.06-2.06.94zm10 10l.94 2.06.94-2.06 2.06-.94-2.06-.94-.94-2.06-.94 2.06-2.06.94z\"/><path d=\"M17.41 7.96l-1.37-1.37c-.4-.4-.92-.59-1.43-.59-.52 0-1.04.2-1.43.59L10.3 9.45l-7.72 7.72c-.78.78-.78 2.05 0 2.83L4 21.41c.39.39.9.59 1.41.59.51 0 1.02-.2 1.41-.59l7.78-7.78 2.81-2.81c.8-.78.8-2.07 0-2.86zM5.41 20L4 18.59l7.72-7.72 1.47 1.35L5.41 20z\"/>\n",
              "  </svg>\n",
              "      </button>\n",
              "      \n",
              "  <style>\n",
              "    .colab-df-container {\n",
              "      display:flex;\n",
              "      flex-wrap:wrap;\n",
              "      gap: 12px;\n",
              "    }\n",
              "\n",
              "    .colab-df-convert {\n",
              "      background-color: #E8F0FE;\n",
              "      border: none;\n",
              "      border-radius: 50%;\n",
              "      cursor: pointer;\n",
              "      display: none;\n",
              "      fill: #1967D2;\n",
              "      height: 32px;\n",
              "      padding: 0 0 0 0;\n",
              "      width: 32px;\n",
              "    }\n",
              "\n",
              "    .colab-df-convert:hover {\n",
              "      background-color: #E2EBFA;\n",
              "      box-shadow: 0px 1px 2px rgba(60, 64, 67, 0.3), 0px 1px 3px 1px rgba(60, 64, 67, 0.15);\n",
              "      fill: #174EA6;\n",
              "    }\n",
              "\n",
              "    [theme=dark] .colab-df-convert {\n",
              "      background-color: #3B4455;\n",
              "      fill: #D2E3FC;\n",
              "    }\n",
              "\n",
              "    [theme=dark] .colab-df-convert:hover {\n",
              "      background-color: #434B5C;\n",
              "      box-shadow: 0px 1px 3px 1px rgba(0, 0, 0, 0.15);\n",
              "      filter: drop-shadow(0px 1px 2px rgba(0, 0, 0, 0.3));\n",
              "      fill: #FFFFFF;\n",
              "    }\n",
              "  </style>\n",
              "\n",
              "      <script>\n",
              "        const buttonEl =\n",
              "          document.querySelector('#df-53f5c464-2dfb-45b1-91e1-795b7508fa97 button.colab-df-convert');\n",
              "        buttonEl.style.display =\n",
              "          google.colab.kernel.accessAllowed ? 'block' : 'none';\n",
              "\n",
              "        async function convertToInteractive(key) {\n",
              "          const element = document.querySelector('#df-53f5c464-2dfb-45b1-91e1-795b7508fa97');\n",
              "          const dataTable =\n",
              "            await google.colab.kernel.invokeFunction('convertToInteractive',\n",
              "                                                     [key], {});\n",
              "          if (!dataTable) return;\n",
              "\n",
              "          const docLinkHtml = 'Like what you see? Visit the ' +\n",
              "            '<a target=\"_blank\" href=https://colab.research.google.com/notebooks/data_table.ipynb>data table notebook</a>'\n",
              "            + ' to learn more about interactive tables.';\n",
              "          element.innerHTML = '';\n",
              "          dataTable['output_type'] = 'display_data';\n",
              "          await google.colab.output.renderOutput(dataTable, element);\n",
              "          const docLink = document.createElement('div');\n",
              "          docLink.innerHTML = docLinkHtml;\n",
              "          element.appendChild(docLink);\n",
              "        }\n",
              "      </script>\n",
              "    </div>\n",
              "  </div>\n",
              "  "
            ]
          },
          "metadata": {},
          "execution_count": 25
        }
      ],
      "source": [
        "cars3 = {'Make': ['Ioniq 5', 'Tesla Model 3', 'Rivian R1T', 'VW ID.4', 'F150 Lightning'],\n",
        "         'Drive': ['AWD', 'AWD', 'AWD', 'RWD', 'AWD'],\n",
        "         'Range': [np.nan, 315, 316, 260, 230],\n",
        "         'Battery_kwH': [77.4, 80, 135, 82, 110],\n",
        "         'PeakPower_kW': [239, 298, 562, 260, 318],\n",
        "         'MPGe': [98, np.nan, 70, 107, 68],\n",
        "         '0-60': [5.0, 3.1, 3.0, 7.7, 4.0]}\n",
        "        \n",
        "carz = DataFrame(cars3)\n",
        "carz"
      ]
    },
    {
      "cell_type": "markdown",
      "metadata": {
        "id": "1ichMMal5_6V"
      },
      "source": [
        "where `np.nan` is Numpy's NaN.  We can also use Python's `None`:\n"
      ]
    },
    {
      "cell_type": "code",
      "execution_count": 26,
      "metadata": {
        "id": "PW8Yg5fL5_6V",
        "outputId": "4d256d50-5101-43c7-c2ba-cf4647f1fff9",
        "colab": {
          "base_uri": "https://localhost:8080/",
          "height": 206
        }
      },
      "outputs": [
        {
          "output_type": "execute_result",
          "data": {
            "text/plain": [
              "             Make Drive  Range  Battery_kwH  PeakPower_kW   MPGe  0-60\n",
              "0         Ioniq 5   AWD    NaN         77.4           239   98.0   5.0\n",
              "1   Tesla Model 3   AWD  315.0         80.0           298    NaN   3.1\n",
              "2      Rivian R1T   AWD  316.0        135.0           562   70.0   3.0\n",
              "3         VW ID.4   RWD  260.0         82.0           260  107.0   7.7\n",
              "4  F150 Lightning   AWD  230.0        110.0           318   68.0   4.0"
            ],
            "text/html": [
              "\n",
              "  <div id=\"df-01b52909-c239-4c7f-910a-079f0d5a9ebc\">\n",
              "    <div class=\"colab-df-container\">\n",
              "      <div>\n",
              "<style scoped>\n",
              "    .dataframe tbody tr th:only-of-type {\n",
              "        vertical-align: middle;\n",
              "    }\n",
              "\n",
              "    .dataframe tbody tr th {\n",
              "        vertical-align: top;\n",
              "    }\n",
              "\n",
              "    .dataframe thead th {\n",
              "        text-align: right;\n",
              "    }\n",
              "</style>\n",
              "<table border=\"1\" class=\"dataframe\">\n",
              "  <thead>\n",
              "    <tr style=\"text-align: right;\">\n",
              "      <th></th>\n",
              "      <th>Make</th>\n",
              "      <th>Drive</th>\n",
              "      <th>Range</th>\n",
              "      <th>Battery_kwH</th>\n",
              "      <th>PeakPower_kW</th>\n",
              "      <th>MPGe</th>\n",
              "      <th>0-60</th>\n",
              "    </tr>\n",
              "  </thead>\n",
              "  <tbody>\n",
              "    <tr>\n",
              "      <th>0</th>\n",
              "      <td>Ioniq 5</td>\n",
              "      <td>AWD</td>\n",
              "      <td>NaN</td>\n",
              "      <td>77.4</td>\n",
              "      <td>239</td>\n",
              "      <td>98.0</td>\n",
              "      <td>5.0</td>\n",
              "    </tr>\n",
              "    <tr>\n",
              "      <th>1</th>\n",
              "      <td>Tesla Model 3</td>\n",
              "      <td>AWD</td>\n",
              "      <td>315.0</td>\n",
              "      <td>80.0</td>\n",
              "      <td>298</td>\n",
              "      <td>NaN</td>\n",
              "      <td>3.1</td>\n",
              "    </tr>\n",
              "    <tr>\n",
              "      <th>2</th>\n",
              "      <td>Rivian R1T</td>\n",
              "      <td>AWD</td>\n",
              "      <td>316.0</td>\n",
              "      <td>135.0</td>\n",
              "      <td>562</td>\n",
              "      <td>70.0</td>\n",
              "      <td>3.0</td>\n",
              "    </tr>\n",
              "    <tr>\n",
              "      <th>3</th>\n",
              "      <td>VW ID.4</td>\n",
              "      <td>RWD</td>\n",
              "      <td>260.0</td>\n",
              "      <td>82.0</td>\n",
              "      <td>260</td>\n",
              "      <td>107.0</td>\n",
              "      <td>7.7</td>\n",
              "    </tr>\n",
              "    <tr>\n",
              "      <th>4</th>\n",
              "      <td>F150 Lightning</td>\n",
              "      <td>AWD</td>\n",
              "      <td>230.0</td>\n",
              "      <td>110.0</td>\n",
              "      <td>318</td>\n",
              "      <td>68.0</td>\n",
              "      <td>4.0</td>\n",
              "    </tr>\n",
              "  </tbody>\n",
              "</table>\n",
              "</div>\n",
              "      <button class=\"colab-df-convert\" onclick=\"convertToInteractive('df-01b52909-c239-4c7f-910a-079f0d5a9ebc')\"\n",
              "              title=\"Convert this dataframe to an interactive table.\"\n",
              "              style=\"display:none;\">\n",
              "        \n",
              "  <svg xmlns=\"http://www.w3.org/2000/svg\" height=\"24px\"viewBox=\"0 0 24 24\"\n",
              "       width=\"24px\">\n",
              "    <path d=\"M0 0h24v24H0V0z\" fill=\"none\"/>\n",
              "    <path d=\"M18.56 5.44l.94 2.06.94-2.06 2.06-.94-2.06-.94-.94-2.06-.94 2.06-2.06.94zm-11 1L8.5 8.5l.94-2.06 2.06-.94-2.06-.94L8.5 2.5l-.94 2.06-2.06.94zm10 10l.94 2.06.94-2.06 2.06-.94-2.06-.94-.94-2.06-.94 2.06-2.06.94z\"/><path d=\"M17.41 7.96l-1.37-1.37c-.4-.4-.92-.59-1.43-.59-.52 0-1.04.2-1.43.59L10.3 9.45l-7.72 7.72c-.78.78-.78 2.05 0 2.83L4 21.41c.39.39.9.59 1.41.59.51 0 1.02-.2 1.41-.59l7.78-7.78 2.81-2.81c.8-.78.8-2.07 0-2.86zM5.41 20L4 18.59l7.72-7.72 1.47 1.35L5.41 20z\"/>\n",
              "  </svg>\n",
              "      </button>\n",
              "      \n",
              "  <style>\n",
              "    .colab-df-container {\n",
              "      display:flex;\n",
              "      flex-wrap:wrap;\n",
              "      gap: 12px;\n",
              "    }\n",
              "\n",
              "    .colab-df-convert {\n",
              "      background-color: #E8F0FE;\n",
              "      border: none;\n",
              "      border-radius: 50%;\n",
              "      cursor: pointer;\n",
              "      display: none;\n",
              "      fill: #1967D2;\n",
              "      height: 32px;\n",
              "      padding: 0 0 0 0;\n",
              "      width: 32px;\n",
              "    }\n",
              "\n",
              "    .colab-df-convert:hover {\n",
              "      background-color: #E2EBFA;\n",
              "      box-shadow: 0px 1px 2px rgba(60, 64, 67, 0.3), 0px 1px 3px 1px rgba(60, 64, 67, 0.15);\n",
              "      fill: #174EA6;\n",
              "    }\n",
              "\n",
              "    [theme=dark] .colab-df-convert {\n",
              "      background-color: #3B4455;\n",
              "      fill: #D2E3FC;\n",
              "    }\n",
              "\n",
              "    [theme=dark] .colab-df-convert:hover {\n",
              "      background-color: #434B5C;\n",
              "      box-shadow: 0px 1px 3px 1px rgba(0, 0, 0, 0.15);\n",
              "      filter: drop-shadow(0px 1px 2px rgba(0, 0, 0, 0.3));\n",
              "      fill: #FFFFFF;\n",
              "    }\n",
              "  </style>\n",
              "\n",
              "      <script>\n",
              "        const buttonEl =\n",
              "          document.querySelector('#df-01b52909-c239-4c7f-910a-079f0d5a9ebc button.colab-df-convert');\n",
              "        buttonEl.style.display =\n",
              "          google.colab.kernel.accessAllowed ? 'block' : 'none';\n",
              "\n",
              "        async function convertToInteractive(key) {\n",
              "          const element = document.querySelector('#df-01b52909-c239-4c7f-910a-079f0d5a9ebc');\n",
              "          const dataTable =\n",
              "            await google.colab.kernel.invokeFunction('convertToInteractive',\n",
              "                                                     [key], {});\n",
              "          if (!dataTable) return;\n",
              "\n",
              "          const docLinkHtml = 'Like what you see? Visit the ' +\n",
              "            '<a target=\"_blank\" href=https://colab.research.google.com/notebooks/data_table.ipynb>data table notebook</a>'\n",
              "            + ' to learn more about interactive tables.';\n",
              "          element.innerHTML = '';\n",
              "          dataTable['output_type'] = 'display_data';\n",
              "          await google.colab.output.renderOutput(dataTable, element);\n",
              "          const docLink = document.createElement('div');\n",
              "          docLink.innerHTML = docLinkHtml;\n",
              "          element.appendChild(docLink);\n",
              "        }\n",
              "      </script>\n",
              "    </div>\n",
              "  </div>\n",
              "  "
            ]
          },
          "metadata": {},
          "execution_count": 26
        }
      ],
      "source": [
        "cars3 = {'Make': ['Ioniq 5', 'Tesla Model 3', 'Rivian R1T', 'VW ID.4', 'F150 Lightning'],\n",
        "         'Drive': ['AWD', 'AWD', 'AWD', 'RWD', 'AWD'],\n",
        "         'Range': [None, 315, 316, 260, 230],\n",
        "         'Battery_kwH': [77.4, 80, 135, 82, 110],\n",
        "         'PeakPower_kW': [239, 298, 562, 260, 318],\n",
        "         'MPGe': [98, None, 70, 107, 68],\n",
        "         '0-60': [5.0, 3.1, 3.0, 7.7, 4.0]}\n",
        "        \n",
        "carz = DataFrame(cars3)\n",
        "carz"
      ]
    },
    {
      "cell_type": "markdown",
      "metadata": {
        "id": "uxTlzaux5_6V"
      },
      "source": [
        "In addition to reading CSV files, there are many other ways of reading in data including from SQL databases, mongoDB, and webpages. See the [Pandas documentation](https://pandas.pydata.org/pandas-docs/stable/) for details.\n"
      ]
    },
    {
      "cell_type": "markdown",
      "metadata": {
        "id": "edf753hojSkc"
      },
      "source": [
        "\n",
        "![](https://raw.githubusercontent.com/zacharski/datamining-guide/master/labs/pics/divider.png)\n",
        "\n",
        "## Indices\n",
        "In all the examples above, when we created a DataFrame, an auto-generated, auto-incrementing index was generated. So our initial data might look like:\n",
        "\n",
        "\n",
        "Make | Drive | Range | Battery_kwH | PeakPower_kW | MPGe | 0-60\n",
        ":---- | :--- | ---: | ---: | ---: | ---: | ---:\n",
        "Ioniq 5 | AWD | - | 77.4 | 239 | 98 | 5.0\n",
        "Tesla Model 3 | AWD | 315 | 80 | 298 | - | 3.1\n",
        "Rivian R1T | AWD | 316 | 135 | 562 | 70 | 3.0 \n",
        "VW ID.4 | RWD | 260 | 82 | 260 | 107 |  7.7\n",
        "F150 Lightning | AWD | 230 | 110 | 318 | 68 | 4.0\n",
        "\n",
        "But the DataFrame looks like ..."
      ]
    },
    {
      "cell_type": "code",
      "execution_count": 27,
      "metadata": {
        "id": "joIX9AMF5_6W",
        "outputId": "c441932d-9b34-4810-919f-b96026ee4199",
        "colab": {
          "base_uri": "https://localhost:8080/",
          "height": 206
        }
      },
      "outputs": [
        {
          "output_type": "execute_result",
          "data": {
            "text/plain": [
              "             Make Drive  Range  Battery_kwH  PeakPower_kW   MPGe  0-60\n",
              "0         Ioniq 5   AWD    NaN         77.4           239   98.0   5.0\n",
              "1   Tesla Model 3   AWD  315.0         80.0           298    NaN   3.1\n",
              "2      Rivian R1T   AWD  316.0        135.0           562   70.0   3.0\n",
              "3         VW ID.4   RWD  260.0         82.0           260  107.0   7.7\n",
              "4  F150 Lightning   AWD  230.0        110.0           318   68.0   4.0"
            ],
            "text/html": [
              "\n",
              "  <div id=\"df-47846982-dd4b-4211-b87a-0e6492f3862f\">\n",
              "    <div class=\"colab-df-container\">\n",
              "      <div>\n",
              "<style scoped>\n",
              "    .dataframe tbody tr th:only-of-type {\n",
              "        vertical-align: middle;\n",
              "    }\n",
              "\n",
              "    .dataframe tbody tr th {\n",
              "        vertical-align: top;\n",
              "    }\n",
              "\n",
              "    .dataframe thead th {\n",
              "        text-align: right;\n",
              "    }\n",
              "</style>\n",
              "<table border=\"1\" class=\"dataframe\">\n",
              "  <thead>\n",
              "    <tr style=\"text-align: right;\">\n",
              "      <th></th>\n",
              "      <th>Make</th>\n",
              "      <th>Drive</th>\n",
              "      <th>Range</th>\n",
              "      <th>Battery_kwH</th>\n",
              "      <th>PeakPower_kW</th>\n",
              "      <th>MPGe</th>\n",
              "      <th>0-60</th>\n",
              "    </tr>\n",
              "  </thead>\n",
              "  <tbody>\n",
              "    <tr>\n",
              "      <th>0</th>\n",
              "      <td>Ioniq 5</td>\n",
              "      <td>AWD</td>\n",
              "      <td>NaN</td>\n",
              "      <td>77.4</td>\n",
              "      <td>239</td>\n",
              "      <td>98.0</td>\n",
              "      <td>5.0</td>\n",
              "    </tr>\n",
              "    <tr>\n",
              "      <th>1</th>\n",
              "      <td>Tesla Model 3</td>\n",
              "      <td>AWD</td>\n",
              "      <td>315.0</td>\n",
              "      <td>80.0</td>\n",
              "      <td>298</td>\n",
              "      <td>NaN</td>\n",
              "      <td>3.1</td>\n",
              "    </tr>\n",
              "    <tr>\n",
              "      <th>2</th>\n",
              "      <td>Rivian R1T</td>\n",
              "      <td>AWD</td>\n",
              "      <td>316.0</td>\n",
              "      <td>135.0</td>\n",
              "      <td>562</td>\n",
              "      <td>70.0</td>\n",
              "      <td>3.0</td>\n",
              "    </tr>\n",
              "    <tr>\n",
              "      <th>3</th>\n",
              "      <td>VW ID.4</td>\n",
              "      <td>RWD</td>\n",
              "      <td>260.0</td>\n",
              "      <td>82.0</td>\n",
              "      <td>260</td>\n",
              "      <td>107.0</td>\n",
              "      <td>7.7</td>\n",
              "    </tr>\n",
              "    <tr>\n",
              "      <th>4</th>\n",
              "      <td>F150 Lightning</td>\n",
              "      <td>AWD</td>\n",
              "      <td>230.0</td>\n",
              "      <td>110.0</td>\n",
              "      <td>318</td>\n",
              "      <td>68.0</td>\n",
              "      <td>4.0</td>\n",
              "    </tr>\n",
              "  </tbody>\n",
              "</table>\n",
              "</div>\n",
              "      <button class=\"colab-df-convert\" onclick=\"convertToInteractive('df-47846982-dd4b-4211-b87a-0e6492f3862f')\"\n",
              "              title=\"Convert this dataframe to an interactive table.\"\n",
              "              style=\"display:none;\">\n",
              "        \n",
              "  <svg xmlns=\"http://www.w3.org/2000/svg\" height=\"24px\"viewBox=\"0 0 24 24\"\n",
              "       width=\"24px\">\n",
              "    <path d=\"M0 0h24v24H0V0z\" fill=\"none\"/>\n",
              "    <path d=\"M18.56 5.44l.94 2.06.94-2.06 2.06-.94-2.06-.94-.94-2.06-.94 2.06-2.06.94zm-11 1L8.5 8.5l.94-2.06 2.06-.94-2.06-.94L8.5 2.5l-.94 2.06-2.06.94zm10 10l.94 2.06.94-2.06 2.06-.94-2.06-.94-.94-2.06-.94 2.06-2.06.94z\"/><path d=\"M17.41 7.96l-1.37-1.37c-.4-.4-.92-.59-1.43-.59-.52 0-1.04.2-1.43.59L10.3 9.45l-7.72 7.72c-.78.78-.78 2.05 0 2.83L4 21.41c.39.39.9.59 1.41.59.51 0 1.02-.2 1.41-.59l7.78-7.78 2.81-2.81c.8-.78.8-2.07 0-2.86zM5.41 20L4 18.59l7.72-7.72 1.47 1.35L5.41 20z\"/>\n",
              "  </svg>\n",
              "      </button>\n",
              "      \n",
              "  <style>\n",
              "    .colab-df-container {\n",
              "      display:flex;\n",
              "      flex-wrap:wrap;\n",
              "      gap: 12px;\n",
              "    }\n",
              "\n",
              "    .colab-df-convert {\n",
              "      background-color: #E8F0FE;\n",
              "      border: none;\n",
              "      border-radius: 50%;\n",
              "      cursor: pointer;\n",
              "      display: none;\n",
              "      fill: #1967D2;\n",
              "      height: 32px;\n",
              "      padding: 0 0 0 0;\n",
              "      width: 32px;\n",
              "    }\n",
              "\n",
              "    .colab-df-convert:hover {\n",
              "      background-color: #E2EBFA;\n",
              "      box-shadow: 0px 1px 2px rgba(60, 64, 67, 0.3), 0px 1px 3px 1px rgba(60, 64, 67, 0.15);\n",
              "      fill: #174EA6;\n",
              "    }\n",
              "\n",
              "    [theme=dark] .colab-df-convert {\n",
              "      background-color: #3B4455;\n",
              "      fill: #D2E3FC;\n",
              "    }\n",
              "\n",
              "    [theme=dark] .colab-df-convert:hover {\n",
              "      background-color: #434B5C;\n",
              "      box-shadow: 0px 1px 3px 1px rgba(0, 0, 0, 0.15);\n",
              "      filter: drop-shadow(0px 1px 2px rgba(0, 0, 0, 0.3));\n",
              "      fill: #FFFFFF;\n",
              "    }\n",
              "  </style>\n",
              "\n",
              "      <script>\n",
              "        const buttonEl =\n",
              "          document.querySelector('#df-47846982-dd4b-4211-b87a-0e6492f3862f button.colab-df-convert');\n",
              "        buttonEl.style.display =\n",
              "          google.colab.kernel.accessAllowed ? 'block' : 'none';\n",
              "\n",
              "        async function convertToInteractive(key) {\n",
              "          const element = document.querySelector('#df-47846982-dd4b-4211-b87a-0e6492f3862f');\n",
              "          const dataTable =\n",
              "            await google.colab.kernel.invokeFunction('convertToInteractive',\n",
              "                                                     [key], {});\n",
              "          if (!dataTable) return;\n",
              "\n",
              "          const docLinkHtml = 'Like what you see? Visit the ' +\n",
              "            '<a target=\"_blank\" href=https://colab.research.google.com/notebooks/data_table.ipynb>data table notebook</a>'\n",
              "            + ' to learn more about interactive tables.';\n",
              "          element.innerHTML = '';\n",
              "          dataTable['output_type'] = 'display_data';\n",
              "          await google.colab.output.renderOutput(dataTable, element);\n",
              "          const docLink = document.createElement('div');\n",
              "          docLink.innerHTML = docLinkHtml;\n",
              "          element.appendChild(docLink);\n",
              "        }\n",
              "      </script>\n",
              "    </div>\n",
              "  </div>\n",
              "  "
            ]
          },
          "metadata": {},
          "execution_count": 27
        }
      ],
      "source": [
        "carz\n",
        "   "
      ]
    },
    {
      "cell_type": "markdown",
      "metadata": {
        "id": "HnY07gtE38MY"
      },
      "source": [
        "with the 0, 1, 2 ... indices added (the column on the left). This makes it handy when we want to access a particular row."
      ]
    },
    {
      "cell_type": "code",
      "execution_count": 28,
      "metadata": {
        "id": "KCj7gU_l5_6W",
        "outputId": "87d196b1-2f60-4074-a1e1-5da9710f781e",
        "colab": {
          "base_uri": "https://localhost:8080/"
        }
      },
      "outputs": [
        {
          "output_type": "execute_result",
          "data": {
            "text/plain": [
              "Make            F150 Lightning\n",
              "Drive                      AWD\n",
              "Range                    230.0\n",
              "Battery_kwH              110.0\n",
              "PeakPower_kW               318\n",
              "MPGe                      68.0\n",
              "0-60                       4.0\n",
              "Name: 4, dtype: object"
            ]
          },
          "metadata": {},
          "execution_count": 28
        }
      ],
      "source": [
        "carz.loc[4]"
      ]
    },
    {
      "cell_type": "markdown",
      "metadata": {
        "id": "qcQnal5C4VVp"
      },
      "source": [
        "As you can see in the above code, we access a particular row (or rows) with the `loc` method.\n",
        "\n",
        "Sometimes the rows in our data already have a unique identifier. For example in a data file for U.S. states each state might have the unique 2 character state code\n",
        "\n",
        "\n",
        "![](https://raw.githubusercontent.com/zacharski/datamining-guide/master/labs/pics/grayStates.png)\n",
        "\n",
        "State|Name|Pop2022|Pop2021|Pop2010|TotalArea|LandArea\n",
        ":--- | :--- | ---: | ---: | ---: | ---: | ---: | \n",
        "AK| Alaska| 720763|724357|713910|665384|570640.95\n",
        "AL| Alabama|4949697|4934193|4785437|52420|50645.33\n",
        "AR| Arkansas|3042017|3033946|2921964|53179|52035.48\n",
        "AZ| Arizona|7640796|7520103|6407172|113990|113594.08\n",
        "\n",
        "In that case we can use the unique identifier, in this case the 2 letter state code, as our index. "
      ]
    },
    {
      "cell_type": "code",
      "execution_count": null,
      "metadata": {
        "id": "O2hnNYg-6B_X"
      },
      "outputs": [],
      "source": [
        "states = pd.read_csv('https://raw.githubusercontent.com/zacharski/datamining-guide/main/data/usStates.csv',\n",
        "                     index_col='State')\n",
        "states"
      ]
    },
    {
      "cell_type": "markdown",
      "metadata": {
        "id": "74y5zDcK6eUq"
      },
      "source": [
        "We can access a particular row, say the info for New Mexico by "
      ]
    },
    {
      "cell_type": "code",
      "execution_count": null,
      "metadata": {
        "id": "_VKAC2Yn6jCL"
      },
      "outputs": [],
      "source": [
        "states.loc['NM']"
      ]
    },
    {
      "cell_type": "markdown",
      "metadata": {
        "id": "ZFx51fOf688-"
      },
      "source": [
        "You can access a range of rows by the standard Python method:"
      ]
    },
    {
      "cell_type": "code",
      "execution_count": null,
      "metadata": {
        "id": "Yex0HIPR7Obd"
      },
      "outputs": [],
      "source": [
        "states[:5]"
      ]
    },
    {
      "cell_type": "markdown",
      "metadata": {
        "id": "tT4n3wWs7Y72"
      },
      "source": [
        "or\n"
      ]
    },
    {
      "cell_type": "code",
      "execution_count": null,
      "metadata": {
        "id": "PoD_VMet7aEj"
      },
      "outputs": [],
      "source": [
        "states[11:16]"
      ]
    },
    {
      "cell_type": "markdown",
      "metadata": {
        "id": "sIYbCKxq7iVJ"
      },
      "source": [
        "or using these index values:"
      ]
    },
    {
      "cell_type": "code",
      "execution_count": null,
      "metadata": {
        "id": "cNTbbUwQ7kio"
      },
      "outputs": [],
      "source": [
        "states['IA': 'KS']"
      ]
    },
    {
      "cell_type": "markdown",
      "metadata": {
        "id": "VF415m0h5_6W"
      },
      "source": [
        "\n",
        "![](https://raw.githubusercontent.com/zacharski/datamining-guide/master/labs/pics/divider.png)\n",
        "\n",
        "## Retrieving particular columns\n",
        "We can get a column of a DataFrame by using the column name:"
      ]
    },
    {
      "cell_type": "code",
      "execution_count": null,
      "metadata": {
        "id": "A2mz_V9a6uAO"
      },
      "outputs": [],
      "source": [
        "states[['Pop2022']]"
      ]
    },
    {
      "cell_type": "markdown",
      "metadata": {
        "id": "2pgNbgzM5_6W"
      },
      "source": [
        "and we can get multiple columns by passing a list of column names"
      ]
    },
    {
      "cell_type": "code",
      "execution_count": null,
      "metadata": {
        "id": "0DbFAGla5_6W"
      },
      "outputs": [],
      "source": [
        "states[['Pop2022', 'Pop2010']]"
      ]
    },
    {
      "cell_type": "markdown",
      "metadata": {
        "id": "gx4xPt_z5_6X"
      },
      "source": [
        "### Returning rows with loc\n",
        "\n",
        "As we have seen we can retrieve rows using the loc function. \n",
        "\n",
        "We can also get rows that match a specific criterion. For example, all states whose 2022 population exceeded 10 million. "
      ]
    },
    {
      "cell_type": "code",
      "execution_count": null,
      "metadata": {
        "id": "1V9oYofC5_6X"
      },
      "outputs": [],
      "source": [
        "populousStates = states.loc[states['Pop2022'] > 10000000] \n",
        "populousStates"
      ]
    },
    {
      "cell_type": "markdown",
      "metadata": {
        "id": "OGMYMikjGAll"
      },
      "source": [
        "Or let's say we are interested in the states that lost population between 2021 and 2022."
      ]
    },
    {
      "cell_type": "code",
      "execution_count": null,
      "metadata": {
        "id": "FgJy-85BGF2K"
      },
      "outputs": [],
      "source": [
        "states.loc[states['Pop2022'] < states['Pop2021']]"
      ]
    },
    {
      "cell_type": "markdown",
      "metadata": {
        "id": "Y7ZJDokzGZVm"
      },
      "source": [
        "States that are over 10 million population and have lost population in 2022:"
      ]
    },
    {
      "cell_type": "code",
      "execution_count": null,
      "metadata": {
        "id": "KIQ643qXGdoD"
      },
      "outputs": [],
      "source": [
        "states.loc[(states['Pop2022'] < states['Pop2021']) & (states['Pop2022'] > 10000000)]"
      ]
    },
    {
      "cell_type": "markdown",
      "metadata": {
        "id": "l8OSpDM9HwcX"
      },
      "source": [
        "\n",
        "![](https://raw.githubusercontent.com/zacharski/datamining-guide/master/labs/pics/divider.png)\n",
        "\n",
        "## Creating new columns\n",
        "\n",
        "#### State Density\n",
        "\n",
        "![](https://raw.githubusercontent.com/zacharski/datamining-guide/master/labs/pics/stateDensity.png)\n",
        "\n",
        "Let's say we want to add a new column, Density, that gives the number of people per square mile of land area. So the Formula is\n",
        "\n",
        "\n",
        "\n",
        "$$Density=\\frac{Pop2022}{LandArea}$$\n",
        "\n",
        "We can do that with\n"
      ]
    },
    {
      "cell_type": "code",
      "execution_count": null,
      "metadata": {
        "id": "8ft7c-EAIttE"
      },
      "outputs": [],
      "source": [
        "states['Density'] = states['Pop2022'] / states['LandArea']\n",
        "states[:5][['Name', 'Density']]"
      ]
    },
    {
      "cell_type": "markdown",
      "metadata": {
        "id": "P_GSii5JJhJH"
      },
      "source": [
        "\n",
        "![](https://raw.githubusercontent.com/zacharski/datamining-guide/master/labs/pics/divider.png)\n",
        "\n",
        "## Sorting\n",
        "\n",
        "Density is nice but it would be nice if we ordered the DataFrame by Density..."
      ]
    },
    {
      "cell_type": "code",
      "execution_count": null,
      "metadata": {
        "id": "rWh7w8EbKZTK"
      },
      "outputs": [],
      "source": [
        "states.sort_values(by=['Density'])"
      ]
    },
    {
      "cell_type": "markdown",
      "metadata": {
        "id": "mF4Lt2CYKiXC"
      },
      "source": [
        "That is better, but perhaps we would like to order by densest states first and only show the top five ...\n",
        " "
      ]
    },
    {
      "cell_type": "code",
      "execution_count": null,
      "metadata": {
        "id": "iOE3ux2kKrGN"
      },
      "outputs": [],
      "source": [
        "states.sort_values(by=['Density'], ascending=False)[:5]"
      ]
    },
    {
      "cell_type": "markdown",
      "metadata": {
        "id": "5mk5YrN-LeYT"
      },
      "source": [
        "Finally, let's add a column, growth, that shows the percent change in population from 2021 to 2022.  That formula would be\n",
        "\n",
        "$$Growth=(\\frac{Pop2022}{Pop2021} - 1) \\times 100  $$"
      ]
    },
    {
      "cell_type": "code",
      "execution_count": null,
      "metadata": {
        "id": "hEoh-KQ15_6X"
      },
      "outputs": [],
      "source": [
        "states['Growth'] = (states['Pop2022'] / states['Pop2021'] - 1) * 100\n",
        "states[:10]"
      ]
    },
    {
      "cell_type": "markdown",
      "metadata": {
        "id": "79CqMYEh5_6X"
      },
      "source": [
        "And let's find the 5 fastest growing states:"
      ]
    },
    {
      "cell_type": "code",
      "execution_count": null,
      "metadata": {
        "id": "Z3R0BzU85_6Y"
      },
      "outputs": [],
      "source": [
        "states.sort_values(by=['Growth'], ascending=False)[:5]"
      ]
    },
    {
      "cell_type": "markdown",
      "metadata": {
        "id": "Uqa6q5jI5_6Y"
      },
      "source": [
        "\n",
        "![](https://raw.githubusercontent.com/zacharski/datamining-guide/master/labs/pics/divider.png)\n",
        "\n",
        "## Descriptive Statistics on DataFrames\n",
        "One handy function is `describe`"
      ]
    },
    {
      "cell_type": "code",
      "execution_count": null,
      "metadata": {
        "id": "X3Vl_HUM5_6Y"
      },
      "outputs": [],
      "source": [
        "states.describe()"
      ]
    },
    {
      "cell_type": "markdown",
      "metadata": {
        "id": "0BDKVkjG5_6Y"
      },
      "source": [
        "Alternatively, we could retrieve a specific statistic:\n"
      ]
    },
    {
      "cell_type": "code",
      "execution_count": null,
      "metadata": {
        "id": "9QvGB_sO5_6Y"
      },
      "outputs": [],
      "source": [
        "states['Pop2022'].mean()"
      ]
    },
    {
      "cell_type": "markdown",
      "metadata": {
        "id": "9SuTANUhYcln"
      },
      "source": [
        "or find out how many states lost population in 2022 using `count`:"
      ]
    },
    {
      "cell_type": "code",
      "execution_count": null,
      "metadata": {
        "id": "lPbUUTZeYlyF"
      },
      "outputs": [],
      "source": [
        "states.loc[states['Pop2022'] < states['Pop2021']][['Pop2022']].count()"
      ]
    },
    {
      "cell_type": "markdown",
      "metadata": {
        "id": "E7yg3o40Bn2s"
      },
      "source": [
        "Or get the total population of the United States (minus the District of Columbia)"
      ]
    },
    {
      "cell_type": "code",
      "execution_count": null,
      "metadata": {
        "id": "M813i5BF5_6Y"
      },
      "outputs": [],
      "source": [
        "states['Pop2022'].sum()"
      ]
    },
    {
      "cell_type": "markdown",
      "metadata": {
        "id": "ACn45SPTCRU1"
      },
      "source": [
        "or to make that more readable"
      ]
    },
    {
      "cell_type": "code",
      "execution_count": null,
      "metadata": {
        "id": "62FwVBdiCUgW"
      },
      "outputs": [],
      "source": [
        "totalPop = \"{:,}\".format(states['Pop2022'].sum())\n",
        "print('Total Population: ' + totalPop)"
      ]
    },
    {
      "cell_type": "markdown",
      "metadata": {
        "id": "EtSUCI6aDOJP"
      },
      "source": [
        "What percentage of the U. S. population is accounted for by the top 5 most populous states?"
      ]
    },
    {
      "cell_type": "code",
      "execution_count": null,
      "metadata": {
        "id": "BfrCdDHs5_6Y"
      },
      "outputs": [],
      "source": [
        "statesByPopulation = states.sort_values(by=['Pop2022'], ascending=False)[:10][['Pop2022']]\n",
        "percent = (statesByPopulation.sum() / states['Pop2022'].sum()) * 100\n",
        "print(\"The top 10 most populous states account for {:4.2f} percent of the U.S. Population\" .format(percent['Pop2022']))"
      ]
    },
    {
      "cell_type": "markdown",
      "metadata": {
        "id": "altMRJTX5_6Y"
      },
      "source": [
        "## Summary Statistics and Axes\n",
        "\n",
        "![](https://raw.githubusercontent.com/zacharski/datamining-guide/master/labs/pics/ax.png)\n",
        "Suppose I have customers of my vinyl record shop rate different artists\n",
        "\n",
        "|Customer | Taylor Swift | Miranda Lambert | Carrie Underwood | Nicki Minaj | Ariana Grande |\n",
        "|:-----------|:------:|:------:|:---------:|:------:|:--------:|\n",
        "|Jake|5|-|5|2|2|\n",
        "|Clara|2|-|-|4|5|\n",
        "|Kelsey|5|5|5|2|-|\n",
        "|Angelica|2|3|-|5|5|\n",
        "|Jordyn|2|1|-|5|-|\n",
        "\n",
        "First we will read in the file ..."
      ]
    },
    {
      "cell_type": "code",
      "execution_count": null,
      "metadata": {
        "id": "KheA1gk_5_6Y"
      },
      "outputs": [],
      "source": [
        "ratings = pd.read_csv('https://raw.githubusercontent.com/zacharski/ml-class/master/data/ratings.csv', index_col=0)\n",
        "ratings"
      ]
    },
    {
      "cell_type": "markdown",
      "metadata": {
        "id": "l1_dazQX5_6Z"
      },
      "source": [
        "We can get the mean rating of each artist by:\n"
      ]
    },
    {
      "cell_type": "code",
      "execution_count": null,
      "metadata": {
        "id": "mqpPhVng5_6Z"
      },
      "outputs": [],
      "source": [
        "ratings.mean()"
      ]
    },
    {
      "cell_type": "markdown",
      "metadata": {
        "id": "qqF9WVYG5_6Z"
      },
      "source": [
        "Note that the summary statistics ignore NaN entries. The mean rating for Miranda Lambert is computed just on the people that rated her.\n",
        "\n",
        "Many descriptive statistics functions take an optional parameter `axis` that tells which axis to reduce over. If we want the mean ratings for each **customer** instead of each artist we can do:"
      ]
    },
    {
      "cell_type": "code",
      "execution_count": null,
      "metadata": {
        "id": "LHlXy45l5_6Z"
      },
      "outputs": [],
      "source": [
        "ratings.mean(axis=1)"
      ]
    },
    {
      "cell_type": "markdown",
      "metadata": {
        "id": "UdHgb_g-5_6a"
      },
      "source": [
        "\n",
        "\n",
        "Sweet! So `axis=1` means reduce by rows and `axis=0` means reduce by columns:"
      ]
    },
    {
      "cell_type": "code",
      "execution_count": null,
      "metadata": {
        "id": "CTJp_AXc5_6a"
      },
      "outputs": [],
      "source": [
        "ratings.mean(axis=0)"
      ]
    },
    {
      "cell_type": "markdown",
      "metadata": {
        "id": "9ayvoKIL5_6a"
      },
      "source": [
        "![](https://raw.githubusercontent.com/zacharski/datamining-guide/master/labs/pics/divider.png)\n",
        "\n",
        "## List of Descriptive Statistics\n",
        "(from the book *Python for Data Analysis*)\n",
        "\n",
        "Method | Description\n",
        ":-- | :--\n",
        "`count` | Number of non-NaN values\n",
        "`describe` | A set of common summary statistics\n",
        "`min, max` | compute minimum and maximum values\n",
        "`argmin, argmax` | compute index locations of minimum and maximum values\n",
        "`sum` | Sum the values\n",
        "`mean` | Mean of values\n",
        "`median` | Median of values\n",
        "`std` | Sample standard deviation\n",
        "\n",
        "So, for example, the lowest rating for each artist:\n"
      ]
    },
    {
      "cell_type": "code",
      "execution_count": null,
      "metadata": {
        "id": "P5IwyqA_5_6a"
      },
      "outputs": [],
      "source": [
        "ratings.min()"
      ]
    },
    {
      "cell_type": "markdown",
      "metadata": {
        "id": "-d5X1BGZgm6s"
      },
      "source": [
        "\n",
        "![](https://raw.githubusercontent.com/zacharski/datamining-guide/master/labs/pics/divider.png)\n",
        "\n",
        "# <font color='#EE4C2C'>You Try ...</font> \n",
        "Ok, it is time for you to try out what you just learned. Let us start with the electric vehicle datafile we have already seen:\n",
        "\n",
        "```\n",
        "https://raw.githubusercontent.com/zacharski/datamining-guide/main/data/ElectricCarData_Clean.csv\n",
        "```\n",
        "When we loaded the datafile before, it worked fine for those examples, but you may encounter an error here, that will require you to modify the `read_csv`.\n",
        "\n",
        "![](https://raw.githubusercontent.com/zacharski/datamining-guide/master/labs/pics/evBanner.png)"
      ]
    },
    {
      "cell_type": "code",
      "execution_count": null,
      "metadata": {
        "id": "BVp_U2L_jP-H"
      },
      "outputs": [],
      "source": [
        "# TO DO"
      ]
    },
    {
      "cell_type": "markdown",
      "metadata": {
        "id": "r6zIkL0LjXAp"
      },
      "source": [
        "Some of the columns are based on kilometers:\n",
        "\n",
        "* TopSpeed_KmH\t\n",
        "* Range_Km\t\n",
        "* Efficiency_WhKm\t\n",
        "* FastCharge_KmH\n",
        "\n",
        "and we are first going to add USA mile-centric columns.\n",
        "\n",
        "## <font color='#EE4C2C'>1. TopSpeed_MPH</font>\n",
        "\n",
        "Add a new column `TopSpeed_MPH` computed from the `TopSpeed_KmH` column, and just to check, display the first 10 rows. (The Lucid Air should have a top speed slightly over 155 MPH)\n"
      ]
    },
    {
      "cell_type": "code",
      "execution_count": null,
      "metadata": {
        "id": "nE9hHZORkKHt"
      },
      "outputs": [],
      "source": []
    },
    {
      "cell_type": "markdown",
      "metadata": {
        "id": "PbH5Ft3Ck5SO"
      },
      "source": [
        "\n",
        "## <font color='#EE4C2C'>2. Range and FastCharge_MPH</font>\n",
        "\n",
        "Add a new column `Range` computed from the `Range_Km` column that shows the range in miles.\n",
        "\n",
        "Also add a column `FastCharge_MPH computed from `FastCharge_KmH`. This will indicate how many miles can you go on one hour of charging. \n",
        "\n",
        "Just to check, display the first 10 rows. (The Tesla Model 3 Long Range Dual Motor should have a range of nearly 280 miles and charge at a rate of 584 miles per hour of fast charging.)"
      ]
    },
    {
      "cell_type": "code",
      "execution_count": null,
      "metadata": {
        "id": "5MSHK06JlaCa"
      },
      "outputs": [],
      "source": []
    },
    {
      "cell_type": "markdown",
      "metadata": {
        "id": "BUFNJLDmscIh"
      },
      "source": [
        "## <font color='#EE4C2C'>3. Efficiency_MkwH</font>\n",
        "\n",
        "The DataFrame has a column `Efficiency_WhKm` which indicates how many watt hours does it take to go one kilometer. One common measure of efficieny is how many miles can you go on one kilowatt hour (kwH). So please add this column to the DataFrame. (The Tesla Model 3 Standard Range Plus should have an efficiency of around 4 miles per kilowatt hour.) \n"
      ]
    },
    {
      "cell_type": "code",
      "execution_count": null,
      "metadata": {
        "id": "QFVButVctWCL"
      },
      "outputs": [],
      "source": []
    },
    {
      "cell_type": "code",
      "execution_count": null,
      "metadata": {
        "id": "goaxBgv4mzSL"
      },
      "outputs": [],
      "source": []
    },
    {
      "cell_type": "markdown",
      "metadata": {
        "id": "utMo3PX4vR1O"
      },
      "source": [
        "## <font color='#EE4C2C'>4. New DataFrame</font>\n",
        "\n",
        "Create a new DataFrame, `bevs` (battery electric vehicles as opposed to PHEVs) that contain only the following columns from the current DataFrame\n",
        "\n",
        "* Brand\t\n",
        "* Model\t\n",
        "* PowerTrain\t\n",
        "* AccelSec\n",
        "* TopSpeed_MPH\t\n",
        "* Range\t\n",
        "* Efficiency_MkwH\n",
        "\n",
        "```\n",
        "'Brand', 'Model', 'PowerTrain', 'AccelSec', 'TopSpeed_MPH', 'Range', 'Efficiency_MkwH'\n",
        "```\n"
      ]
    },
    {
      "cell_type": "code",
      "execution_count": null,
      "metadata": {
        "id": "E55PWBXAwZ5E"
      },
      "outputs": [],
      "source": []
    },
    {
      "cell_type": "code",
      "execution_count": null,
      "metadata": {
        "id": "ENLRLgvTQsnC"
      },
      "outputs": [],
      "source": []
    },
    {
      "cell_type": "markdown",
      "metadata": {
        "id": "gi7_bPeKxWbC"
      },
      "source": [
        "## <font color='#EE4C2C'>5. Most and least efficient</font>\n",
        "Using the bevs DataFrame, what are the 5 most efficient evs ordered by the most efficient first?\n"
      ]
    },
    {
      "cell_type": "code",
      "execution_count": null,
      "metadata": {
        "id": "_Kifc30dQow1"
      },
      "outputs": [],
      "source": []
    },
    {
      "cell_type": "markdown",
      "metadata": {
        "id": "w26i2-ijR-tb"
      },
      "source": [
        "What are the five most inefficient evs ordered by least efficient first?"
      ]
    },
    {
      "cell_type": "code",
      "execution_count": null,
      "metadata": {
        "id": "5AuYIhCcSGKJ"
      },
      "outputs": [],
      "source": []
    },
    {
      "cell_type": "markdown",
      "metadata": {
        "id": "2V0JTAIVOv-P"
      },
      "source": [
        "## <font color='#EE4C2C'>6. fastest\n",
        "![](https://raw.githubusercontent.com/zacharski/datamining-guide/master/labs/pics/porsche.png)\n",
        "\n",
        "The Porsche 911 997 Turbo S is among the world's fastest production combustion cars with a 0-60 acceleration of 2.9 seconds. (In our dataset `AccelSec` measures the same thing.) Which electric cars have better acceleration than this? "
      ]
    },
    {
      "cell_type": "code",
      "execution_count": null,
      "metadata": {
        "id": "v6fq8xCWPFmM"
      },
      "outputs": [],
      "source": [
        "bevs2 = bevs.loc[bevs['AccelSec'] < 3.0]\n",
        "bevs2"
      ]
    },
    {
      "cell_type": "markdown",
      "metadata": {
        "id": "d6e7oEp3lWOt"
      },
      "source": [
        "## <font color='#EE4C2C'>7. Refrigerators\n",
        "![](https://raw.githubusercontent.com/zacharski/datamining-guide/master/labs/pics/frigTesla.png)\n",
        "\n",
        "Representative Thomas Massie (R-KY) at a hearing questioning Secretarty Pete Buttigieg says the energy (kWh) required to home charge an electric vehicle for a year is 25 times greater than running the average refrigerator. He also said \"It would take four times as much electricity to charge the average household's cars as the average household uses on air conditioning.\" And he said, \"that means the average household would use twice as much electricity charging one of their cars as they would use for all of the air conditioning that they use for the entire year.\" Is this true? \n",
        "\n",
        "Since air conditioner use is quite varied in different regions of the country, perhaps a better measure would be the energy used for air conditioning and heating combined.\n",
        "\n",
        "You are going to need to do some web searching to find the typical energy use of household these household items.\n",
        "\n",
        "What do you think about the usefulness of this comparing household appliances to EVs when making government policy?  \n"
      ]
    },
    {
      "cell_type": "code",
      "execution_count": null,
      "metadata": {
        "id": "gI9tBDHpcVLK"
      },
      "outputs": [],
      "source": []
    },
    {
      "cell_type": "code",
      "execution_count": null,
      "metadata": {
        "id": "9wCNtoNPcVLK"
      },
      "outputs": [],
      "source": []
    },
    {
      "cell_type": "markdown",
      "metadata": {
        "id": "80KuAzYFbarb"
      },
      "source": [
        "## <font color='#EE4C2C'>8. Global Adoption of EVs\n",
        "\n",
        "![](https://raw.githubusercontent.com/zacharski/datamining-guide/master/labs/pics/earth.png)\n",
        "\n",
        "The data file we are using for this is\n",
        "\n",
        "```\n",
        "https://raw.githubusercontent.com/zacharski/datamining-guide/main/data/IEA-EV-data.csv\n",
        "```\n",
        "\n",
        "This data is from the [International Energy Agency](https://www.iea.org/data-and-statistics/data-product/global-ev-outlook-2022).\n",
        "\n",
        "The first step in data mining work is to examine the dataset, which often is not in the best format to directly answer our questions. That is the case with this file. You have the Pandas skills, but you will need to spend a bit of time looking at the datafile and understanding it, so you can write some code to meet the need.\n",
        "\n",
        "So what is our need? We are interested in what percent of new car sales are evs in 2021. We are interested in historical data, not predictions. We would like to see the top five countries with the best adoption percent and the bottom five. Have appropriate labels indicating the list of top 5 and bottom 5. \n",
        "\n"
      ]
    },
    {
      "cell_type": "code",
      "execution_count": null,
      "metadata": {
        "id": "M7amAS8SMv06"
      },
      "outputs": [],
      "source": []
    },
    {
      "cell_type": "code",
      "execution_count": null,
      "metadata": {
        "id": "kogeUTBHOhwL"
      },
      "outputs": [],
      "source": []
    },
    {
      "cell_type": "markdown",
      "metadata": {
        "id": "uZsm6tAwPE-f"
      },
      "source": [
        "## <font color='#EE4C2C'>9. Adoption of EVs Worldwide Part 2\n",
        "In the U.S. in 2021 Electric Vehicles account for 2.5% of total new car sales. Is this higher or lower than the average (mean) 2021 figures in our dataset?\n",
        "\n",
        "Also, how many countries have a higher adoption rate than the U.S?\n",
        "\n",
        "In addition to cells showing your work, please have some readable content."
      ]
    },
    {
      "cell_type": "code",
      "execution_count": null,
      "metadata": {
        "id": "9POucaLgQXTv"
      },
      "outputs": [],
      "source": []
    },
    {
      "cell_type": "code",
      "execution_count": null,
      "metadata": {
        "id": "1Ns_haraQtcz"
      },
      "outputs": [],
      "source": []
    },
    {
      "cell_type": "markdown",
      "metadata": {
        "id": "KFBGkcF-ReSG"
      },
      "source": []
    }
  ],
  "metadata": {
    "anaconda-cloud": {},
    "colab": {
      "name": "Copy of pandas.ipynb",
      "provenance": []
    },
    "kernelspec": {
      "display_name": "Python 3 (ipykernel)",
      "language": "python",
      "name": "python3"
    },
    "language_info": {
      "codemirror_mode": {
        "name": "ipython",
        "version": 3
      },
      "file_extension": ".py",
      "mimetype": "text/x-python",
      "name": "python",
      "nbconvert_exporter": "python",
      "pygments_lexer": "ipython3",
      "version": "3.9.12"
    }
  },
  "nbformat": 4,
  "nbformat_minor": 0
}