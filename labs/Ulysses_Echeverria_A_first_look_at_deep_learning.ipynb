{
  "cells": [
    {
      "cell_type": "markdown",
      "metadata": {
        "id": "view-in-github",
        "colab_type": "text"
      },
      "source": [
        "<a href=\"https://colab.research.google.com/github/ueche/ml-class/blob/main/labs/Ulysses_Echeverria_A_first_look_at_deep_learning.ipynb\" target=\"_parent\"><img src=\"https://colab.research.google.com/assets/colab-badge.svg\" alt=\"Open In Colab\"/></a>"
      ]
    },
    {
      "cell_type": "markdown",
      "metadata": {
        "id": "0mKArb-b1_En"
      },
      "source": [
        "### Note:\n",
        "\n",
        "**First let's set the runtime to GPU -- click on 'runtime' in the menu above, select 'Change runtime type' and pick 'GPU'.**"
      ]
    },
    {
      "cell_type": "code",
      "execution_count": 95,
      "metadata": {
        "id": "-n3xuc-8gykk",
        "colab": {
          "base_uri": "https://localhost:8080/"
        },
        "outputId": "d78edd63-6b93-4536-f176-c1a9461dd6d6"
      },
      "outputs": [
        {
          "output_type": "stream",
          "name": "stdout",
          "text": [
            "/bin/bash: nvidia-smi: command not found\n"
          ]
        }
      ],
      "source": [
        "!nvidia-smi"
      ]
    },
    {
      "cell_type": "markdown",
      "metadata": {
        "id": "2ii5clez0HmE"
      },
      "source": [
        "# A First Look at Deep Learning using Keras  \n",
        "\n",
        "![](https://raw.githubusercontent.com/zacharski/ml-class/master/labs/pics/keras22.png)\n",
        "\n",
        "\n",
        "\n",
        "This notebook is intended to be a first quick hands-on introduction to deep learning using TensorFlow and Keras. \n",
        "\n",
        "\n",
        "First, let's cover a few definitions.\n",
        "\n",
        "#### Tensor\n",
        "Tensors, like arrays and matrices, are containers for numbers. For now, it is fine to think of tensors as arrays. Tensors have three defining characteristics. \n",
        "\n",
        "1. **Number of Axes or Dimensions**\n",
        "2. **The shape**\n",
        "3. **The Type of Data Stored in the Tensor**\n",
        "\n",
        "For example, the tensor `x` below \n",
        "\n",
        "* has one axis (it is one dimensional).\n",
        "* its shape is represented by the tuple `(4)` --- there are 4 elements in that one axis.\n",
        "* the datatype is `uint8` (the tensor contains integers).\n",
        "\n",
        "![](https://raw.githubusercontent.com/zacharski/datamining-guide/master/labs/pics/tensors43.png)\n",
        "\n",
        "The tensor `y`\n",
        "\n",
        "* has 2 axis (2 dimensional)\n",
        "* its shape is (3,4). Along one axis there are 3 rows and along the other, 4 columns\n",
        "* the datatype is `uint8`\n",
        "\n",
        "Finally, the tensor `z` \n",
        "\n",
        "* has 3 axis   -- it is 3 dimensional\n",
        "* its shape is (2, 3, 4)\n",
        "* the datatype is `uint8`\n",
        "\n",
        "**Tensors are the fundamental datatype for deep learning systems.**\n",
        "\n",
        "\n",
        "### Keras\n",
        "Keras is open source software that functions as an abstract interface to TensorFlow. \n",
        "\n",
        "My difficulty ranking of deep learning libraries (from easiest to hardest) is \n",
        "\n",
        "1. Keras\n",
        "2. PyTorch\n",
        "3. TensorFlow\n",
        "\n",
        "All have their strengths and it is difficult to recommend which one a beginner should start with. The excellent, free, Open.ai course uses PyTorch. However, in our exploration of deep learning we will start with Keras. In your path toward deepening your knowledge in machine learning you will likely encounter all three.\n",
        "\n",
        "# A first look at a neural network\n",
        "Let's go back to the example of recognizing hand written digits. \n",
        "\n",
        "\n",
        "![](https://raw.githubusercontent.com/zacharski/datamining-guide/master/labs/pics/mmnist.png)\n",
        "\n",
        "We are using the MNIST dataset (Modified National Institute of Standards) which is a dataset of 60,000 training instances and 10,000 testing instances of 28x28 grayscale images of the digits 0 through 9. This dataset was created in the 1980s as a testbed for various research groups. Back then it was considered a hard problem. Today it is considered the \"hello world\" equivalent in deep learning and you will see it again and again on your path learning about machine learning. \n"
      ]
    },
    {
      "cell_type": "markdown",
      "metadata": {
        "id": "fHO0x8YE0HmF"
      },
      "source": [
        "\n",
        "\n",
        "# Prelim steps\n",
        "\n",
        "## 1. Import Keras\n"
      ]
    },
    {
      "cell_type": "code",
      "execution_count": 96,
      "metadata": {
        "id": "DS58igpC0HmG",
        "colab": {
          "base_uri": "https://localhost:8080/",
          "height": 35
        },
        "outputId": "c8b2e21b-c9b6-4c3e-9fb9-58cff3d94a81"
      },
      "outputs": [
        {
          "output_type": "execute_result",
          "data": {
            "text/plain": [
              "'2.12.0'"
            ],
            "application/vnd.google.colaboratory.intrinsic+json": {
              "type": "string"
            }
          },
          "metadata": {},
          "execution_count": 96
        }
      ],
      "source": [
        "import keras\n",
        "keras.__version__ "
      ]
    },
    {
      "cell_type": "markdown",
      "metadata": {
        "id": "noY1wNno0HmK"
      },
      "source": [
        "\n",
        "\n",
        "## 2. Define the datasets we are going to use.\n",
        "\n",
        "\n"
      ]
    },
    {
      "cell_type": "markdown",
      "metadata": {
        "id": "1tUaQ5q20HmK"
      },
      "source": [
        "The MNIST dataset is so common that Keras knows how to download the data into a set of four Numpy arrays:"
      ]
    },
    {
      "cell_type": "code",
      "execution_count": 97,
      "metadata": {
        "id": "voWJ4eMm0HmL",
        "colab": {
          "base_uri": "https://localhost:8080/"
        },
        "outputId": "872a5907-932d-47c0-e1f6-4a2dde12535e"
      },
      "outputs": [
        {
          "output_type": "stream",
          "name": "stdout",
          "text": [
            "Downloading data from https://storage.googleapis.com/tensorflow/tf-keras-datasets/mnist.npz\n",
            "11490434/11490434 [==============================] - 1s 0us/step\n"
          ]
        }
      ],
      "source": [
        "from keras.datasets import mnist\n",
        "\n",
        "(train_images, train_labels), (test_images, test_labels) = mnist.load_data()"
      ]
    },
    {
      "cell_type": "markdown",
      "metadata": {
        "id": "AsarChQu0HmN"
      },
      "source": [
        "`train_images` and `train_labels` form the \"training set\", the data that the model will learn from. The model will then be tested on the \n",
        "\"test set\", `test_images` and `test_labels`. The Keras version of this dataset encodes the images as Numpy arrays, and the labels are simply an array of digits, ranging \n",
        "from 0 to 9. There is a one-to-one correspondence between the images and the labels.\n",
        "\n",
        "## 3. Examining the data\n",
        "\n",
        "As already mentioned, each digit in the data is represented by a 28x28 pixel image:\n",
        "\n",
        "\n",
        "![](https://raw.githubusercontent.com/zacharski/datamining-guide/master/labs/pics/mnist2.png)\n",
        "\n",
        "This is represented as a 2 dimensional array of 28 rows and 28 columns. The gray scale at each location is represented by a number. Total white is represented by 0, total black as 255, and shades of gray are represented by numbers between those two. \n",
        "\n",
        "Just for a sanity check, let's see if this format matches a sample of our training data. Let's get the first batch of our data:"
      ]
    },
    {
      "cell_type": "code",
      "execution_count": 98,
      "metadata": {
        "id": "Z5UJNpAs0HmN",
        "colab": {
          "base_uri": "https://localhost:8080/"
        },
        "outputId": "ed433244-547a-4af8-d0ca-6cb244c6301f"
      },
      "outputs": [
        {
          "output_type": "execute_result",
          "data": {
            "text/plain": [
              "(60000, 28, 28)"
            ]
          },
          "metadata": {},
          "execution_count": 98
        }
      ],
      "source": [
        "train_images.shape"
      ]
    },
    {
      "cell_type": "markdown",
      "metadata": {
        "id": "_SexwMUDfdF-"
      },
      "source": [
        "That is not surprising---so 60,000 images that are a 28x28 array of pixel values"
      ]
    },
    {
      "cell_type": "code",
      "execution_count": 99,
      "metadata": {
        "id": "iGoBVIWU0HmQ",
        "colab": {
          "base_uri": "https://localhost:8080/"
        },
        "outputId": "8a941315-9af6-4895-8b10-bfe98b638199"
      },
      "outputs": [
        {
          "output_type": "execute_result",
          "data": {
            "text/plain": [
              "60000"
            ]
          },
          "metadata": {},
          "execution_count": 99
        }
      ],
      "source": [
        "len(train_labels)"
      ]
    },
    {
      "cell_type": "code",
      "execution_count": 100,
      "metadata": {
        "id": "6xrzLvCu0HmV",
        "colab": {
          "base_uri": "https://localhost:8080/"
        },
        "outputId": "c6f6cba3-7af8-471d-ed87-df7433ee9beb"
      },
      "outputs": [
        {
          "output_type": "execute_result",
          "data": {
            "text/plain": [
              "array([5, 0, 4, ..., 5, 6, 8], dtype=uint8)"
            ]
          },
          "metadata": {},
          "execution_count": 100
        }
      ],
      "source": [
        "train_labels"
      ]
    },
    {
      "cell_type": "markdown",
      "metadata": {
        "id": "sw4IhMIr0Hmm"
      },
      "source": [
        "# The data\n",
        "To get an idea of what the data looks like let's display a few images."
      ]
    },
    {
      "cell_type": "code",
      "execution_count": 101,
      "metadata": {
        "id": "K4oH15sT0Hmm",
        "colab": {
          "base_uri": "https://localhost:8080/",
          "height": 1000
        },
        "outputId": "709bda34-bff7-4698-dd73-a83e203302dd"
      },
      "outputs": [
        {
          "output_type": "display_data",
          "data": {
            "text/plain": [
              "<Figure size 200x200 with 1 Axes>"
            ],
            "image/png": "[encoded data removed]"
          },
          "metadata": {}
        },
        {
          "output_type": "display_data",
          "data": {
            "text/plain": [
              "<Figure size 200x200 with 1 Axes>"
            ],
            "image/png": "[encoded data removed]"
          },
          "metadata": {}
        },
        {
          "output_type": "display_data",
          "data": {
            "text/plain": [
              "<Figure size 200x200 with 1 Axes>"
            ],
            "image/png": "[encoded data removed]"
          },
          "metadata": {}
        },
        {
          "output_type": "display_data",
          "data": {
            "text/plain": [
              "<Figure size 200x200 with 1 Axes>"
            ],
            "image/png": "[encoded data removed]"
          },
          "metadata": {}
        },
        {
          "output_type": "display_data",
          "data": {
            "text/plain": [
              "<Figure size 200x200 with 1 Axes>"
            ],
            "image/png": "[encoded data removed]"
          },
          "metadata": {}
        }
      ],
      "source": [
        "import matplotlib.pyplot as plt\n",
        "\n",
        "def viewImage(x):\n",
        "    plt.figure(figsize=(2,2))\n",
        "    plt.imshow(x, interpolation='nearest', cmap='Greys')\n",
        "    plt.show()\n",
        "    \n",
        "viewImage(test_images[0])\n",
        "viewImage(test_images[1])\n",
        "viewImage(test_images[2])\n",
        "viewImage(test_images[3])\n",
        "viewImage(test_images[4])\n",
        "\n",
        "\n"
      ]
    },
    {
      "cell_type": "markdown",
      "metadata": {
        "id": "ereJKgeH_-5f"
      },
      "source": [
        "and let's look at the associated labels:"
      ]
    },
    {
      "cell_type": "code",
      "execution_count": 102,
      "metadata": {
        "id": "h8HKsdisAC_x",
        "colab": {
          "base_uri": "https://localhost:8080/"
        },
        "outputId": "7a272575-bac0-4cb3-ad9e-cf4b87559365"
      },
      "outputs": [
        {
          "output_type": "execute_result",
          "data": {
            "text/plain": [
              "array([7, 2, 1, 0, 4], dtype=uint8)"
            ]
          },
          "metadata": {},
          "execution_count": 102
        }
      ],
      "source": [
        "test_labels[:5]"
      ]
    },
    {
      "cell_type": "markdown",
      "metadata": {
        "id": "OHPEFxanojmP"
      },
      "source": [
        "![](https://raw.githubusercontent.com/zacharski/datamining-guide/master/labs/pics/torchdivide.png)\n",
        "\n",
        "# Our deep learning network design.\n",
        "\n",
        "Let us now turn our attention to the deep learning network we will implement.\n",
        "\n",
        "The input to our deep learning network will be a 28x28 image. Instead of using the two dimensional 28 x 28 representation, for simplicity we will flatten the image into a sequence of 784 pixels (28 times 28). These 784 pixel values will be our input. There are 10 possible outputs representing the digits 0 through 9. Thus, the architecture of our input values and output nodes looks like this:\n",
        "\n",
        "\n",
        "![](https://raw.githubusercontent.com/zacharski/datamining-guide/master/labs/pics/dense1a.png)\n",
        "\n",
        "Between the input and the output we will have one or more hidden layers. *Hidden layers* are simply the layers of nodes between the input and the output. \n",
        "\n",
        "![](https://raw.githubusercontent.com/zacharski/datamining-guide/master/labs/pics/hiddenpyt.png)\n",
        "\n",
        "\n",
        "For our initial network we are going to have one hidden layer of 256 nodes. The layer will be densely connected (also called *fully connected*) meaning that each input  (in this case each pixel) is connected to each node in the inner layer:\n",
        "\n",
        "![](https://raw.githubusercontent.com/zacharski/datamining-guide/master/labs/pics/connect1p.png)\n",
        "\n",
        "\n",
        "So each of the 784 pixel values is connected to each of the 256 nodes of the hidden layer.\n",
        "\n",
        "![](https://raw.githubusercontent.com/zacharski/datamining-guide/master/labs/pics/connect2p.png)\n",
        "\n",
        "Let's examine one of these nodes in the hidden layer in more detail. Each node has 784 inputs and each of these inputs has an associated weight. So *input<sub>1</sub>* has an associated *weight<sub>1</sub>*, *input<sub>2</sub>* has an associated *weight<sub>2</sub>* and *input<sub>784</sub>* has an associated *weight<sub>784</sub>*. Also, each node has an additional weight *weight<sub>0</sub>*. \n",
        "\n",
        "\n",
        "![](https://raw.githubusercontent.com/zacharski/datamining-guide/master/labs/pics/relu2.png)\n",
        "\n",
        "Each node multiplies its input by the associated weights:\n",
        "\n",
        "$$\n",
        "total = \\sum_{i=0}^{784}{x_i w_i}\n",
        "$$\n",
        "\n",
        "Since the inputs are represented by a tensor and the weights are as well, this operation can be done very efficiently on the parallel architecture of a GPU. Next, the node determines its output based on this total weighted input, using an **activation function**. One common activation function is **ReLU** (rectified linear unit) and is defined by \n",
        "\n",
        "$$\n",
        "relu(total) = \\max(0, total)\n",
        "$$\n",
        "\n",
        "So the output of a single node is\n",
        "\n",
        "$$\n",
        "output = \\max(0, \\sum_{i=0}^{784}{x_i w_i})\n",
        "$$\n",
        "\n",
        "Since each node has 785 weights and there are 256 nodes in our hidden layer, there are 200,960 weights in that layer. \n",
        "\n",
        "\n",
        "#### Output layer\n",
        "The output layer is also densely connected, mean each node in the hidden layer will be connected to each of the output nodes. \n",
        "\n",
        "![](https://raw.githubusercontent.com/zacharski/datamining-guide/master/labs/pics/connect3p.png)\n",
        "\n",
        "\n",
        "Resulting in a dense, or fully connected network.\n",
        "\n",
        "![](https://raw.githubusercontent.com/zacharski/datamining-guide/master/labs/pics/connect4p.png)\n",
        "\n",
        "\n",
        "Each node in the output layer has 256 + 1 weights (256 because each node in the output layer is connected to each of the outputs of the 256 nodes in the hidden layer). Thus, there are 2,570 trainable parameters in the output layer for a total of 203,530 trainable parameters. These weights, or trainable parameters, are what the model learns during the training phase. Typically, these parameters are initially set to random numbers.\n",
        "\n",
        "The network in these images is shown with the input on the left and the output on the right and the processing proceeds left to right. The hidden layer performs the calculations described above Each node in the hidden layer has a specific output and these outputs are then processed by the output layer. If we had more layers to our network (for example, three hidden layers), the progression on calculations would be similar. When processing proceeds in this direction it is known as **forward propagation**. *Forward* meaning that the calculations proceed from the initial inputs to the final output.  Using forward propagation, the networks takes inputs representing an image of the number 4 as an example and the network makes a prediction which may be correct (*it is a 4*) or incorrect (*it is a 9*). In what is called a **back propagation** step, the system uses the actual label and the prediction to adjust the weights throughout the network. This will be described in more detail later.\n",
        "\n",
        "As François Chollet, creator of Keras says:  \n",
        "\n",
        "> The core building block of neural networks is the \"layer\", a data-processing module which you can conceive as a \"filter\" for data. Some \n",
        "data comes in, and comes out in a more useful form. Precisely, layers extract _representations_ out of the data fed into them -- hopefully \n",
        "representations that are more meaningful for the problem at hand. Most of deep learning really consists of chaining together simple layers \n",
        "which will implement a form of progressive \"data distillation\". A deep learning model is like a sieve for data processing, made of a \n",
        "succession of increasingly refined data filters -- the \"layers\".\n",
        "\n",
        " \n",
        "\n",
        "#### The total network.\n",
        "This network image above represents the basic architecture of our system\n",
        "\n",
        "* 784 inputs (the pixels of the MNIST image)\n",
        "* 256 densely connected nodes of the hidden layer\n",
        "* 10 output nodes represented the 10 possible classifications of an image (the digits 0 through 9)\n",
        "\n",
        "### Implementing in Keras\n",
        "\n",
        "Just to introduce some code, let us look how to implement this architecture:\n",
        "\n",
        "```\n",
        "from keras import models\n",
        "from keras import layers\n",
        "\n",
        "input_size=784 \n",
        "hidden_size = 256\n",
        "output_size = 10\n",
        "\n",
        "network = models.Sequential()\n",
        "network.add(layers.Dense(hidden_size, activation='relu', input_shape=(input_size,)))\n",
        "network.add(layers.Dense(output_size, activation='softmax'))\n",
        "\n",
        "```\n",
        "\n",
        "First, we set up some variables representing, as the variable names suggest, the input size (the 28 by 28 image contains 784 pixels, the number of hidden nodes (256), and the number of classes in the output (10).\n",
        "\n",
        "Next, we define `network`. `Sequential` creates a sequential container, which means that the layers we add are organized sequentially.\n",
        "\n",
        "The `add` method adds a layer to the network.\n",
        "\n",
        "* `Layers.dense` creates a dense (fully connected) layer. \n",
        "  * The first parameter is the size of the hidden layer---in our case `hidden_size`\n",
        "  * `activation=relu,` specifies we are using the ReLU activation function.\n",
        "  * `input_shape` specifies, as the name suggests, the shape of the input. In our case the 784 pixels of the image.\n",
        "* `network.add(layers.Dense(output_size, activation='softmax'))` Next we add another densely connected layer to our network. \n",
        "  * `output_size` There will be 10 nodes in this layer. Each node represents one of the possible labels for the image--the digits 0 through 9.\n",
        "  * `activation='softmax',` specifies we are using the softmax activation function. This function will give us the probabilies of the possible labels. (For ex., 80% sure it is a '5', etc)\n",
        "\n",
        "\n",
        "If we instead wanted 64 nodes in our hidden layer our code would be\n",
        "\n",
        "\n",
        "\n",
        "```\n",
        "from keras import models\n",
        "from keras import layers\n",
        "\n",
        "input_size=784 \n",
        "hidden_size = 64\n",
        "output_size = 10\n",
        "\n",
        "network = models.Sequential()\n",
        "network.add(layers.Dense(hidden_size, activation='relu', input_shape=(input_size,)))\n",
        "network.add(layers.Dense(output_size, activation='softmax'))\n",
        "\n",
        "```\n",
        "\n",
        "And if we wanted a network with two hidden layers , the first with 256 nodes and the second with 64 nodes we might code it...\n",
        "\n",
        "```\n",
        "from keras import models\n",
        "from keras import layers\n",
        "\n",
        "input_size=784 \n",
        "hidden_size = [256, 64]\n",
        "output_size = 10\n",
        "\n",
        "network = models.Sequential()\n",
        "network.add(layers.Dense(hidden_size[0], activation='relu', input_shape=(input_size,)))\n",
        "network.add(layers.Dense(hidden_size[1], activation='relu'))\n",
        "network.add(layers.Dense(output_size, activation='softmax'))\n",
        "\n",
        "```\n",
        "\n",
        "\n",
        "\n"
      ]
    },
    {
      "cell_type": "markdown",
      "metadata": {
        "id": "P_XKnAu30Hmp"
      },
      "source": [
        "\n",
        "### Workflow\n",
        "\n",
        "\n",
        "Our workflow will be as follow: \n",
        "\n",
        "1. we will create a neural network containing a fully connected hidden layer.\n",
        "2. we will present our neural network with the training data, `train_images` and `train_labels`. The \n",
        "network will then learn to associate images and labels by adjusting the 2,570 weights.\n",
        "3. we will ask the network to produce predictions for `test_images`\n",
        "4. we will verify if these predictions match the labels from `test_labels`.\n",
        "\n",
        "#### Let's build our network."
      ]
    },
    {
      "cell_type": "code",
      "execution_count": 103,
      "metadata": {
        "id": "6I0sj6hW0Hmp"
      },
      "outputs": [],
      "source": [
        "from keras import models\n",
        "from keras import layers\n",
        "\n",
        "input_size=784 \n",
        "hidden_size = 256\n",
        "output_size = 10\n",
        "\n",
        "network = models.Sequential()\n",
        "network.add(layers.Dense(hidden_size, activation='relu', input_shape=(input_size,)))\n",
        "network.add(layers.Dense(output_size, activation='softmax'))"
      ]
    },
    {
      "cell_type": "markdown",
      "metadata": {
        "id": "ouiEONIe0Hms"
      },
      "source": [
        "\n",
        "The core building block of neural networks is the \"layer\", a data-processing module which you can conceive as a \"filter\" for data. Some \n",
        "data comes in, and comes out in a more useful form. Precisely, layers extract _representations_ out of the data fed into them -- hopefully \n",
        "representations that are more meaningful for the problem at hand. Most of deep learning really consists of chaining together simple layers \n",
        "which will implement a form of progressive \"data distillation\". A deep learning model is like a sieve for data processing, made of a \n",
        "succession of increasingly refined data filters -- the \"layers\".\n",
        "\n",
        "Here our network consists of a sequence of two `Dense` layers, which are densely-connected (also called \"fully-connected\") neural layers. \n",
        "The second (and last) layer is a 10-way \"softmax\" layer, which means it will return an array of 10 probability scores (summing to 1). Each \n",
        "score will be the probability that the current digit image belongs to one of our 10 digit classes.\n",
        "\n",
        "\n",
        "#### Compiling the model.\n",
        "To make our network ready for training, we need to pick three more things, as part of a compilation step:\n",
        "\n",
        "* An **optimizer**: this is the mechanism through which the network will update itself based on the data it sees and its loss function.\n",
        "* A **loss function**: this is how the network will be able to measure how good a job it is doing on its training data, and thus how it will be \n",
        "able to steer itself in the right direction.\n",
        "* **Metrics** to monitor during training and testing. Here we will only care about accuracy (the fraction of the images that were correctly \n",
        "classified).\n",
        "\n",
        "Keras makes this compilation step easy:"
      ]
    },
    {
      "cell_type": "code",
      "execution_count": 104,
      "metadata": {
        "id": "tXUIZUwN0Hmt"
      },
      "outputs": [],
      "source": [
        "network.compile(optimizer='rmsprop',\n",
        "                loss='categorical_crossentropy',\n",
        "                metrics=['accuracy'])"
      ]
    },
    {
      "cell_type": "markdown",
      "metadata": {
        "id": "mcclDPL10Hmu"
      },
      "source": [
        "\n",
        "Why did we select categorical crossentropy as the loss function? From the Tensorflow documentation:\n",
        "\n",
        "> Use this crossentropy loss function when there are two or more label classes. We expect labels to be provided in a one_hot representation. If you want to provide labels as integers, please use SparseCategoricalCrossentropy loss. There should be # classes floating point values per feature.\n",
        "\n",
        "Note that the documentation says that we need to one_hot encode the labels. You probably already know this but that means if we are labeling pictures of dogs, cats, squirrel and moose and our test_labels look like\n",
        "\n",
        "picture | label\n",
        ":---:   | :---\n",
        "1.  | dog\n",
        "2. | dog\n",
        "3. | cat\n",
        "4. | squirel\n",
        "5. | cat\n",
        "6. | moose\n",
        "\n",
        "We will one_hot encode this resulting in \n",
        "\n",
        "\n",
        "picture | dog | cat | squirrel | moose\n",
        ":---: | :----: |:--: | :---: | :---:\n",
        " 1.     | 1 | 0 | 0 | 0\n",
        " 2. | 1 | 0| 0 | 0\n",
        " 3. | 0 | 1 | 0 | 0\n",
        " 4. | 0 | 0 | 1 | 0\n",
        " 5. | 0 | 1 |0 | 0\n",
        " 6. | 0|0|0|1\n",
        "\n",
        "And again, the `metrics=['accuracy']` line means that we are calculating the percentage of predicted values that match with actual values.\n",
        "\n",
        "\n",
        "### Preprocessing the data\n",
        "Before training, we will preprocess our data by reshaping it into the shape that the network expects, and scaling it so that all values are in \n",
        "the `[0, 1]` interval. Previously, our training images for instance were stored in an array of shape `(60000, 28, 28)` of type `uint8` with \n",
        "values in the `[0, 255]` interval. We transform it into a `float32` array of shape `(60000, 28 * 28)` with values between 0 and 1.\n",
        "\n",
        "In other words, each image in our original data was a 28x28 array of integers ranging from 0 to 255. We are going to transform the integers 0-255 to a float between 0 and 1. In addition we are going to flatten each image array to look like\n",
        "\n",
        "```\n",
        "[0, 1, 2, 3, 4, 5 ... 784 ]\n",
        "```\n"
      ]
    },
    {
      "cell_type": "code",
      "execution_count": 105,
      "metadata": {
        "id": "h-tevXPN0Hmv",
        "colab": {
          "base_uri": "https://localhost:8080/"
        },
        "outputId": "bdfa2d23-269f-4a4c-f896-640ae1b13c77"
      },
      "outputs": [
        {
          "output_type": "execute_result",
          "data": {
            "text/plain": [
              "array([[0., 0., 0., ..., 0., 0., 0.],\n",
              "       [0., 0., 0., ..., 0., 0., 0.],\n",
              "       [0., 0., 0., ..., 0., 0., 0.],\n",
              "       [0., 0., 0., ..., 0., 0., 0.],\n",
              "       [0., 0., 0., ..., 0., 0., 0.]], dtype=float32)"
            ]
          },
          "metadata": {},
          "execution_count": 105
        }
      ],
      "source": [
        "train_images = train_images.reshape((60000, 28 * 28))\n",
        "train_images = train_images.astype('float32') / 255\n",
        "\n",
        "test_images = test_images.reshape((10000, 28 * 28))\n",
        "test_images = test_images.astype('float32') / 255\n",
        "test_images[:5]"
      ]
    },
    {
      "cell_type": "markdown",
      "metadata": {
        "id": "efw6Tx4x0Hmy"
      },
      "source": [
        "#### Here's a question:\n",
        "Why are we dividing each pixel by 255? What did the original number represent?\n",
        "\n",
        "#### Encode the labels\n",
        "We also need to categorically encode the labels:"
      ]
    },
    {
      "cell_type": "code",
      "execution_count": 106,
      "metadata": {
        "id": "QBoQhwiX0Hmz"
      },
      "outputs": [],
      "source": [
        "from keras.utils import to_categorical\n",
        "\n",
        "train_labels = to_categorical(train_labels)\n",
        "test_labels = to_categorical(test_labels)\n"
      ]
    },
    {
      "cell_type": "markdown",
      "metadata": {
        "id": "eNSszmzz0Hm1"
      },
      "source": [
        "![](https://raw.githubusercontent.com/zacharski/datamining-guide/master/labs/pics/PyDivideTwo.png)\n",
        "\n",
        "## <font color='#EE4C2C'>1. What does the first test label look like? (print it out)</font> "
      ]
    },
    {
      "cell_type": "code",
      "execution_count": 107,
      "metadata": {
        "id": "6de8eFdF0Hm1",
        "colab": {
          "base_uri": "https://localhost:8080/"
        },
        "outputId": "13a41ada-1e43-4bc1-ecee-66b23254bad5"
      },
      "outputs": [
        {
          "output_type": "stream",
          "name": "stdout",
          "text": [
            "[0. 0. 0. 0. 0. 0. 0. 1. 0. 0.]\n"
          ]
        }
      ],
      "source": [
        "print(test_labels[0])\n"
      ]
    },
    {
      "cell_type": "markdown",
      "metadata": {
        "id": "_3wWDY0g0Hm3"
      },
      "source": [
        "### Training our first deep learning model\n",
        "\n",
        "We are now ready to train our network, which, unsurprisingly, in Keras is done via a call to the `fit` method of the network: \n",
        "we \"fit\" the model to its training data."
      ]
    },
    {
      "cell_type": "code",
      "execution_count": 108,
      "metadata": {
        "id": "3JQ7pH630Hm4",
        "colab": {
          "base_uri": "https://localhost:8080/"
        },
        "outputId": "4731dab0-3f9f-4cf1-8698-b9ea44195f79"
      },
      "outputs": [
        {
          "output_type": "stream",
          "name": "stdout",
          "text": [
            "Epoch 1/5\n",
            "469/469 [==============================] - 5s 9ms/step - loss: 0.2977 - accuracy: 0.9161\n",
            "Epoch 2/5\n",
            "469/469 [==============================] - 3s 7ms/step - loss: 0.1285 - accuracy: 0.9634\n",
            "Epoch 3/5\n",
            "469/469 [==============================] - 3s 6ms/step - loss: 0.0868 - accuracy: 0.9747\n",
            "Epoch 4/5\n",
            "469/469 [==============================] - 3s 6ms/step - loss: 0.0653 - accuracy: 0.9806\n",
            "Epoch 5/5\n",
            "469/469 [==============================] - 4s 9ms/step - loss: 0.0516 - accuracy: 0.9847\n"
          ]
        },
        {
          "output_type": "execute_result",
          "data": {
            "text/plain": [
              "<keras.callbacks.History at 0x7f7e734c0ee0>"
            ]
          },
          "metadata": {},
          "execution_count": 108
        }
      ],
      "source": [
        "network.fit(train_images, train_labels, epochs=5, batch_size=128)"
      ]
    },
    {
      "cell_type": "markdown",
      "metadata": {
        "id": "37PUt_b-0Hm7"
      },
      "source": [
        "Two quantities are being displayed during training: the \"loss\" of the network over the training data, and the accuracy of the network over \n",
        "the training data.\n",
        "\n",
        "We quickly reach an accuracy of 0.989 (i.e. 98.9%) on the training data. Now let's check that our model performs well on the test set too:"
      ]
    },
    {
      "cell_type": "code",
      "execution_count": 109,
      "metadata": {
        "id": "Ig8FrFXQ0Hm8",
        "colab": {
          "base_uri": "https://localhost:8080/"
        },
        "outputId": "71e73693-8b3b-401a-9277-e2cdfaac140e"
      },
      "outputs": [
        {
          "output_type": "stream",
          "name": "stdout",
          "text": [
            "313/313 [==============================] - 1s 2ms/step - loss: 0.0688 - accuracy: 0.9789\n"
          ]
        }
      ],
      "source": [
        "test_loss, test_acc = network.evaluate(test_images, test_labels)"
      ]
    },
    {
      "cell_type": "code",
      "execution_count": 110,
      "metadata": {
        "id": "u6QizHgB0Hm-",
        "colab": {
          "base_uri": "https://localhost:8080/"
        },
        "outputId": "e4bfb3f4-9842-4086-daa4-bd2ffbf3e734"
      },
      "outputs": [
        {
          "output_type": "stream",
          "name": "stdout",
          "text": [
            "test_acc: 0.9789000153541565\n"
          ]
        }
      ],
      "source": [
        "print('test_acc:', test_acc)"
      ]
    },
    {
      "cell_type": "markdown",
      "metadata": {
        "id": "mEzOBPol0HnA"
      },
      "source": [
        "\n",
        "Our test set accuracy turns out to be 97.8% -- that's quite a bit lower than the training set accuracy. \n",
        "This gap between training accuracy and test accuracy is an example of \"overfitting\", \n",
        "the fact that machine learning models tend to perform worse on new data than on their training data. \n",
        "\n",
        "![](https://raw.githubusercontent.com/zacharski/datamining-guide/master/labs/pics/PyDivideTwo.png)\n",
        "\n",
        "## <font color='#EE4C2C'>2. Accuracy with 7 epochs</font> \n",
        "What is the accuracy on our test data if we use 7 epochs?  You will need to build, compile, and fit a new model.\n",
        "\n",
        "### Build"
      ]
    },
    {
      "cell_type": "code",
      "execution_count": 111,
      "metadata": {
        "id": "54qgE0rysDdm"
      },
      "outputs": [],
      "source": [
        "from keras.datasets import mnist\n",
        "\n",
        "(train_images, train_labels), (test_images, test_labels) = mnist.load_data()"
      ]
    },
    {
      "cell_type": "code",
      "source": [
        "from keras import models\n",
        "from keras import layers\n",
        "\n",
        "input_size=784 \n",
        "hidden_size = 256\n",
        "output_size = 10\n",
        "\n",
        "network = models.Sequential()\n",
        "network.add(layers.Dense(hidden_size, activation='relu', input_shape=(input_size,)))\n",
        "network.add(layers.Dense(output_size, activation='softmax'))"
      ],
      "metadata": {
        "id": "lLfBIWajpexv"
      },
      "execution_count": 112,
      "outputs": []
    },
    {
      "cell_type": "markdown",
      "metadata": {
        "id": "8YdSlKfSwkFP"
      },
      "source": [
        "### Compile"
      ]
    },
    {
      "cell_type": "code",
      "execution_count": 113,
      "metadata": {
        "id": "egIaBbbSwmLd"
      },
      "outputs": [],
      "source": [
        "network.compile(optimizer='rmsprop',\n",
        "                loss='categorical_crossentropy',\n",
        "                metrics=['accuracy'])"
      ]
    },
    {
      "cell_type": "code",
      "source": [
        "train_images = train_images.reshape((60000, 28 * 28))\n",
        "train_images = train_images.astype('float32') / 255\n",
        "\n",
        "test_images = test_images.reshape((10000, 28 * 28))\n",
        "test_images = test_images.astype('float32') / 255\n",
        "test_images[:5]"
      ],
      "metadata": {
        "colab": {
          "base_uri": "https://localhost:8080/"
        },
        "id": "F7Ne1hfHqfJ4",
        "outputId": "1effb34c-0cf2-45ac-b4ad-6cdb0dfcfec0"
      },
      "execution_count": 114,
      "outputs": [
        {
          "output_type": "execute_result",
          "data": {
            "text/plain": [
              "array([[0., 0., 0., ..., 0., 0., 0.],\n",
              "       [0., 0., 0., ..., 0., 0., 0.],\n",
              "       [0., 0., 0., ..., 0., 0., 0.],\n",
              "       [0., 0., 0., ..., 0., 0., 0.],\n",
              "       [0., 0., 0., ..., 0., 0., 0.]], dtype=float32)"
            ]
          },
          "metadata": {},
          "execution_count": 114
        }
      ]
    },
    {
      "cell_type": "code",
      "source": [
        "from keras.utils import to_categorical\n",
        "\n",
        "train_labels = to_categorical(train_labels)\n",
        "test_labels = to_categorical(test_labels)\n",
        "print(test_labels[0])"
      ],
      "metadata": {
        "colab": {
          "base_uri": "https://localhost:8080/"
        },
        "id": "f01yQIlCq05U",
        "outputId": "c796a2e6-c624-4bfb-ef17-50a39682a913"
      },
      "execution_count": 115,
      "outputs": [
        {
          "output_type": "stream",
          "name": "stdout",
          "text": [
            "[0. 0. 0. 0. 0. 0. 0. 1. 0. 0.]\n"
          ]
        }
      ]
    },
    {
      "cell_type": "markdown",
      "metadata": {
        "id": "P-ADsdlAwmnM"
      },
      "source": [
        "### Fit"
      ]
    },
    {
      "cell_type": "code",
      "execution_count": 116,
      "metadata": {
        "id": "cWytfea1wreu",
        "colab": {
          "base_uri": "https://localhost:8080/"
        },
        "outputId": "403a873f-61d3-436b-a034-71ccba637b09"
      },
      "outputs": [
        {
          "output_type": "stream",
          "name": "stdout",
          "text": [
            "Epoch 1/7\n",
            "469/469 [==============================] - 4s 7ms/step - loss: 0.2976 - accuracy: 0.9167\n",
            "Epoch 2/7\n",
            "469/469 [==============================] - 4s 9ms/step - loss: 0.1280 - accuracy: 0.9622\n",
            "Epoch 3/7\n",
            "469/469 [==============================] - 3s 6ms/step - loss: 0.0874 - accuracy: 0.9743\n",
            "Epoch 4/7\n",
            "469/469 [==============================] - 3s 6ms/step - loss: 0.0656 - accuracy: 0.9805\n",
            "Epoch 5/7\n",
            "469/469 [==============================] - 3s 6ms/step - loss: 0.0513 - accuracy: 0.9848\n",
            "Epoch 6/7\n",
            "469/469 [==============================] - 4s 9ms/step - loss: 0.0418 - accuracy: 0.9878\n",
            "Epoch 7/7\n",
            "469/469 [==============================] - 3s 6ms/step - loss: 0.0341 - accuracy: 0.9899\n"
          ]
        },
        {
          "output_type": "execute_result",
          "data": {
            "text/plain": [
              "<keras.callbacks.History at 0x7f7e08b0e3d0>"
            ]
          },
          "metadata": {},
          "execution_count": 116
        }
      ],
      "source": [
        "network.fit(train_images, train_labels, epochs=7, batch_size=128)"
      ]
    },
    {
      "cell_type": "markdown",
      "metadata": {
        "id": "KM7ibNFWwtoi"
      },
      "source": [
        "### Accuracy"
      ]
    },
    {
      "cell_type": "code",
      "execution_count": 117,
      "metadata": {
        "id": "_TZucb2gwxK-",
        "colab": {
          "base_uri": "https://localhost:8080/"
        },
        "outputId": "562ab4a5-c18c-416c-a8c1-dc9dc35df870"
      },
      "outputs": [
        {
          "output_type": "stream",
          "name": "stdout",
          "text": [
            "313/313 [==============================] - 1s 2ms/step - loss: 0.0646 - accuracy: 0.9799\n",
            "test_acc: 0.9799000024795532\n"
          ]
        }
      ],
      "source": [
        "test_loss, test_acc = network.evaluate(test_images, test_labels)\n",
        "print('test_acc:', test_acc)\n"
      ]
    },
    {
      "cell_type": "markdown",
      "metadata": {
        "id": "HjZOO2O10HnD"
      },
      "source": [
        "![](https://raw.githubusercontent.com/zacharski/datamining-guide/master/labs/pics/PyDivideTwo.png)\n",
        "\n",
        "## <font color='#EE4C2C'>3. Accuracy without training</font> \n",
        "What is the accuracy on our test data using our network before we do any training (before `fit`)? You will need to build, and compile a new model."
      ]
    },
    {
      "cell_type": "code",
      "execution_count": 118,
      "metadata": {
        "id": "lKR6VDnd0HnD"
      },
      "outputs": [],
      "source": [
        "from keras.datasets import mnist\n",
        "\n",
        "(train_images, train_labels), (test_images, test_labels) = mnist.load_data()\n",
        "\n",
        "from keras import models\n",
        "from keras import layers\n",
        "\n",
        "input_size=784 \n",
        "hidden_size = 256\n",
        "output_size = 10\n",
        "\n",
        "network = models.Sequential()\n",
        "network.add(layers.Dense(hidden_size, activation='relu', input_shape=(input_size,)))\n",
        "network.add(layers.Dense(output_size, activation='softmax'))"
      ]
    },
    {
      "cell_type": "code",
      "source": [
        "network.compile(optimizer='rmsprop',\n",
        "                loss='categorical_crossentropy',\n",
        "                metrics=['accuracy'])"
      ],
      "metadata": {
        "id": "jMnrbEyRt44t"
      },
      "execution_count": 119,
      "outputs": []
    },
    {
      "cell_type": "code",
      "source": [
        "train_images = train_images.reshape((60000, 28 * 28))\n",
        "train_images = train_images.astype('float32') / 255\n",
        "\n",
        "test_images = test_images.reshape((10000, 28 * 28))\n",
        "test_images = test_images.astype('float32') / 255\n"
      ],
      "metadata": {
        "id": "4SRV0OyqvSc4"
      },
      "execution_count": 120,
      "outputs": []
    },
    {
      "cell_type": "code",
      "source": [
        "test_images = test_images.reshape((10000, 28 * 28))\n",
        "test_images = test_images.astype('float32') / 255\n"
      ],
      "metadata": {
        "id": "8IDhN2kOBTls"
      },
      "execution_count": 121,
      "outputs": []
    },
    {
      "cell_type": "code",
      "source": [
        "from keras.utils import to_categorical\n",
        "\n",
        "train_labels = to_categorical(train_labels)\n",
        "test_labels = to_categorical(test_labels)\n",
        "print(test_labels[0])"
      ],
      "metadata": {
        "id": "484_7NUhvfZh",
        "colab": {
          "base_uri": "https://localhost:8080/"
        },
        "outputId": "7e54ff4a-0172-40ea-c562-062f658837e5"
      },
      "execution_count": 122,
      "outputs": [
        {
          "output_type": "stream",
          "name": "stdout",
          "text": [
            "[0. 0. 0. 0. 0. 0. 0. 1. 0. 0.]\n"
          ]
        }
      ]
    },
    {
      "cell_type": "code",
      "source": [
        "#network.fit(train_images, train_labels, epochs=5, batch_size=128)"
      ],
      "metadata": {
        "id": "R8svhVWACbXC"
      },
      "execution_count": 123,
      "outputs": []
    },
    {
      "cell_type": "code",
      "execution_count": 124,
      "metadata": {
        "colab": {
          "base_uri": "https://localhost:8080/"
        },
        "outputId": "a9f35eff-799e-4ec2-9f87-ff795434caea",
        "id": "oxRIcybyuI8T"
      },
      "outputs": [
        {
          "output_type": "stream",
          "name": "stdout",
          "text": [
            "313/313 [==============================] - 1s 2ms/step - loss: 2.3024 - accuracy: 0.1595\n",
            "test_acc: 0.15950000286102295\n"
          ]
        }
      ],
      "source": [
        "test_loss, test_acc = network.evaluate(test_images, test_labels)\n",
        "print('test_acc:', test_acc)\n"
      ]
    },
    {
      "cell_type": "code",
      "source": [],
      "metadata": {
        "id": "8-pP145Wt4si"
      },
      "execution_count": 124,
      "outputs": []
    },
    {
      "cell_type": "markdown",
      "metadata": {
        "id": "E4qA1lPZ0HnG"
      },
      "source": [
        "### Training\n",
        "As you can see from your above experiment, before we fit the model the accuracy was not very good. Before training, the weight are set at random (not exactly, but let's keep it simple for now). \n",
        "\n",
        "\n",
        "\n",
        "\n",
        "![](http://zacharski.org/files/courses/cs419/deepLearning.png)\n",
        "\n",
        "When we were fitting the model:\n",
        "\n",
        "     network.fit(train_images, train_labels, epochs=5, batch_size=128)\n",
        "    \n",
        "we processed 128 images at a time (this is called batch_size). Everytime we processed the images in that batch we calculated the loss and adjusted the weights to improve the network's  performance. Each time we go through the entire dataset we call it an epoch. So in our initial training, we went through the dataset 5 times.  Once we have gone through the data 5 times we stop and now we have a trained neural network. 'Trained' simply means that we have a network with the weight adjusted to reduce loss.\n",
        "\n",
        "#### Epochs \n",
        "Again, epochs are how many times we go through the training data. You may wonder, are more epochs always better. Stop for a moment and ponder this. \n",
        "\n",
        "* .\n",
        "* .\n",
        "* .\n",
        "* .\n",
        "If you need a clue let me mention bias and variance. \n",
        "\n",
        "In the next notebook we will be displaying both the accuracy on the training data and the accuracy on the validation error.  If at some point you see the training data accuracy still going gradually down, but the validation error going up. You may be overfitting your data.\n",
        "\n",
        "\n",
        "![](https://raw.githubusercontent.com/zacharski/datamining-guide/master/labs/pics/PyDivideTwo.png)\n",
        "\n",
        "## <font color='#EE4C2C'>4. Fashion</font> \n",
        "\n",
        "As a small first step try out the FashionMNIST dataset.\n",
        "\n",
        "\n",
        "![](https://raw.githubusercontent.com/zacharski/datamining-guide/master/labs/pics/clothing.gif)\n",
        "\n",
        "\n",
        "The dataset consists of small 28x28 grayscale image icons of different articles of clothing. There are 60,000 images in the training set and 10,000 in the test set. Each image has an associated label from a list of 10:\n",
        "\n",
        "\n",
        "| Label | Description |\n",
        "| --- | --- |\n",
        "| 0 | T-shirt/top |\n",
        "| 1 | Trouser |\n",
        "| 2 | Pullover |\n",
        "| 3 | Dress |\n",
        "| 4 | Coat |\n",
        "| 5 | Sandal |\n",
        "| 6 | Shirt |\n",
        "| 7 | Sneaker |\n",
        "| 8 | Bag |\n",
        "| 9 | Ankle boot |\n",
        "\n",
        "\n",
        "\n",
        "#### The files\n",
        "\n",
        "* Training set: [clothes_train.csv](http://zacharski.org/files/courses/cs419/clothes_train.csv)\n",
        "* Test set: [clothing_test.csv](http://zacharski.org/files/courses/cs419/cTest.csv) Note: Don't use the test set for training.\n",
        "\n",
        "Can you create a network with one hidden layer similar to the example above and train it?\n"
      ]
    },
    {
      "cell_type": "code",
      "source": [
        "# Import the library and dataset\n",
        "import keras\n",
        "from keras.datasets import fashion_mnist\n",
        "# keras already assign the data to each ndarray as per the format\n",
        "(train_images, train_labels), (test_images, test_labels) = fashion_mnist.load_data()\n"
      ],
      "metadata": {
        "id": "w9x1W9eC4oIf"
      },
      "execution_count": 125,
      "outputs": []
    },
    {
      "cell_type": "code",
      "source": [
        "# print the shape of the ndarray\n",
        "print(\"Training Images Shape:\", train_images.shape)\n",
        "print(\"Training Labels Shape:\", train_labels.shape)\n",
        "print(\"Testing Images Shape:\", test_images.shape)\n",
        "print(\"Testing Labels Shape:\", test_labels.shape)"
      ],
      "metadata": {
        "colab": {
          "base_uri": "https://localhost:8080/"
        },
        "id": "Qvlqa5cMITdz",
        "outputId": "11407786-bda8-437a-e3af-d02d96013c2d"
      },
      "execution_count": 126,
      "outputs": [
        {
          "output_type": "stream",
          "name": "stdout",
          "text": [
            "Training Images Shape: (60000, 28, 28)\n",
            "Training Labels Shape: (60000,)\n",
            "Testing Images Shape: (10000, 28, 28)\n",
            "Testing Labels Shape: (10000,)\n"
          ]
        }
      ]
    },
    {
      "cell_type": "code",
      "source": [
        "# lets view the image by plotting the data\n",
        "import matplotlib.pyplot as plt\n",
        "\n",
        "def viewImage(x):\n",
        "    plt.figure(figsize=(2,2))\n",
        "    plt.imshow(x, interpolation='nearest', cmap='Greys')\n",
        "    plt.show()\n",
        "    \n",
        "viewImage(test_images[0])\n",
        "viewImage(test_images[1])\n",
        "viewImage(test_images[2])\n",
        "viewImage(test_images[3])\n",
        "viewImage(test_images[4])"
      ],
      "metadata": {
        "colab": {
          "base_uri": "https://localhost:8080/",
          "height": 1000
        },
        "id": "n6ScecM-MWDR",
        "outputId": "dd32123a-e420-4b01-8e28-184dde044d50"
      },
      "execution_count": 127,
      "outputs": [
        {
          "output_type": "display_data",
          "data": {
            "text/plain": [
              "<Figure size 200x200 with 1 Axes>"
            ],
            "image/png": "[encoded data removed]"
          },
          "metadata": {}
        },
        {
          "output_type": "display_data",
          "data": {
            "text/plain": [
              "<Figure size 200x200 with 1 Axes>"
            ],
            "image/png": "[encoded data removed]"
          },
          "metadata": {}
        },
        {
          "output_type": "display_data",
          "data": {
            "text/plain": [
              "<Figure size 200x200 with 1 Axes>"
            ],
            "image/png": "[encoded data removed]"
          },
          "metadata": {}
        },
        {
          "output_type": "display_data",
          "data": {
            "text/plain": [
              "<Figure size 200x200 with 1 Axes>"
            ],
            "image/png": "[encoded data removed]"
          },
          "metadata": {}
        },
        {
          "output_type": "display_data",
          "data": {
            "text/plain": [
              "<Figure size 200x200 with 1 Axes>"
            ],
            "image/png": "[encoded data removed]"
          },
          "metadata": {}
        }
      ]
    },
    {
      "cell_type": "code",
      "source": [
        "test_labels[:5]"
      ],
      "metadata": {
        "id": "t1obSoX7-uDb",
        "colab": {
          "base_uri": "https://localhost:8080/"
        },
        "outputId": "a57919dc-c179-45d8-8843-02809dd574fe"
      },
      "execution_count": 128,
      "outputs": [
        {
          "output_type": "execute_result",
          "data": {
            "text/plain": [
              "array([9, 2, 1, 1, 6], dtype=uint8)"
            ]
          },
          "metadata": {},
          "execution_count": 128
        }
      ]
    },
    {
      "cell_type": "code",
      "execution_count": 129,
      "metadata": {
        "id": "2DZJmQ-g0HnG",
        "colab": {
          "base_uri": "https://localhost:8080/"
        },
        "outputId": "1673d393-54ac-46ed-92ee-9937ec29e031"
      },
      "outputs": [
        {
          "output_type": "stream",
          "name": "stdout",
          "text": [
            "Epoch 1/7\n",
            "469/469 [==============================] - 5s 9ms/step - loss: 0.5627 - accuracy: 0.8020\n",
            "Epoch 2/7\n",
            "469/469 [==============================] - 3s 6ms/step - loss: 0.3946 - accuracy: 0.8570\n",
            "Epoch 3/7\n",
            "469/469 [==============================] - 3s 6ms/step - loss: 0.3505 - accuracy: 0.8727\n",
            "Epoch 4/7\n",
            "469/469 [==============================] - 3s 6ms/step - loss: 0.3230 - accuracy: 0.8819\n",
            "Epoch 5/7\n",
            "469/469 [==============================] - 4s 9ms/step - loss: 0.3029 - accuracy: 0.8885\n",
            "Epoch 6/7\n",
            "469/469 [==============================] - 3s 6ms/step - loss: 0.2866 - accuracy: 0.8942\n",
            "Epoch 7/7\n",
            "469/469 [==============================] - 3s 6ms/step - loss: 0.2758 - accuracy: 0.8977\n"
          ]
        },
        {
          "output_type": "execute_result",
          "data": {
            "text/plain": [
              "<keras.callbacks.History at 0x7f7e50da6400>"
            ]
          },
          "metadata": {},
          "execution_count": 129
        }
      ],
      "source": [
        "# Import keras models and layer to build the framework of the deep learning network \n",
        "from keras import models\n",
        "from keras import layers\n",
        "\n",
        "# Define variables of the network design\n",
        "input_size=784 \n",
        "hidden_size = 256\n",
        "output_size = 10\n",
        "\n",
        "# Define network model, layers and activation function\n",
        "# a sequential container means the layers we add are organized sequentially\n",
        "network = models.Sequential() \n",
        "\n",
        "# the add method adds the network layers. Dense is fully connected\n",
        "network.add(layers.Dense(hidden_size, activation='relu', input_shape=(input_size,)))\n",
        "\n",
        "# Output layer with 10 output nodes corrresponding to the 10 image types\n",
        "# activation softmax gives us the probabilities of the of the possible labels\n",
        "network.add(layers.Dense(output_size, activation='softmax'))\n",
        "\n",
        "# Define the three necessary argument for compilation\n",
        "# optimizer: this is the mechanism through which the network will update itself \n",
        "# based on the data it sees and its loss function.\n",
        "# loss function: this is how the network will be able to measure how good a job \n",
        "# it is doing on its training data, and thus how it will be able to steer itself \n",
        "# in the right direction.\n",
        "# Metrics to monitor during training and testing. Here we will only care about \n",
        "# accuracy (the fraction of the images that were correctly classified).\n",
        "network.compile(optimizer='rmsprop',\n",
        "                loss='categorical_crossentropy',\n",
        "                metrics=['accuracy'])\n",
        "\n",
        "# Before training, the data need to be reshaped from nd array to flat image array\n",
        "# of [0,1,2,3,4,5....,784] and the 32 float integers need to be normalized 0-1\n",
        "train_images = train_images.reshape((60000, 28 * 28))\n",
        "train_images = train_images.astype('float32') / 255\n",
        "\n",
        "test_images = test_images.reshape((10000, 28 * 28))\n",
        "test_images = test_images.astype('float32') / 255\n",
        "\n",
        "# import categorical to convert label array from onehot-encoded to categorical \n",
        "# integer representing the ten output nodes. Also called categorical encoding.\n",
        "from keras.utils import to_categorical\n",
        "\n",
        "train_labels = to_categorical(train_labels)\n",
        "test_labels = to_categorical(test_labels)\n",
        "\n",
        "# train the model. Batch size 128 and 7 epochs.\n",
        "# Each epoch sees an improvement in loss and accuracy.\n",
        "network.fit(train_images, train_labels, epochs=7, batch_size=128)"
      ]
    },
    {
      "cell_type": "markdown",
      "metadata": {
        "id": "NgnlMXV90HnI"
      },
      "source": [
        "### What is its accuracy on the test data?"
      ]
    },
    {
      "cell_type": "code",
      "execution_count": 130,
      "metadata": {
        "id": "nR_lX8i90HnJ",
        "colab": {
          "base_uri": "https://localhost:8080/"
        },
        "outputId": "c1b22abd-7235-44ce-ec83-355ca7e24c68"
      },
      "outputs": [
        {
          "output_type": "stream",
          "name": "stdout",
          "text": [
            "313/313 [==============================] - 1s 2ms/step - loss: 0.3407 - accuracy: 0.8757\n",
            "test_acc: 0.8756999969482422\n"
          ]
        }
      ],
      "source": [
        "#test the accuracy of the model\n",
        "test_loss, test_acc = network.evaluate(test_images, test_labels)\n",
        "print('test_acc:', test_acc)"
      ]
    },
    {
      "cell_type": "markdown",
      "metadata": {
        "id": "tY3fZL-l0HnL"
      },
      "source": [
        "![](https://raw.githubusercontent.com/zacharski/datamining-guide/master/labs/pics/PyDivideTwo.png)\n",
        "\n",
        "## <font color='#EE4C2C'>5. Two Hidden Layers</font> .\n",
        "Can you construct and train a new network that has two hidden layers \n",
        "(as before, the first layer can have 512 neurons - the second should have 256)? What is its accuracy on the test data? "
      ]
    },
    {
      "cell_type": "code",
      "execution_count": 131,
      "metadata": {
        "id": "OiuUUZs30HnL",
        "colab": {
          "base_uri": "https://localhost:8080/"
        },
        "outputId": "96ddec70-d87f-4cb1-9c45-b8579de438e6"
      },
      "outputs": [
        {
          "output_type": "stream",
          "name": "stdout",
          "text": [
            "Epoch 1/7\n",
            "469/469 [==============================] - 8s 15ms/step - loss: 0.5494 - accuracy: 0.7987\n",
            "Epoch 2/7\n",
            "469/469 [==============================] - 6s 13ms/step - loss: 0.3778 - accuracy: 0.8615\n",
            "Epoch 3/7\n",
            "469/469 [==============================] - 7s 15ms/step - loss: 0.3339 - accuracy: 0.8759\n",
            "Epoch 4/7\n",
            "469/469 [==============================] - 6s 13ms/step - loss: 0.3067 - accuracy: 0.8849\n",
            "Epoch 5/7\n",
            "469/469 [==============================] - 7s 15ms/step - loss: 0.2853 - accuracy: 0.8924\n",
            "Epoch 6/7\n",
            "469/469 [==============================] - 6s 13ms/step - loss: 0.2723 - accuracy: 0.8975\n",
            "Epoch 7/7\n",
            "469/469 [==============================] - 7s 15ms/step - loss: 0.2585 - accuracy: 0.9032\n"
          ]
        },
        {
          "output_type": "execute_result",
          "data": {
            "text/plain": [
              "<keras.callbacks.History at 0x7f7e5a0403a0>"
            ]
          },
          "metadata": {},
          "execution_count": 131
        }
      ],
      "source": [
        "# # Import the library and dataset\n",
        "import keras\n",
        "from keras.datasets import fashion_mnist\n",
        "# keras already assign the data to each ndarray as per the format\n",
        "(train_images, train_labels), (test_images, test_labels) = fashion_mnist.load_data()\n",
        "\n",
        "# Import keras models and layer to build the framework of the deep learning network \n",
        "from keras import models\n",
        "from keras import layers\n",
        "\n",
        "# Define variables of the network design\n",
        "input_size=784 \n",
        "hidden1_size = 512\n",
        "hidden2_size = 256\n",
        "output_size = 10\n",
        "\n",
        "# Define network model, layers and activation function\n",
        "# a sequential container means the layers we add are organized sequentially\n",
        "network = models.Sequential() \n",
        "\n",
        "# the add method adds the network layers. Dense is fully connected\n",
        "network.add(layers.Dense(hidden1_size, activation='relu', input_shape=(input_size,)))\n",
        "network.add(layers.Dense(hidden2_size, activation='relu', input_shape=(input_size,)))\n",
        "\n",
        "# Output layer with 10 output nodes corrresponding to the 10 image types\n",
        "# activation softmax gives us the probabilities of the of the possible labels\n",
        "network.add(layers.Dense(output_size, activation='softmax'))\n",
        "\n",
        "# Define the three necessary argument for compilation\n",
        "# optimizer: this is the mechanism through which the network will update itself \n",
        "# based on the data it sees and its loss function.\n",
        "# loss function: this is how the network will be able to measure how good a job \n",
        "# it is doing on its training data, and thus how it will be able to steer itself \n",
        "# in the right direction.\n",
        "# Metrics to monitor during training and testing. Here we will only care about \n",
        "# accuracy (the fraction of the images that were correctly classified).\n",
        "network.compile(optimizer='rmsprop',\n",
        "                loss='categorical_crossentropy',\n",
        "                metrics=['accuracy'])\n",
        "\n",
        "# Before training, the data need to be reshaped from nd array to flat image array\n",
        "# of [0,1,2,3,4,5....,784] and the 32 float integers need to be normalized 0-1\n",
        "train_images = train_images.reshape((60000, 28 * 28))\n",
        "train_images = train_images.astype('float32') / 255\n",
        "\n",
        "test_images = test_images.reshape((10000, 28 * 28))\n",
        "test_images = test_images.astype('float32') / 255\n",
        "\n",
        "# import categorical to convert label array from onehot-encoded to categorical \n",
        "# integer representing the ten output nodes. Also called categorical encoding.\n",
        "from keras.utils import to_categorical\n",
        "\n",
        "train_labels = to_categorical(train_labels)\n",
        "test_labels = to_categorical(test_labels)\n",
        "\n",
        "# train the model. Batch size 128 and 7 epochs.\n",
        "# Each epoch sees an improvement in loss and accuracy.\n",
        "network.fit(train_images, train_labels, epochs=7, batch_size=128)"
      ]
    },
    {
      "cell_type": "code",
      "source": [
        "#test the accuracy of the model\n",
        "test_loss, test_acc = network.evaluate(test_images, test_labels)\n",
        "print('test_acc:', test_acc)"
      ],
      "metadata": {
        "colab": {
          "base_uri": "https://localhost:8080/"
        },
        "id": "JZFWm74xc_U8",
        "outputId": "7d84c1ef-0a7a-42f9-9dbf-4ad2adb2a055"
      },
      "execution_count": 132,
      "outputs": [
        {
          "output_type": "stream",
          "name": "stdout",
          "text": [
            "313/313 [==============================] - 1s 3ms/step - loss: 0.3731 - accuracy: 0.8737\n",
            "test_acc: 0.8737000226974487\n"
          ]
        }
      ]
    },
    {
      "cell_type": "code",
      "source": [],
      "metadata": {
        "id": "3QT1wzXcc_R1"
      },
      "execution_count": 132,
      "outputs": []
    },
    {
      "cell_type": "code",
      "source": [],
      "metadata": {
        "id": "85wxvRLBc_JQ"
      },
      "execution_count": 132,
      "outputs": []
    },
    {
      "cell_type": "markdown",
      "metadata": {
        "id": "S8ll6Pz00HnO"
      },
      "source": [
        "![](https://raw.githubusercontent.com/zacharski/datamining-guide/master/labs/pics/torchdivide.png)\n",
        "\n",
        "## <font color='#EE4C2C'>6. Volcanos on Venus</font> \n",
        "![](https://upload.wikimedia.org/wikipedia/commons/1/16/Maat_Mons_on_Venus.jpg)\n",
        "\n",
        "\n",
        "### First, no one has been to Venus\n",
        "I felt I needed to say that upfront because we don't really know if there are volcanoes on Venus. An analysis of the data by experts is not 100% accurate so the labels are the experts best guess.\n",
        "\n",
        "The images are from NASA's Magellan spacecraft which was launched on May 4, 1989 and made it to Venus on August 10, 1990. Magellan mapped the surface of Venus using synthetic aperture radar. Some images have black blocks in them caused by either problems with Magellan or with communication back to earth. \n",
        "\n",
        "### The data\n",
        "The images are 110x110 grayscale pixels. The value of each pixel ranges from 0 to 255. Your task it to build a classifier that will predict whether a volcano is present in the image or not.\n",
        "\n",
        "#### The files\n",
        "\n",
        "* Training images: [volcanoes_train_images.csv](http://zacharski.org/files/courses/cs419/volcanoes_train_images.csv)\n",
        "* Training labels: [volcanoes_train_labels.csv](http://zacharski.org/files/courses/cs419/volcanoes_train_labels.csv) \n",
        "* Testing images: [volcanoes_test_images.csv](http://zacharski.org/files/courses/cs419/volcanoes_test_images.csv)\n",
        "* Testing labels: [volcanoes_test_labels.csv](http://zacharski.org/files/courses/cs419/volcanoes_test_labels.csv) \n",
        "\n",
        "\n",
        "\n",
        "\n",
        "## Tasks\n",
        "\n",
        "There are 5 tasks\n",
        "\n",
        "1. A simple task: Can you display a few of the images from the dataset?\n",
        "2. Build a model with one hidden layer. Train it for 2 epochs. What is it's accuracy?\n",
        "3. Build a model with one hidden layer. Train it for 10 epochs. What is it's accuracy? \n",
        "4. Does increasing the epochs beyond 10 improve accuracy?\n",
        "5. Build a model with 2 hidden layers and test."
      ]
    },
    {
      "cell_type": "code",
      "execution_count": 2,
      "metadata": {
        "id": "6ZFUG8Fx0HnO"
      },
      "outputs": [],
      "source": [
        "from pandas import Series, DataFrame\n",
        "import numpy as np\n",
        "import pandas as pd\n",
        "\n",
        "volcanoes_train_images = pd.read_csv('http://zacharski.org/files/courses/cs419/volcanoes_train_images.csv')\n",
        "volcanoes_train_labels = pd.read_csv('http://zacharski.org/files/courses/cs419/volcanoes_train_labels.csv')\n",
        "volcanoes_test_images = pd.read_csv('http://zacharski.org/files/courses/cs419/volcanoes_test_images.csv')\n",
        "volcanoes_test_labels = pd.read_csv('http://zacharski.org/files/courses/cs419/volcanoes_test_labels.csv')"
      ]
    },
    {
      "cell_type": "code",
      "source": [
        "type(volcanoes_train_labels)"
      ],
      "metadata": {
        "colab": {
          "base_uri": "https://localhost:8080/"
        },
        "id": "sZmSR3Lsujwp",
        "outputId": "75b51f02-8864-4bd4-8e72-b46011385af3"
      },
      "execution_count": 3,
      "outputs": [
        {
          "output_type": "execute_result",
          "data": {
            "text/plain": [
              "pandas.core.frame.DataFrame"
            ]
          },
          "metadata": {},
          "execution_count": 3
        }
      ]
    },
    {
      "cell_type": "code",
      "execution_count": 4,
      "metadata": {
        "id": "CfaIBXN_0HnQ",
        "colab": {
          "base_uri": "https://localhost:8080/",
          "height": 363
        },
        "outputId": "f5368e26-63e0-411d-e163-f68b8941be5f"
      },
      "outputs": [
        {
          "output_type": "execute_result",
          "data": {
            "text/plain": [
              "   Volcano?  Type  Radius  Number Volcanoes\n",
              "0         1   3.0   17.46               1.0\n",
              "1         0   NaN     NaN               NaN\n",
              "2         0   NaN     NaN               NaN\n",
              "3         0   NaN     NaN               NaN\n",
              "4         0   NaN     NaN               NaN\n",
              "5         0   NaN     NaN               NaN\n",
              "6         0   NaN     NaN               NaN\n",
              "7         0   NaN     NaN               NaN\n",
              "8         0   NaN     NaN               NaN\n",
              "9         1   1.0   22.02               1.0"
            ],
            "text/html": [
              "\n",
              "  <div id=\"df-e60f8f94-b76d-4e59-b33e-f527eed25f57\">\n",
              "    <div class=\"colab-df-container\">\n",
              "      <div>\n",
              "<style scoped>\n",
              "    .dataframe tbody tr th:only-of-type {\n",
              "        vertical-align: middle;\n",
              "    }\n",
              "\n",
              "    .dataframe tbody tr th {\n",
              "        vertical-align: top;\n",
              "    }\n",
              "\n",
              "    .dataframe thead th {\n",
              "        text-align: right;\n",
              "    }\n",
              "</style>\n",
              "<table border=\"1\" class=\"dataframe\">\n",
              "  <thead>\n",
              "    <tr style=\"text-align: right;\">\n",
              "      <th></th>\n",
              "      <th>Volcano?</th>\n",
              "      <th>Type</th>\n",
              "      <th>Radius</th>\n",
              "      <th>Number Volcanoes</th>\n",
              "    </tr>\n",
              "  </thead>\n",
              "  <tbody>\n",
              "    <tr>\n",
              "      <th>0</th>\n",
              "      <td>1</td>\n",
              "      <td>3.0</td>\n",
              "      <td>17.46</td>\n",
              "      <td>1.0</td>\n",
              "    </tr>\n",
              "    <tr>\n",
              "      <th>1</th>\n",
              "      <td>0</td>\n",
              "      <td>NaN</td>\n",
              "      <td>NaN</td>\n",
              "      <td>NaN</td>\n",
              "    </tr>\n",
              "    <tr>\n",
              "      <th>2</th>\n",
              "      <td>0</td>\n",
              "      <td>NaN</td>\n",
              "      <td>NaN</td>\n",
              "      <td>NaN</td>\n",
              "    </tr>\n",
              "    <tr>\n",
              "      <th>3</th>\n",
              "      <td>0</td>\n",
              "      <td>NaN</td>\n",
              "      <td>NaN</td>\n",
              "      <td>NaN</td>\n",
              "    </tr>\n",
              "    <tr>\n",
              "      <th>4</th>\n",
              "      <td>0</td>\n",
              "      <td>NaN</td>\n",
              "      <td>NaN</td>\n",
              "      <td>NaN</td>\n",
              "    </tr>\n",
              "    <tr>\n",
              "      <th>5</th>\n",
              "      <td>0</td>\n",
              "      <td>NaN</td>\n",
              "      <td>NaN</td>\n",
              "      <td>NaN</td>\n",
              "    </tr>\n",
              "    <tr>\n",
              "      <th>6</th>\n",
              "      <td>0</td>\n",
              "      <td>NaN</td>\n",
              "      <td>NaN</td>\n",
              "      <td>NaN</td>\n",
              "    </tr>\n",
              "    <tr>\n",
              "      <th>7</th>\n",
              "      <td>0</td>\n",
              "      <td>NaN</td>\n",
              "      <td>NaN</td>\n",
              "      <td>NaN</td>\n",
              "    </tr>\n",
              "    <tr>\n",
              "      <th>8</th>\n",
              "      <td>0</td>\n",
              "      <td>NaN</td>\n",
              "      <td>NaN</td>\n",
              "      <td>NaN</td>\n",
              "    </tr>\n",
              "    <tr>\n",
              "      <th>9</th>\n",
              "      <td>1</td>\n",
              "      <td>1.0</td>\n",
              "      <td>22.02</td>\n",
              "      <td>1.0</td>\n",
              "    </tr>\n",
              "  </tbody>\n",
              "</table>\n",
              "</div>\n",
              "      <button class=\"colab-df-convert\" onclick=\"convertToInteractive('df-e60f8f94-b76d-4e59-b33e-f527eed25f57')\"\n",
              "              title=\"Convert this dataframe to an interactive table.\"\n",
              "              style=\"display:none;\">\n",
              "        \n",
              "  <svg xmlns=\"http://www.w3.org/2000/svg\" height=\"24px\"viewBox=\"0 0 24 24\"\n",
              "       width=\"24px\">\n",
              "    <path d=\"M0 0h24v24H0V0z\" fill=\"none\"/>\n",
              "    <path d=\"M18.56 5.44l.94 2.06.94-2.06 2.06-.94-2.06-.94-.94-2.06-.94 2.06-2.06.94zm-11 1L8.5 8.5l.94-2.06 2.06-.94-2.06-.94L8.5 2.5l-.94 2.06-2.06.94zm10 10l.94 2.06.94-2.06 2.06-.94-2.06-.94-.94-2.06-.94 2.06-2.06.94z\"/><path d=\"M17.41 7.96l-1.37-1.37c-.4-.4-.92-.59-1.43-.59-.52 0-1.04.2-1.43.59L10.3 9.45l-7.72 7.72c-.78.78-.78 2.05 0 2.83L4 21.41c.39.39.9.59 1.41.59.51 0 1.02-.2 1.41-.59l7.78-7.78 2.81-2.81c.8-.78.8-2.07 0-2.86zM5.41 20L4 18.59l7.72-7.72 1.47 1.35L5.41 20z\"/>\n",
              "  </svg>\n",
              "      </button>\n",
              "      \n",
              "  <style>\n",
              "    .colab-df-container {\n",
              "      display:flex;\n",
              "      flex-wrap:wrap;\n",
              "      gap: 12px;\n",
              "    }\n",
              "\n",
              "    .colab-df-convert {\n",
              "      background-color: #E8F0FE;\n",
              "      border: none;\n",
              "      border-radius: 50%;\n",
              "      cursor: pointer;\n",
              "      display: none;\n",
              "      fill: #1967D2;\n",
              "      height: 32px;\n",
              "      padding: 0 0 0 0;\n",
              "      width: 32px;\n",
              "    }\n",
              "\n",
              "    .colab-df-convert:hover {\n",
              "      background-color: #E2EBFA;\n",
              "      box-shadow: 0px 1px 2px rgba(60, 64, 67, 0.3), 0px 1px 3px 1px rgba(60, 64, 67, 0.15);\n",
              "      fill: #174EA6;\n",
              "    }\n",
              "\n",
              "    [theme=dark] .colab-df-convert {\n",
              "      background-color: #3B4455;\n",
              "      fill: #D2E3FC;\n",
              "    }\n",
              "\n",
              "    [theme=dark] .colab-df-convert:hover {\n",
              "      background-color: #434B5C;\n",
              "      box-shadow: 0px 1px 3px 1px rgba(0, 0, 0, 0.15);\n",
              "      filter: drop-shadow(0px 1px 2px rgba(0, 0, 0, 0.3));\n",
              "      fill: #FFFFFF;\n",
              "    }\n",
              "  </style>\n",
              "\n",
              "      <script>\n",
              "        const buttonEl =\n",
              "          document.querySelector('#df-e60f8f94-b76d-4e59-b33e-f527eed25f57 button.colab-df-convert');\n",
              "        buttonEl.style.display =\n",
              "          google.colab.kernel.accessAllowed ? 'block' : 'none';\n",
              "\n",
              "        async function convertToInteractive(key) {\n",
              "          const element = document.querySelector('#df-e60f8f94-b76d-4e59-b33e-f527eed25f57');\n",
              "          const dataTable =\n",
              "            await google.colab.kernel.invokeFunction('convertToInteractive',\n",
              "                                                     [key], {});\n",
              "          if (!dataTable) return;\n",
              "\n",
              "          const docLinkHtml = 'Like what you see? Visit the ' +\n",
              "            '<a target=\"_blank\" href=https://colab.research.google.com/notebooks/data_table.ipynb>data table notebook</a>'\n",
              "            + ' to learn more about interactive tables.';\n",
              "          element.innerHTML = '';\n",
              "          dataTable['output_type'] = 'display_data';\n",
              "          await google.colab.output.renderOutput(dataTable, element);\n",
              "          const docLink = document.createElement('div');\n",
              "          docLink.innerHTML = docLinkHtml;\n",
              "          element.appendChild(docLink);\n",
              "        }\n",
              "      </script>\n",
              "    </div>\n",
              "  </div>\n",
              "  "
            ]
          },
          "metadata": {},
          "execution_count": 4
        }
      ],
      "source": [
        "volcanoes_train_labels[:10]"
      ]
    },
    {
      "cell_type": "code",
      "source": [
        "# Make the labels one column, the y column. the other info is not pertinent to the model\n",
        "volcanoes_train_labels = volcanoes_train_labels['Volcano?']\n",
        "volcanoes_test_labels = volcanoes_test_labels['Volcano?']"
      ],
      "metadata": {
        "id": "U2J28sue4XA1"
      },
      "execution_count": 5,
      "outputs": []
    },
    {
      "cell_type": "code",
      "source": [
        "volcanoes_train_labels[:10]"
      ],
      "metadata": {
        "colab": {
          "base_uri": "https://localhost:8080/"
        },
        "id": "HU50qJrR5wpL",
        "outputId": "f67450f4-5f8f-45c0-d501-994be9efb5eb"
      },
      "execution_count": 6,
      "outputs": [
        {
          "output_type": "execute_result",
          "data": {
            "text/plain": [
              "0    1\n",
              "1    0\n",
              "2    0\n",
              "3    0\n",
              "4    0\n",
              "5    0\n",
              "6    0\n",
              "7    0\n",
              "8    0\n",
              "9    1\n",
              "Name: Volcano?, dtype: int64"
            ]
          },
          "metadata": {},
          "execution_count": 6
        }
      ]
    },
    {
      "cell_type": "code",
      "source": [
        "volcanoes_test_labels[:10]"
      ],
      "metadata": {
        "colab": {
          "base_uri": "https://localhost:8080/"
        },
        "id": "EaWYCjgGEOp3",
        "outputId": "eec3e1bf-acff-4ae7-bf35-589873a6e997"
      },
      "execution_count": 7,
      "outputs": [
        {
          "output_type": "execute_result",
          "data": {
            "text/plain": [
              "0    0\n",
              "1    0\n",
              "2    1\n",
              "3    0\n",
              "4    1\n",
              "5    0\n",
              "6    0\n",
              "7    0\n",
              "8    0\n",
              "9    0\n",
              "Name: Volcano?, dtype: int64"
            ]
          },
          "metadata": {},
          "execution_count": 7
        }
      ]
    },
    {
      "cell_type": "code",
      "source": [
        "volcanoes_train_labels = volcanoes_train_labels[:6999]\n",
        "len(volcanoes_train_labels)"
      ],
      "metadata": {
        "colab": {
          "base_uri": "https://localhost:8080/"
        },
        "id": "MgTUKrxc7sGZ",
        "outputId": "76c9aec1-c81d-4a37-c37e-999cc9561cdc"
      },
      "execution_count": 8,
      "outputs": [
        {
          "output_type": "execute_result",
          "data": {
            "text/plain": [
              "6999"
            ]
          },
          "metadata": {},
          "execution_count": 8
        }
      ]
    },
    {
      "cell_type": "code",
      "source": [
        "volcanoes_test_labels = volcanoes_test_labels[:2733]\n",
        "len(volcanoes_test_labels)"
      ],
      "metadata": {
        "colab": {
          "base_uri": "https://localhost:8080/"
        },
        "id": "uP_CTXa678jV",
        "outputId": "666a0933-20b2-4e8d-9fd1-b0fd22f76971"
      },
      "execution_count": 9,
      "outputs": [
        {
          "output_type": "execute_result",
          "data": {
            "text/plain": [
              "2733"
            ]
          },
          "metadata": {},
          "execution_count": 9
        }
      ]
    },
    {
      "cell_type": "code",
      "source": [
        "# print the shape of the ndarray\n",
        "print(\"Training Images Shape:\", volcanoes_train_images.shape)\n",
        "print(\"Training Labels Shape:\", volcanoes_train_labels.shape)\n",
        "print(\"Testing Images Shape:\", volcanoes_test_images.shape)\n",
        "print(\"Testing Labels Shape:\", volcanoes_test_labels.shape)\n"
      ],
      "metadata": {
        "colab": {
          "base_uri": "https://localhost:8080/"
        },
        "id": "Vh_CYLroqByG",
        "outputId": "06c7de09-31fa-45a0-b583-785682124d30"
      },
      "execution_count": 10,
      "outputs": [
        {
          "output_type": "stream",
          "name": "stdout",
          "text": [
            "Training Images Shape: (6999, 12100)\n",
            "Training Labels Shape: (6999,)\n",
            "Testing Images Shape: (2733, 12100)\n",
            "Testing Labels Shape: (2733,)\n"
          ]
        }
      ]
    },
    {
      "cell_type": "code",
      "source": [
        "# Import keras models and layer to build the framework of the deep learning network \n",
        "from keras import models\n",
        "from keras import layers\n",
        "\n",
        "# Define variables of the network design\n",
        "input_size=12100 #(110 * 110) \n",
        "hidden_size = 256\n",
        "output_size = 2\n",
        "\n",
        "# Define network model, layers and activation function\n",
        "# a sequential container means the layers we add are organized sequentially\n",
        "network = models.Sequential() \n",
        "\n",
        "# the add method adds the network layers. Dense is fully connected\n",
        "network.add(layers.Dense(hidden_size, activation='relu', input_shape=(input_size,)))\n",
        "\n",
        "# Output layer with 10 output nodes corrresponding to the 10 image types\n",
        "# activation softmax gives us the probabilities of the of the possible labels\n",
        "network.add(layers.Dense(output_size, activation='softmax'))\n",
        "\n",
        "# Define the three necessary argument for compilation\n",
        "# optimizer: this is the mechanism through which the network will update itself \n",
        "# based on the data it sees and its loss function.\n",
        "# loss function: this is how the network will be able to measure how good a job \n",
        "# it is doing on its training data, and thus how it will be able to steer itself \n",
        "# in the right direction.\n",
        "# Metrics to monitor during training and testing. Here we will only care about \n",
        "# accuracy (the fraction of the images that were correctly classified).\n",
        "network.compile(optimizer='rmsprop',\n",
        "                loss='categorical_crossentropy',\n",
        "                metrics=['accuracy'])\n",
        "\n",
        "# Before training, the data need to be reshaped from DF array to flat image array\n",
        "# of [0,1,2,3,4,5....,784] and the 32 float integers need to be normalized 0-1\n",
        "train_images = volcanoes_train_images.values.reshape((6999, 110 * 110))\n",
        "train_images = train_images.astype('float32') / 255\n",
        "\n",
        "test_images = volcanoes_test_images.values.reshape((2733, 110 * 110))\n",
        "test_images = test_images.astype('float32') / 255\n",
        "\n",
        "# import categorical to convert label array from onehot-encoded to categorical \n",
        "# integer representing the ten output nodes. Also called categorical encoding.\n",
        "from keras.utils import to_categorical\n",
        "\n",
        "train_labels = to_categorical(volcanoes_train_labels)\n",
        "test_labels = to_categorical(volcanoes_test_labels)\n",
        "\n"
      ],
      "metadata": {
        "id": "LN72wVFFqBuv"
      },
      "execution_count": 11,
      "outputs": []
    },
    {
      "cell_type": "code",
      "source": [
        "type(train_labels)"
      ],
      "metadata": {
        "colab": {
          "base_uri": "https://localhost:8080/"
        },
        "id": "y_le8AeyChDI",
        "outputId": "e0bb082f-4e70-4018-82b3-5c785bef312f"
      },
      "execution_count": 12,
      "outputs": [
        {
          "output_type": "execute_result",
          "data": {
            "text/plain": [
              "numpy.ndarray"
            ]
          },
          "metadata": {},
          "execution_count": 12
        }
      ]
    },
    {
      "cell_type": "code",
      "source": [
        "type(test_labels)"
      ],
      "metadata": {
        "colab": {
          "base_uri": "https://localhost:8080/"
        },
        "id": "L4L8Zj7uCp4x",
        "outputId": "b4ba2656-b334-4d0d-db8e-45d50b219ccc"
      },
      "execution_count": 13,
      "outputs": [
        {
          "output_type": "execute_result",
          "data": {
            "text/plain": [
              "numpy.ndarray"
            ]
          },
          "metadata": {},
          "execution_count": 13
        }
      ]
    },
    {
      "cell_type": "code",
      "source": [
        "train_labels.shape"
      ],
      "metadata": {
        "colab": {
          "base_uri": "https://localhost:8080/"
        },
        "id": "xl0TbP6mCvdR",
        "outputId": "ab319e46-860a-40cc-8750-e59f22177375"
      },
      "execution_count": 14,
      "outputs": [
        {
          "output_type": "execute_result",
          "data": {
            "text/plain": [
              "(6999, 2)"
            ]
          },
          "metadata": {},
          "execution_count": 14
        }
      ]
    },
    {
      "cell_type": "code",
      "source": [
        "test_labels.shape"
      ],
      "metadata": {
        "colab": {
          "base_uri": "https://localhost:8080/"
        },
        "id": "WKBGkokeC6kN",
        "outputId": "e384895d-9a42-4683-a8c5-9dd7a9ca1849"
      },
      "execution_count": 15,
      "outputs": [
        {
          "output_type": "execute_result",
          "data": {
            "text/plain": [
              "(2733, 2)"
            ]
          },
          "metadata": {},
          "execution_count": 15
        }
      ]
    },
    {
      "cell_type": "code",
      "source": [
        "test_labels[:5]"
      ],
      "metadata": {
        "colab": {
          "base_uri": "https://localhost:8080/"
        },
        "id": "W_B4uZzqC6gF",
        "outputId": "d3dc70f1-1d35-44d6-ed71-15109c182d33"
      },
      "execution_count": 16,
      "outputs": [
        {
          "output_type": "execute_result",
          "data": {
            "text/plain": [
              "array([[1., 0.],\n",
              "       [1., 0.],\n",
              "       [0., 1.],\n",
              "       [1., 0.],\n",
              "       [0., 1.]], dtype=float32)"
            ]
          },
          "metadata": {},
          "execution_count": 16
        }
      ]
    },
    {
      "cell_type": "code",
      "source": [
        "train_labels[:5]"
      ],
      "metadata": {
        "colab": {
          "base_uri": "https://localhost:8080/"
        },
        "id": "gCzDJg30CvO-",
        "outputId": "7728e728-133b-48be-c684-464f067e1c0c"
      },
      "execution_count": 17,
      "outputs": [
        {
          "output_type": "execute_result",
          "data": {
            "text/plain": [
              "array([[0., 1.],\n",
              "       [1., 0.],\n",
              "       [1., 0.],\n",
              "       [1., 0.],\n",
              "       [1., 0.]], dtype=float32)"
            ]
          },
          "metadata": {},
          "execution_count": 17
        }
      ]
    },
    {
      "cell_type": "code",
      "source": [
        "# train the model. Batch size 128 and 7 epochs.\n",
        "# Each epoch sees an improvement in loss and accuracy.\n",
        "network.fit(train_images, train_labels, epochs=7, batch_size=128)"
      ],
      "metadata": {
        "colab": {
          "base_uri": "https://localhost:8080/"
        },
        "id": "EvZzLoG2CbeX",
        "outputId": "5008fbdf-ec91-43d9-b062-610a7ea89e2b"
      },
      "execution_count": 18,
      "outputs": [
        {
          "output_type": "stream",
          "name": "stdout",
          "text": [
            "Epoch 1/7\n",
            "55/55 [==============================] - 3s 50ms/step - loss: 3.1817 - accuracy: 0.7667\n",
            "Epoch 2/7\n",
            "55/55 [==============================] - 4s 69ms/step - loss: 1.9059 - accuracy: 0.7690\n",
            "Epoch 3/7\n",
            "55/55 [==============================] - 3s 49ms/step - loss: 1.4791 - accuracy: 0.7435\n",
            "Epoch 4/7\n",
            "55/55 [==============================] - 3s 49ms/step - loss: 0.9020 - accuracy: 0.7904\n",
            "Epoch 5/7\n",
            "55/55 [==============================] - 3s 50ms/step - loss: 0.6728 - accuracy: 0.8180\n",
            "Epoch 6/7\n",
            "55/55 [==============================] - 4s 70ms/step - loss: 0.5077 - accuracy: 0.8433\n",
            "Epoch 7/7\n",
            "55/55 [==============================] - 3s 48ms/step - loss: 0.4554 - accuracy: 0.8473\n"
          ]
        },
        {
          "output_type": "execute_result",
          "data": {
            "text/plain": [
              "<keras.callbacks.History at 0x7f367c743fa0>"
            ]
          },
          "metadata": {},
          "execution_count": 18
        }
      ]
    },
    {
      "cell_type": "code",
      "execution_count": 19,
      "metadata": {
        "id": "HkepiU9S0HnS",
        "colab": {
          "base_uri": "https://localhost:8080/"
        },
        "outputId": "e367df21-4b5e-4067-a339-80d4d7034e8c"
      },
      "outputs": [
        {
          "output_type": "stream",
          "name": "stdout",
          "text": [
            "86/86 [==============================] - 1s 7ms/step - loss: 0.4517 - accuracy: 0.8408\n",
            "test_acc: 0.8408342599868774\n"
          ]
        }
      ],
      "source": [
        "#test the accuracy of the model\n",
        "test_loss, test_acc = network.evaluate(test_images, test_labels)\n",
        "print('test_acc:', test_acc)"
      ]
    },
    {
      "cell_type": "markdown",
      "source": [
        "## Task 1\n",
        "display a few of the images from the dataset"
      ],
      "metadata": {
        "id": "p8u-hT4dJQJ2"
      }
    },
    {
      "cell_type": "code",
      "source": [
        "# lets view the image by plotting the data\n",
        "import matplotlib.pyplot as plt\n",
        "\n",
        "# Reshape flattened images back to 2D form\n",
        "train_images_2d = train_images.reshape((6999, 110, 110))\n",
        "test_images_2d = test_images.reshape((2733, 110, 110))\n",
        "\n",
        "\n",
        "def viewImage(x):\n",
        "    plt.figure(figsize=(2,2))\n",
        "    plt.imshow(x, interpolation='nearest', cmap='Greys')\n",
        "    plt.show()\n",
        "    \n",
        "# Plot the first three images\n",
        "viewImage(train_images_2d[0])\n",
        "viewImage(train_images_2d[1])\n",
        "viewImage(train_images_2d[2])"
      ],
      "metadata": {
        "colab": {
          "base_uri": "https://localhost:8080/",
          "height": 623
        },
        "id": "RlFOh8uqIuDw",
        "outputId": "f080463f-dd5b-4cff-d059-ed84bc888059"
      },
      "execution_count": 21,
      "outputs": [
        {
          "output_type": "display_data",
          "data": {
            "text/plain": [
              "<Figure size 200x200 with 1 Axes>"
            ],
            "image/png": "[encoded data removed]"
          },
          "metadata": {}
        },
        {
          "output_type": "display_data",
          "data": {
            "text/plain": [
              "<Figure size 200x200 with 1 Axes>"
            ],
            "image/png": "[encoded data removed]"
          },
          "metadata": {}
        },
        {
          "output_type": "display_data",
          "data": {
            "text/plain": [
              "<Figure size 200x200 with 1 Axes>"
            ],
            "image/png": "[encoded data removed]"
          },
          "metadata": {}
        }
      ]
    },
    {
      "cell_type": "markdown",
      "source": [],
      "metadata": {
        "id": "X7-b0z2W6TLw"
      }
    },
    {
      "cell_type": "markdown",
      "source": [
        "## Task 2\n",
        "\n",
        "Build a model with one hidden layer. Train it for 2 epochs. What is it's accuracy?"
      ],
      "metadata": {
        "id": "Ee2eH4TC6ZAo"
      }
    },
    {
      "cell_type": "code",
      "source": [
        "from pandas import Series, DataFrame\n",
        "import numpy as np\n",
        "import pandas as pd\n",
        "\n",
        "volcanoes_train_images = pd.read_csv('http://zacharski.org/files/courses/cs419/volcanoes_train_images.csv')\n",
        "volcanoes_train_labels = pd.read_csv('http://zacharski.org/files/courses/cs419/volcanoes_train_labels.csv')\n",
        "volcanoes_test_images = pd.read_csv('http://zacharski.org/files/courses/cs419/volcanoes_test_images.csv')\n",
        "volcanoes_test_labels = pd.read_csv('http://zacharski.org/files/courses/cs419/volcanoes_test_labels.csv')\n",
        "\n",
        "# Make the labels one column, the y column. the other info is not pertinent to the model\n",
        "volcanoes_train_labels = volcanoes_train_labels['Volcano?']\n",
        "volcanoes_test_labels = volcanoes_test_labels['Volcano?']\n",
        "\n",
        "\n",
        "volcanoes_train_labels = volcanoes_train_labels[:6999]\n",
        "volcanoes_test_labels = volcanoes_test_labels[:2733]\n",
        "\n",
        "# print the shape of the ndarray\n",
        "print(\"Training Images Shape:\", volcanoes_train_images.shape)\n",
        "print(\"Training Labels Shape:\", volcanoes_train_labels.shape)\n",
        "print(\"Testing Images Shape:\", volcanoes_test_images.shape)\n",
        "print(\"Testing Labels Shape:\", volcanoes_test_labels.shape)\n",
        "\n"
      ],
      "metadata": {
        "colab": {
          "base_uri": "https://localhost:8080/"
        },
        "id": "8qhQNFjrIt5m",
        "outputId": "53791c58-29cf-43fe-cc58-6583a386d7a7"
      },
      "execution_count": 22,
      "outputs": [
        {
          "output_type": "stream",
          "name": "stdout",
          "text": [
            "Training Images Shape: (6999, 12100)\n",
            "Training Labels Shape: (6999,)\n",
            "Testing Images Shape: (2733, 12100)\n",
            "Testing Labels Shape: (2733,)\n"
          ]
        }
      ]
    },
    {
      "cell_type": "code",
      "source": [
        "# Import keras models and layer to build the framework of the deep learning network \n",
        "from keras import models\n",
        "from keras import layers\n",
        "\n",
        "# Define variables of the network design\n",
        "input_size=12100 #(110 * 110) \n",
        "hidden_size = 256\n",
        "output_size = 2\n",
        "\n",
        "# Define network model, layers and activation function\n",
        "# a sequential container means the layers we add are organized sequentially\n",
        "network = models.Sequential() \n",
        "\n",
        "# the add method adds the network layers. Dense is fully connected\n",
        "network.add(layers.Dense(hidden_size, activation='relu', input_shape=(input_size,)))\n",
        "\n",
        "# Output layer with 10 output nodes corrresponding to the 10 image types\n",
        "# activation softmax gives us the probabilities of the of the possible labels\n",
        "network.add(layers.Dense(output_size, activation='softmax'))\n",
        "\n",
        "# Define the three necessary argument for compilation\n",
        "# optimizer: this is the mechanism through which the network will update itself \n",
        "# based on the data it sees and its loss function.\n",
        "# loss function: this is how the network will be able to measure how good a job \n",
        "# it is doing on its training data, and thus how it will be able to steer itself \n",
        "# in the right direction.\n",
        "# Metrics to monitor during training and testing. Here we will only care about \n",
        "# accuracy (the fraction of the images that were correctly classified).\n",
        "network.compile(optimizer='rmsprop',\n",
        "                loss='categorical_crossentropy',\n",
        "                metrics=['accuracy'])\n",
        "\n",
        "# Before training, the data need to be reshaped from DF array to flat image array\n",
        "# of [0,1,2,3,4,5....,784] and the 32 float integers need to be normalized 0-1\n",
        "train_images = volcanoes_train_images.values.reshape((6999, 110 * 110))\n",
        "train_images = train_images.astype('float32') / 255\n",
        "\n",
        "test_images = volcanoes_test_images.values.reshape((2733, 110 * 110))\n",
        "test_images = test_images.astype('float32') / 255\n",
        "\n",
        "# import categorical to convert label array from onehot-encoded to categorical \n",
        "# integer representing the ten output nodes. Also called categorical encoding.\n",
        "from keras.utils import to_categorical\n",
        "\n",
        "train_labels = to_categorical(volcanoes_train_labels)\n",
        "test_labels = to_categorical(volcanoes_test_labels)\n",
        "\n"
      ],
      "metadata": {
        "id": "U3mBXX9aIt07"
      },
      "execution_count": 23,
      "outputs": []
    },
    {
      "cell_type": "code",
      "source": [
        "# train the model. Batch size 128 and 2 epochs.\n",
        "# Each epoch sees an improvement in loss and accuracy.\n",
        "network.fit(train_images, train_labels, epochs=2, batch_size=128)"
      ],
      "metadata": {
        "colab": {
          "base_uri": "https://localhost:8080/"
        },
        "id": "jsPeUE3UItxj",
        "outputId": "835cfb4d-7190-4915-a07a-7239109db38b"
      },
      "execution_count": 24,
      "outputs": [
        {
          "output_type": "stream",
          "name": "stdout",
          "text": [
            "Epoch 1/2\n",
            "55/55 [==============================] - 3s 50ms/step - loss: 0.9612 - accuracy: 0.8193\n",
            "Epoch 2/2\n",
            "55/55 [==============================] - 3s 61ms/step - loss: 0.4726 - accuracy: 0.8573\n"
          ]
        },
        {
          "output_type": "execute_result",
          "data": {
            "text/plain": [
              "<keras.callbacks.History at 0x7f367de0dbb0>"
            ]
          },
          "metadata": {},
          "execution_count": 24
        }
      ]
    },
    {
      "cell_type": "code",
      "source": [
        "#test the accuracy of the model\n",
        "test_loss, test_acc = network.evaluate(test_images, test_labels)\n",
        "print('test_acc:', test_acc)"
      ],
      "metadata": {
        "colab": {
          "base_uri": "https://localhost:8080/"
        },
        "id": "7v95GTvZItto",
        "outputId": "c7286b6f-2263-498e-fb7d-d881916f873b"
      },
      "execution_count": 25,
      "outputs": [
        {
          "output_type": "stream",
          "name": "stdout",
          "text": [
            "86/86 [==============================] - 1s 7ms/step - loss: 0.4420 - accuracy: 0.8408\n",
            "test_acc: 0.8408342599868774\n"
          ]
        }
      ]
    },
    {
      "cell_type": "markdown",
      "source": [
        "## Task 3\n",
        "\n",
        "Build a model with one hidden layer. Train it for 10 epochs. What is it's accuracy?"
      ],
      "metadata": {
        "id": "oewUUrgMbnHk"
      }
    },
    {
      "cell_type": "code",
      "source": [
        "from pandas import Series, DataFrame\n",
        "import numpy as np\n",
        "import pandas as pd\n",
        "\n",
        "volcanoes_train_images = pd.read_csv('http://zacharski.org/files/courses/cs419/volcanoes_train_images.csv')\n",
        "volcanoes_train_labels = pd.read_csv('http://zacharski.org/files/courses/cs419/volcanoes_train_labels.csv')\n",
        "volcanoes_test_images = pd.read_csv('http://zacharski.org/files/courses/cs419/volcanoes_test_images.csv')\n",
        "volcanoes_test_labels = pd.read_csv('http://zacharski.org/files/courses/cs419/volcanoes_test_labels.csv')\n",
        "\n",
        "# Make the labels one column, the y column. the other info is not pertinent to the model\n",
        "volcanoes_train_labels = volcanoes_train_labels['Volcano?']\n",
        "volcanoes_test_labels = volcanoes_test_labels['Volcano?']\n",
        "\n",
        "\n",
        "volcanoes_train_labels = volcanoes_train_labels[:6999]\n",
        "volcanoes_test_labels = volcanoes_test_labels[:2733]\n",
        "\n",
        "\n",
        "# Import keras models and layer to build the framework of the deep learning network \n",
        "from keras import models\n",
        "from keras import layers\n",
        "\n",
        "# Define variables of the network design\n",
        "input_size=12100 #(110 * 110) \n",
        "hidden_size = 256\n",
        "output_size = 2\n",
        "\n",
        "# Define network model, layers and activation function\n",
        "# a sequential container means the layers we add are organized sequentially\n",
        "network = models.Sequential() \n",
        "\n",
        "# the add method adds the network layers. Dense is fully connected\n",
        "network.add(layers.Dense(hidden_size, activation='relu', input_shape=(input_size,)))\n",
        "\n",
        "# Output layer with 10 output nodes corrresponding to the 10 image types\n",
        "# activation softmax gives us the probabilities of the of the possible labels\n",
        "network.add(layers.Dense(output_size, activation='softmax'))\n",
        "\n",
        "# Define the three necessary argument for compilation\n",
        "# optimizer: this is the mechanism through which the network will update itself \n",
        "# based on the data it sees and its loss function.\n",
        "# loss function: this is how the network will be able to measure how good a job \n",
        "# it is doing on its training data, and thus how it will be able to steer itself \n",
        "# in the right direction.\n",
        "# Metrics to monitor during training and testing. Here we will only care about \n",
        "# accuracy (the fraction of the images that were correctly classified).\n",
        "network.compile(optimizer='rmsprop',\n",
        "                loss='categorical_crossentropy',\n",
        "                metrics=['accuracy'])\n",
        "\n",
        "# Before training, the data need to be reshaped from DF array to flat image array\n",
        "# of [0,1,2,3,4,5....,784] and the 32 float integers need to be normalized 0-1\n",
        "train_images = volcanoes_train_images.values.reshape((6999, 110 * 110))\n",
        "train_images = train_images.astype('float32') / 255\n",
        "\n",
        "test_images = volcanoes_test_images.values.reshape((2733, 110 * 110))\n",
        "test_images = test_images.astype('float32') / 255\n",
        "\n",
        "# import categorical to convert label array from onehot-encoded to categorical \n",
        "# integer representing the ten output nodes. Also called categorical encoding.\n",
        "from keras.utils import to_categorical\n",
        "\n",
        "train_labels = to_categorical(volcanoes_train_labels)\n",
        "test_labels = to_categorical(volcanoes_test_labels)\n",
        "\n",
        "\n",
        "# train the model. Batch size 128 and 10 epochs.\n",
        "# Each epoch sees an improvement in loss and accuracy.\n",
        "network.fit(train_images, train_labels, epochs=10, batch_size=128)\n"
      ],
      "metadata": {
        "colab": {
          "base_uri": "https://localhost:8080/"
        },
        "id": "BmsrghFxItlE",
        "outputId": "e585b5c4-14a7-4549-c2f7-8d6a83e47df4"
      },
      "execution_count": 26,
      "outputs": [
        {
          "output_type": "stream",
          "name": "stdout",
          "text": [
            "Epoch 1/10\n",
            "55/55 [==============================] - 3s 49ms/step - loss: 4.8642 - accuracy: 0.7431\n",
            "Epoch 2/10\n",
            "55/55 [==============================] - 3s 49ms/step - loss: 3.3562 - accuracy: 0.7274\n",
            "Epoch 3/10\n",
            "55/55 [==============================] - 4s 71ms/step - loss: 2.4985 - accuracy: 0.7715\n",
            "Epoch 4/10\n",
            "55/55 [==============================] - 4s 82ms/step - loss: 2.1527 - accuracy: 0.7274\n",
            "Epoch 5/10\n",
            "55/55 [==============================] - 3s 49ms/step - loss: 1.3523 - accuracy: 0.7905\n",
            "Epoch 6/10\n",
            "55/55 [==============================] - 3s 57ms/step - loss: 0.9460 - accuracy: 0.7650\n",
            "Epoch 7/10\n",
            "55/55 [==============================] - 4s 64ms/step - loss: 0.6596 - accuracy: 0.8168\n",
            "Epoch 8/10\n",
            "55/55 [==============================] - 3s 51ms/step - loss: 0.6718 - accuracy: 0.8074\n",
            "Epoch 9/10\n",
            "55/55 [==============================] - 3s 50ms/step - loss: 0.6742 - accuracy: 0.8173\n",
            "Epoch 10/10\n",
            "55/55 [==============================] - 3s 49ms/step - loss: 0.5382 - accuracy: 0.8270\n"
          ]
        },
        {
          "output_type": "execute_result",
          "data": {
            "text/plain": [
              "<keras.callbacks.History at 0x7f3674f18a00>"
            ]
          },
          "metadata": {},
          "execution_count": 26
        }
      ]
    },
    {
      "cell_type": "code",
      "source": [
        "#test the accuracy of the model\n",
        "test_loss, test_acc = network.evaluate(test_images, test_labels)\n",
        "print('test_acc:', test_acc)"
      ],
      "metadata": {
        "colab": {
          "base_uri": "https://localhost:8080/"
        },
        "id": "ePTbuI7GItRy",
        "outputId": "b2880027-d3a5-4def-f729-ee81c8f4009f"
      },
      "execution_count": 27,
      "outputs": [
        {
          "output_type": "stream",
          "name": "stdout",
          "text": [
            "86/86 [==============================] - 1s 7ms/step - loss: 0.4400 - accuracy: 0.8408\n",
            "test_acc: 0.8408342599868774\n"
          ]
        }
      ]
    },
    {
      "cell_type": "markdown",
      "source": [
        "## Task 4\n",
        "Does increasing the epochs beyond 10 improve accuracy?"
      ],
      "metadata": {
        "id": "4sh87VE4fDru"
      }
    },
    {
      "cell_type": "code",
      "source": [
        "from pandas import Series, DataFrame\n",
        "import numpy as np\n",
        "import pandas as pd\n",
        "\n",
        "volcanoes_train_images = pd.read_csv('http://zacharski.org/files/courses/cs419/volcanoes_train_images.csv')\n",
        "volcanoes_train_labels = pd.read_csv('http://zacharski.org/files/courses/cs419/volcanoes_train_labels.csv')\n",
        "volcanoes_test_images = pd.read_csv('http://zacharski.org/files/courses/cs419/volcanoes_test_images.csv')\n",
        "volcanoes_test_labels = pd.read_csv('http://zacharski.org/files/courses/cs419/volcanoes_test_labels.csv')\n",
        "\n",
        "# Make the labels one column, the y column. the other info is not pertinent to the model\n",
        "volcanoes_train_labels = volcanoes_train_labels['Volcano?']\n",
        "volcanoes_test_labels = volcanoes_test_labels['Volcano?']\n",
        "\n",
        "\n",
        "volcanoes_train_labels = volcanoes_train_labels[:6999]\n",
        "volcanoes_test_labels = volcanoes_test_labels[:2733]\n",
        "\n",
        "\n",
        "# Import keras models and layer to build the framework of the deep learning network \n",
        "from keras import models\n",
        "from keras import layers\n",
        "\n",
        "# Define variables of the network design\n",
        "input_size=12100 #(110 * 110) \n",
        "hidden_size = 256\n",
        "output_size = 2\n",
        "\n",
        "# Define network model, layers and activation function\n",
        "# a sequential container means the layers we add are organized sequentially\n",
        "network = models.Sequential() \n",
        "\n",
        "# the add method adds the network layers. Dense is fully connected\n",
        "network.add(layers.Dense(hidden_size, activation='relu', input_shape=(input_size,)))\n",
        "\n",
        "# Output layer with 10 output nodes corrresponding to the 10 image types\n",
        "# activation softmax gives us the probabilities of the of the possible labels\n",
        "network.add(layers.Dense(output_size, activation='softmax'))\n",
        "\n",
        "# Define the three necessary argument for compilation\n",
        "# optimizer: this is the mechanism through which the network will update itself \n",
        "# based on the data it sees and its loss function.\n",
        "# loss function: this is how the network will be able to measure how good a job \n",
        "# it is doing on its training data, and thus how it will be able to steer itself \n",
        "# in the right direction.\n",
        "# Metrics to monitor during training and testing. Here we will only care about \n",
        "# accuracy (the fraction of the images that were correctly classified).\n",
        "network.compile(optimizer='rmsprop',\n",
        "                loss='categorical_crossentropy',\n",
        "                metrics=['accuracy'])\n",
        "\n",
        "# Before training, the data need to be reshaped from DF array to flat image array\n",
        "# of [0,1,2,3,4,5....,784] and the 32 float integers need to be normalized 0-1\n",
        "train_images = volcanoes_train_images.values.reshape((6999, 110 * 110))\n",
        "train_images = train_images.astype('float32') / 255\n",
        "\n",
        "test_images = volcanoes_test_images.values.reshape((2733, 110 * 110))\n",
        "test_images = test_images.astype('float32') / 255\n",
        "\n",
        "# import categorical to convert label array from onehot-encoded to categorical \n",
        "# integer representing the ten output nodes. Also called categorical encoding.\n",
        "from keras.utils import to_categorical\n",
        "\n",
        "train_labels = to_categorical(volcanoes_train_labels)\n",
        "test_labels = to_categorical(volcanoes_test_labels)\n",
        "\n",
        "\n",
        "# train the model. Batch size 128 and 20 epochs.\n",
        "# Each epoch sees an improvement in loss and accuracy.\n",
        "network.fit(train_images, train_labels, epochs=20, batch_size=128)\n"
      ],
      "metadata": {
        "colab": {
          "base_uri": "https://localhost:8080/"
        },
        "id": "vb5Q_vxRfjbh",
        "outputId": "f97d16bd-fa03-4304-c782-1f5a8a9b3ac1"
      },
      "execution_count": 28,
      "outputs": [
        {
          "output_type": "stream",
          "name": "stdout",
          "text": [
            "Epoch 1/20\n",
            "55/55 [==============================] - 4s 69ms/step - loss: 4.6175 - accuracy: 0.7187\n",
            "Epoch 2/20\n",
            "55/55 [==============================] - 3s 50ms/step - loss: 3.3991 - accuracy: 0.7284\n",
            "Epoch 3/20\n",
            "55/55 [==============================] - 3s 49ms/step - loss: 2.5600 - accuracy: 0.7545\n",
            "Epoch 4/20\n",
            "55/55 [==============================] - 3s 49ms/step - loss: 1.9443 - accuracy: 0.7521\n",
            "Epoch 5/20\n",
            "55/55 [==============================] - 4s 70ms/step - loss: 1.5671 - accuracy: 0.7728\n",
            "Epoch 6/20\n",
            "55/55 [==============================] - 3s 48ms/step - loss: 1.0903 - accuracy: 0.7490\n",
            "Epoch 7/20\n",
            "55/55 [==============================] - 3s 48ms/step - loss: 0.8482 - accuracy: 0.7950\n",
            "Epoch 8/20\n",
            "55/55 [==============================] - 3s 50ms/step - loss: 0.6707 - accuracy: 0.8050\n",
            "Epoch 9/20\n",
            "55/55 [==============================] - 5s 92ms/step - loss: 0.5498 - accuracy: 0.8331\n",
            "Epoch 10/20\n",
            "55/55 [==============================] - 3s 51ms/step - loss: 0.4771 - accuracy: 0.8471\n",
            "Epoch 11/20\n",
            "55/55 [==============================] - 3s 49ms/step - loss: 0.4385 - accuracy: 0.8576\n",
            "Epoch 12/20\n",
            "55/55 [==============================] - 3s 48ms/step - loss: 0.4204 - accuracy: 0.8576\n",
            "Epoch 13/20\n",
            "55/55 [==============================] - 3s 58ms/step - loss: 0.4204 - accuracy: 0.8576\n",
            "Epoch 14/20\n",
            "55/55 [==============================] - 3s 60ms/step - loss: 0.4176 - accuracy: 0.8576\n",
            "Epoch 15/20\n",
            "55/55 [==============================] - 3s 49ms/step - loss: 0.4167 - accuracy: 0.8576\n",
            "Epoch 16/20\n",
            "55/55 [==============================] - 4s 72ms/step - loss: 0.4142 - accuracy: 0.8576\n",
            "Epoch 17/20\n",
            "55/55 [==============================] - 6s 118ms/step - loss: 0.4177 - accuracy: 0.8576\n",
            "Epoch 18/20\n",
            "55/55 [==============================] - 4s 81ms/step - loss: 0.4130 - accuracy: 0.8576\n",
            "Epoch 19/20\n",
            "55/55 [==============================] - 4s 67ms/step - loss: 0.4132 - accuracy: 0.8576\n",
            "Epoch 20/20\n",
            "55/55 [==============================] - 4s 71ms/step - loss: 0.4136 - accuracy: 0.8576\n"
          ]
        },
        {
          "output_type": "execute_result",
          "data": {
            "text/plain": [
              "<keras.callbacks.History at 0x7f367b3cd940>"
            ]
          },
          "metadata": {},
          "execution_count": 28
        }
      ]
    },
    {
      "cell_type": "code",
      "source": [
        "#test the accuracy of the model\n",
        "test_loss, test_acc = network.evaluate(test_images, test_labels)\n",
        "print('test_acc:', test_acc)"
      ],
      "metadata": {
        "colab": {
          "base_uri": "https://localhost:8080/"
        },
        "id": "1K0Qe8zXfjX6",
        "outputId": "da7f927e-bcc1-45f7-f5c9-cc773bc412ec"
      },
      "execution_count": 29,
      "outputs": [
        {
          "output_type": "stream",
          "name": "stdout",
          "text": [
            "86/86 [==============================] - 1s 7ms/step - loss: 0.4449 - accuracy: 0.8401\n",
            "test_acc: 0.8401024341583252\n"
          ]
        }
      ]
    },
    {
      "cell_type": "markdown",
      "source": [
        "Increasing the epochs beyond 10 does not seem to improve the accuracy. It actually reduced the accuracy slightly."
      ],
      "metadata": {
        "id": "jSr9mBwGfQO5"
      }
    },
    {
      "cell_type": "code",
      "source": [],
      "metadata": {
        "id": "PrAnRjAohmJT"
      },
      "execution_count": null,
      "outputs": []
    },
    {
      "cell_type": "code",
      "source": [],
      "metadata": {
        "id": "p5J5YBE2hl11"
      },
      "execution_count": null,
      "outputs": []
    },
    {
      "cell_type": "markdown",
      "source": [
        "## Task 5\n",
        "Build a model with 2 hidden layers and test"
      ],
      "metadata": {
        "id": "sAbrVRmohoLj"
      }
    },
    {
      "cell_type": "code",
      "source": [
        "from pandas import Series, DataFrame\n",
        "import numpy as np\n",
        "import pandas as pd\n",
        "\n",
        "volcanoes_train_images = pd.read_csv('http://zacharski.org/files/courses/cs419/volcanoes_train_images.csv')\n",
        "volcanoes_train_labels = pd.read_csv('http://zacharski.org/files/courses/cs419/volcanoes_train_labels.csv')\n",
        "volcanoes_test_images = pd.read_csv('http://zacharski.org/files/courses/cs419/volcanoes_test_images.csv')\n",
        "volcanoes_test_labels = pd.read_csv('http://zacharski.org/files/courses/cs419/volcanoes_test_labels.csv')\n",
        "\n",
        "# Make the labels one column, the y column. the other info is not pertinent to the model\n",
        "volcanoes_train_labels = volcanoes_train_labels['Volcano?']\n",
        "volcanoes_test_labels = volcanoes_test_labels['Volcano?']\n",
        "\n",
        "\n",
        "volcanoes_train_labels = volcanoes_train_labels[:6999]\n",
        "volcanoes_test_labels = volcanoes_test_labels[:2733]\n",
        "\n",
        "\n",
        "# Import keras models and layer to build the framework of the deep learning network \n",
        "from keras import models\n",
        "from keras import layers\n",
        "\n",
        "# Define variables of the network design\n",
        "input_size=12100 #(110 * 110) \n",
        "hidden1_size = 512\n",
        "hidden2_size = 256\n",
        "output_size = 2\n",
        "\n",
        "# Define network model, layers and activation function\n",
        "# a sequential container means the layers we add are organized sequentially\n",
        "network = models.Sequential() \n",
        "\n",
        "# the add method adds the network layers. Dense is fully connected\n",
        "network.add(layers.Dense(hidden1_size, activation='relu', input_shape=(input_size,)))\n",
        "network.add(layers.Dense(hidden2_size, activation='relu', input_shape=(input_size,)))\n",
        "\n",
        "# Output layer with 10 output nodes corrresponding to the 10 image types\n",
        "# activation softmax gives us the probabilities of the of the possible labels\n",
        "network.add(layers.Dense(output_size, activation='softmax'))\n",
        "\n",
        "# Define the three necessary argument for compilation\n",
        "# optimizer: this is the mechanism through which the network will update itself \n",
        "# based on the data it sees and its loss function.\n",
        "# loss function: this is how the network will be able to measure how good a job \n",
        "# it is doing on its training data, and thus how it will be able to steer itself \n",
        "# in the right direction.\n",
        "# Metrics to monitor during training and testing. Here we will only care about \n",
        "# accuracy (the fraction of the images that were correctly classified).\n",
        "network.compile(optimizer='rmsprop',\n",
        "                loss='categorical_crossentropy',\n",
        "                metrics=['accuracy'])\n",
        "\n",
        "# Before training, the data need to be reshaped from DF array to flat image array\n",
        "# of [0,1,2,3,4,5....,784] and the 32 float integers need to be normalized 0-1\n",
        "train_images = volcanoes_train_images.values.reshape((6999, 110 * 110))\n",
        "train_images = train_images.astype('float32') / 255\n",
        "\n",
        "test_images = volcanoes_test_images.values.reshape((2733, 110 * 110))\n",
        "test_images = test_images.astype('float32') / 255\n",
        "\n",
        "# import categorical to convert label array from onehot-encoded to categorical \n",
        "# integer representing the ten output nodes. Also called categorical encoding.\n",
        "from keras.utils import to_categorical\n",
        "\n",
        "train_labels = to_categorical(volcanoes_train_labels)\n",
        "test_labels = to_categorical(volcanoes_test_labels)\n",
        "\n",
        "\n",
        "# train the model. Batch size 128 and 7 epochs.\n",
        "# Each epoch sees an improvement in loss and accuracy.\n",
        "network.fit(train_images, train_labels, epochs=7, batch_size=128)\n"
      ],
      "metadata": {
        "colab": {
          "base_uri": "https://localhost:8080/"
        },
        "id": "zvbgPIHLem37",
        "outputId": "855436cb-096e-4a37-b4a6-40aa3cdda96b"
      },
      "execution_count": 30,
      "outputs": [
        {
          "output_type": "stream",
          "name": "stdout",
          "text": [
            "Epoch 1/7\n",
            "55/55 [==============================] - 7s 110ms/step - loss: 2.7476 - accuracy: 0.7560\n",
            "Epoch 2/7\n",
            "55/55 [==============================] - 6s 105ms/step - loss: 0.5407 - accuracy: 0.8447\n",
            "Epoch 3/7\n",
            "55/55 [==============================] - 6s 104ms/step - loss: 0.4559 - accuracy: 0.8571\n",
            "Epoch 4/7\n",
            "55/55 [==============================] - 6s 114ms/step - loss: 0.4280 - accuracy: 0.8571\n",
            "Epoch 5/7\n",
            "55/55 [==============================] - 5s 99ms/step - loss: 0.4243 - accuracy: 0.8571\n",
            "Epoch 6/7\n",
            "55/55 [==============================] - 6s 116ms/step - loss: 0.4218 - accuracy: 0.8573\n",
            "Epoch 7/7\n",
            "55/55 [==============================] - 5s 100ms/step - loss: 0.4188 - accuracy: 0.8573\n"
          ]
        },
        {
          "output_type": "execute_result",
          "data": {
            "text/plain": [
              "<keras.callbacks.History at 0x7f366d4fcbe0>"
            ]
          },
          "metadata": {},
          "execution_count": 30
        }
      ]
    },
    {
      "cell_type": "code",
      "source": [
        "#test the accuracy of the model\n",
        "test_loss, test_acc = network.evaluate(test_images, test_labels)\n",
        "print('test_acc:', test_acc)"
      ],
      "metadata": {
        "colab": {
          "base_uri": "https://localhost:8080/"
        },
        "id": "OOVOtCNPemiJ",
        "outputId": "1ab2ed7c-33c9-47a0-8eda-f0b84c910505"
      },
      "execution_count": 31,
      "outputs": [
        {
          "output_type": "stream",
          "name": "stdout",
          "text": [
            "86/86 [==============================] - 1s 13ms/step - loss: 0.4425 - accuracy: 0.8401\n",
            "test_acc: 0.8401024341583252\n"
          ]
        }
      ]
    },
    {
      "cell_type": "markdown",
      "metadata": {
        "id": "1oPtUCBi0HnU"
      },
      "source": [
        "#### Remix\n",
        "Remix by Ron Zacharski. Orginal Python notebook by François Chollet\n",
        "\n",
        "### MIT License\n",
        "\n",
        "Copyright (c) 2017 François Chollet\n",
        "\n",
        "Permission is hereby granted, free of charge, to any person obtaining a copy\n",
        "of this software and associated documentation files (the \"Software\"), to deal\n",
        "in the Software without restriction, including without limitation the rights\n",
        "to use, copy, modify, merge, publish, distribute, sublicense, and/or sell\n",
        "copies of the Software, and to permit persons to whom the Software is\n",
        "furnished to do so, subject to the following conditions:\n",
        "\n",
        "The above copyright notice and this permission notice shall be included in all\n",
        "copies or substantial portions of the Software.\n",
        "\n",
        "THE SOFTWARE IS PROVIDED \"AS IS\", WITHOUT WARRANTY OF ANY KIND, EXPRESS OR\n",
        "IMPLIED, INCLUDING BUT NOT LIMITED TO THE WARRANTIES OF MERCHANTABILITY,\n",
        "FITNESS FOR A PARTICULAR PURPOSE AND NONINFRINGEMENT. IN NO EVENT SHALL THE\n",
        "AUTHORS OR COPYRIGHT HOLDERS BE LIABLE FOR ANY CLAIM, DAMAGES OR OTHER\n",
        "LIABILITY, WHETHER IN AN ACTION OF CONTRACT, TORT OR OTHERWISE, ARISING FROM,\n",
        "OUT OF OR IN CONNECTION WITH THE SOFTWARE OR THE USE OR OTHER DEALINGS IN THE\n",
        "SOFTWARE."
      ]
    }
  ],
  "metadata": {
    "colab": {
      "provenance": [],
      "include_colab_link": true
    },
    "kernelspec": {
      "display_name": "Python 3 (ipykernel)",
      "language": "python",
      "name": "python3"
    },
    "language_info": {
      "codemirror_mode": {
        "name": "ipython",
        "version": 3
      },
      "file_extension": ".py",
      "mimetype": "text/x-python",
      "name": "python",
      "nbconvert_exporter": "python",
      "pygments_lexer": "ipython3",
      "version": "3.9.12"
    },
    "gpuClass": "standard"
  },
  "nbformat": 4,
  "nbformat_minor": 0
}